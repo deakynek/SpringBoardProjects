{
 "cells": [
  {
   "cell_type": "code",
   "execution_count": 1,
   "id": "178775b5",
   "metadata": {},
   "outputs": [],
   "source": [
    "import pandas as pd\n",
    "import numpy as np\n",
    "import matplotlib.pyplot as plt\n",
    "import datetime\n",
    "import json\n",
    "import ast"
   ]
  },
  {
   "cell_type": "code",
   "execution_count": 2,
   "id": "13f78957",
   "metadata": {},
   "outputs": [
    {
     "name": "stdout",
     "output_type": "stream",
     "text": [
      "credits.csv (45476, 3) : Index(['cast', 'crew', 'id'], dtype='object')\n",
      "keywords.csv (46419, 2) : Index(['id', 'keywords'], dtype='object')\n",
      "links.csv (45843, 3) : Index(['movieId', 'imdbId', 'tmdbId'], dtype='object')\n",
      "movies_metadata.csv (45466, 24) : Index(['adult', 'belongs_to_collection', 'budget', 'genres', 'homepage', 'id',\n",
      "       'imdb_id', 'original_language', 'original_title', 'overview',\n",
      "       'popularity', 'poster_path', 'production_companies',\n",
      "       'production_countries', 'release_date', 'revenue', 'runtime',\n",
      "       'spoken_languages', 'status', 'tagline', 'title', 'video',\n",
      "       'vote_average', 'vote_count'],\n",
      "      dtype='object')\n"
     ]
    },
    {
     "name": "stderr",
     "output_type": "stream",
     "text": [
      "C:\\Users\\Karl\\anaconda3\\lib\\site-packages\\IPython\\core\\interactiveshell.py:3172: DtypeWarning: Columns (10) have mixed types.Specify dtype option on import or set low_memory=False.\n",
      "  has_raised = await self.run_ast_nodes(code_ast.body, cell_name,\n"
     ]
    }
   ],
   "source": [
    "\n",
    "\n",
    "#Credits\n",
    "credits = pd.read_csv(\".\\credits.csv\")\n",
    "print(\"{0} {1} : {2}\".format(\"credits.csv\", credits.shape, credits.columns))\n",
    "#Keywords\n",
    "keywords = pd.read_csv(\".\\keywords.csv\")\n",
    "print(\"{0} {1} : {2}\".format(\"keywords.csv\", keywords.shape, keywords.columns))\n",
    "#Links\n",
    "links = pd.read_csv(\".\\links.csv\")\n",
    "print(\"{0} {1} : {2}\".format(\"links.csv\", links.shape, links.columns))\n",
    "#MetaData\n",
    "metadata = pd.read_csv(\".\\movies_metadata.csv\")\n",
    "print(\"{0} {1} : {2}\".format(\"movies_metadata.csv\", metadata.shape, metadata.columns))\n",
    "\n",
    "def check_int(value):\n",
    "    try:\n",
    "        int(value)\n",
    "        return np.NaN\n",
    "    except ValueError:\n",
    "        return value\n",
    "    \n",
    "def check_bool(value):\n",
    "    try:\n",
    "        bool(value)\n",
    "        return np.NaN\n",
    "    except ValueError:\n",
    "        return value"
   ]
  },
  {
   "cell_type": "markdown",
   "id": "6dd26fcd",
   "metadata": {},
   "source": [
    "### 1. Many types of ids in tables, verify 'id' is feature to merge on"
   ]
  },
  {
   "cell_type": "code",
   "execution_count": 3,
   "id": "492da7f1",
   "metadata": {},
   "outputs": [
    {
     "name": "stdout",
     "output_type": "stream",
     "text": [
      "Invalid Ids\n",
      "      imdb_id          id title\n",
      "19730       0  1997-08-20   NaN\n",
      "29503       0  2012-09-29   NaN\n",
      "35587       0  2014-01-01   NaN\n",
      "\n",
      "Merged Tables\n",
      "imdb_id     object\n",
      "id           int64\n",
      "title       object\n",
      "cast        object\n",
      "crew        object\n",
      "keywords    object\n",
      "dtype: object\n",
      "Index(['imdb_id', 'id', 'title', 'cast', 'crew', 'keywords'], dtype='object')\n"
     ]
    }
   ],
   "source": [
    "#Find and drop invalid data in metadata\n",
    "sub = metadata[['imdb_id','id','title']]\n",
    "\n",
    "#tried to convert 'id' in metadata to int, but couldn't\n",
    "#need to check values\n",
    "invalid = sub['id'].apply(check_int).dropna()\n",
    "print(\"Invalid Ids\")\n",
    "print(sub.loc[sub['id'].isin(invalid)])\n",
    "\n",
    "cleansub = sub.loc[~sub['id'].isin(invalid)]\n",
    "cleansub = cleansub.astype({'id':'int64'})\n",
    "credit_meta = pd.merge(cleansub, credits, on='id')\n",
    "\n",
    "credit_meta_keywords = pd.merge(credit_meta, keywords, on='id')\n",
    "\n",
    "print()\n",
    "print(\"Merged Tables\")\n",
    "print(credit_meta_keywords.dtypes)\n",
    "print(credit_meta_keywords.columns)"
   ]
  },
  {
   "cell_type": "markdown",
   "id": "748d6e17",
   "metadata": {},
   "source": [
    "##### Verified can merge on 'id', which means 'links.csv' not needed"
   ]
  },
  {
   "cell_type": "markdown",
   "id": "def00d25",
   "metadata": {},
   "source": [
    "### 2 - Extract important features from each csv, and cast to types"
   ]
  },
  {
   "cell_type": "code",
   "execution_count": 4,
   "id": "fbd5d77f",
   "metadata": {
    "scrolled": true
   },
   "outputs": [
    {
     "name": "stdout",
     "output_type": "stream",
     "text": [
      "Number of missing revenue values: 37619\n",
      "[{'iso_3166_1': 'US', 'name': 'United States of America'}]\n"
     ]
    }
   ],
   "source": [
    "metaSubset = metadata[['adult', 'budget', 'genres', 'id',\n",
    "       'original_language','popularity', 'production_companies','production_countries', \n",
    "        'release_date', 'revenue', 'runtime','spoken_languages', 'status', \n",
    "        'title', 'video','vote_average', 'vote_count']]\n",
    "\n",
    "metaSubset = metaSubset.loc[~sub['id'].isin(invalid)]\n",
    "metaSubset = metaSubset.astype({'adult':'bool', \n",
    "                                'budget':'float', \n",
    "                                'id':'int64', \n",
    "                                'original_language':'string',\n",
    "                                'popularity':'float',\n",
    "                                'runtime':'float',\n",
    "                               'title':'string',\n",
    "                               'video':'bool'})\n",
    "\n",
    "metaSubset['release_date'] = pd.to_datetime(metaSubset['release_date'])\n",
    "\n",
    "\n",
    "#cut unreleased films, then remove column\n",
    "metaSubset = metaSubset[metaSubset['status']=='Released']\n",
    "metaSubset = metaSubset.drop(columns = 'status')\n",
    "\n",
    "#missing revenue for 37619 movies out of 43000 in dataset, remove column\n",
    "print(\"Number of missing revenue values: {0}\".format(len(metaSubset[metaSubset['revenue']<= 0])))\n",
    "metaSubset = metaSubset.drop(columns= 'revenue')\n",
    "\n",
    "print(metaSubset['production_countries'][0])\n",
    "\n",
    "#genres, production_companies, production_countries come in as strings, interpret as objects(dictionaries, arrays, etc)\n",
    "metaSubset['genres'] = metaSubset['genres'].apply(ast.literal_eval)\n",
    "metaSubset['genreIds'] = metaSubset['genres'].apply(lambda x : [y['id'] for y in x])\n",
    "\n",
    "metaSubset['production_companies'] = metaSubset['production_companies'].apply(lambda x : ast.literal_eval(x))\n",
    "metaSubset['productionCompIds'] = metaSubset['production_companies'].apply(lambda x : [y['id'] for y in x])\n",
    "\n",
    "metaSubset['production_countries'] = metaSubset['production_countries'].apply(lambda x : ast.literal_eval(x))\n",
    "metaSubset['productionCountryId'] = metaSubset['production_countries'].apply(lambda x : [y['iso_3166_1'] for y in x])"
   ]
  },
  {
   "cell_type": "markdown",
   "id": "f30da981",
   "metadata": {},
   "source": [
    "### credits table\n",
    "##### (this one takes some time)"
   ]
  },
  {
   "cell_type": "code",
   "execution_count": 20,
   "id": "7369b25a",
   "metadata": {},
   "outputs": [
    {
     "name": "stdout",
     "output_type": "stream",
     "text": [
      "0    [{'id': 7879, 'job': 'Director', 'name': 'John...\n",
      "1    [{'id': 876, 'job': 'Screenplay', 'name': 'Jon...\n",
      "2    [{'id': 26502, 'job': 'Director', 'name': 'How...\n",
      "3    [{'id': 2178, 'job': 'Director', 'name': 'Fore...\n",
      "4    [{'id': 17698, 'job': 'Screenplay', 'name': 'N...\n",
      "Name: crew, dtype: object\n"
     ]
    }
   ],
   "source": [
    "creditsSub = credits[['cast', 'crew','id']]\n",
    "creditsSub = creditsSub\n",
    "\n",
    "\n",
    "def ParseCrew(crewString):\n",
    "    c = ast.literal_eval(crewString)\n",
    "    if(len(c) == 0):\n",
    "        return np.nan\n",
    "    \n",
    "    c = [ { key:value for (key,value) in x.items() if key in ['id','job','name']} \\\n",
    "          for x in c if x['job'] in ['Director', 'Screenplay','Editor']  ]\n",
    "    return c\n",
    "\n",
    "creditsSub['crew'] = creditsSub['crew'].apply(ParseCrew)\n",
    "print(creditsSub['crew'].head())\n",
    "\n",
    "\n",
    "\n",
    "def ParseCast(castString):\n",
    "    c = ast.literal_eval(castString)\n",
    "    if(len(c) == 0):\n",
    "        return np.nan\n",
    "    \n",
    "    c = [ { key:value for (key,value) in x.items() if key in ['id','name']} \\\n",
    "          for x in c]\n",
    "    return c\n",
    "    \n",
    "creditsSub['cast'] = creditsSub['cast'].apply(ParseCast)\n"
   ]
  },
  {
   "cell_type": "code",
   "execution_count": 21,
   "id": "75147b74",
   "metadata": {},
   "outputs": [
    {
     "data": {
      "text/html": [
       "<div>\n",
       "<style scoped>\n",
       "    .dataframe tbody tr th:only-of-type {\n",
       "        vertical-align: middle;\n",
       "    }\n",
       "\n",
       "    .dataframe tbody tr th {\n",
       "        vertical-align: top;\n",
       "    }\n",
       "\n",
       "    .dataframe thead th {\n",
       "        text-align: right;\n",
       "    }\n",
       "</style>\n",
       "<table border=\"1\" class=\"dataframe\">\n",
       "  <thead>\n",
       "    <tr style=\"text-align: right;\">\n",
       "      <th></th>\n",
       "      <th>cast</th>\n",
       "      <th>crew</th>\n",
       "      <th>id</th>\n",
       "    </tr>\n",
       "  </thead>\n",
       "  <tbody>\n",
       "    <tr>\n",
       "      <th>0</th>\n",
       "      <td>[{'id': 31, 'name': 'Tom Hanks'}, {'id': 12898...</td>\n",
       "      <td>[{'id': 7879, 'job': 'Director', 'name': 'John...</td>\n",
       "      <td>862</td>\n",
       "    </tr>\n",
       "    <tr>\n",
       "      <th>1</th>\n",
       "      <td>[{'id': 2157, 'name': 'Robin Williams'}, {'id'...</td>\n",
       "      <td>[{'id': 876, 'job': 'Screenplay', 'name': 'Jon...</td>\n",
       "      <td>8844</td>\n",
       "    </tr>\n",
       "    <tr>\n",
       "      <th>2</th>\n",
       "      <td>[{'id': 6837, 'name': 'Walter Matthau'}, {'id'...</td>\n",
       "      <td>[{'id': 26502, 'job': 'Director', 'name': 'How...</td>\n",
       "      <td>15602</td>\n",
       "    </tr>\n",
       "    <tr>\n",
       "      <th>3</th>\n",
       "      <td>[{'id': 8851, 'name': 'Whitney Houston'}, {'id...</td>\n",
       "      <td>[{'id': 2178, 'job': 'Director', 'name': 'Fore...</td>\n",
       "      <td>31357</td>\n",
       "    </tr>\n",
       "    <tr>\n",
       "      <th>4</th>\n",
       "      <td>[{'id': 67773, 'name': 'Steve Martin'}, {'id':...</td>\n",
       "      <td>[{'id': 17698, 'job': 'Screenplay', 'name': 'N...</td>\n",
       "      <td>11862</td>\n",
       "    </tr>\n",
       "  </tbody>\n",
       "</table>\n",
       "</div>"
      ],
      "text/plain": [
       "                                                cast  \\\n",
       "0  [{'id': 31, 'name': 'Tom Hanks'}, {'id': 12898...   \n",
       "1  [{'id': 2157, 'name': 'Robin Williams'}, {'id'...   \n",
       "2  [{'id': 6837, 'name': 'Walter Matthau'}, {'id'...   \n",
       "3  [{'id': 8851, 'name': 'Whitney Houston'}, {'id...   \n",
       "4  [{'id': 67773, 'name': 'Steve Martin'}, {'id':...   \n",
       "\n",
       "                                                crew     id  \n",
       "0  [{'id': 7879, 'job': 'Director', 'name': 'John...    862  \n",
       "1  [{'id': 876, 'job': 'Screenplay', 'name': 'Jon...   8844  \n",
       "2  [{'id': 26502, 'job': 'Director', 'name': 'How...  15602  \n",
       "3  [{'id': 2178, 'job': 'Director', 'name': 'Fore...  31357  \n",
       "4  [{'id': 17698, 'job': 'Screenplay', 'name': 'N...  11862  "
      ]
     },
     "execution_count": 21,
     "metadata": {},
     "output_type": "execute_result"
    }
   ],
   "source": [
    "creditsSub.head()"
   ]
  },
  {
   "cell_type": "markdown",
   "id": "9aca88c4",
   "metadata": {},
   "source": [
    "### keywords table"
   ]
  },
  {
   "cell_type": "code",
   "execution_count": 30,
   "id": "7b1e4f3e",
   "metadata": {},
   "outputs": [
    {
     "data": {
      "text/html": [
       "<div>\n",
       "<style scoped>\n",
       "    .dataframe tbody tr th:only-of-type {\n",
       "        vertical-align: middle;\n",
       "    }\n",
       "\n",
       "    .dataframe tbody tr th {\n",
       "        vertical-align: top;\n",
       "    }\n",
       "\n",
       "    .dataframe thead th {\n",
       "        text-align: right;\n",
       "    }\n",
       "</style>\n",
       "<table border=\"1\" class=\"dataframe\">\n",
       "  <thead>\n",
       "    <tr style=\"text-align: right;\">\n",
       "      <th></th>\n",
       "      <th>id</th>\n",
       "      <th>keywords</th>\n",
       "    </tr>\n",
       "  </thead>\n",
       "  <tbody>\n",
       "    <tr>\n",
       "      <th>0</th>\n",
       "      <td>862</td>\n",
       "      <td>[{'id': 931, 'name': 'jealousy'}, {'id': 4290,...</td>\n",
       "    </tr>\n",
       "    <tr>\n",
       "      <th>1</th>\n",
       "      <td>8844</td>\n",
       "      <td>[{'id': 10090, 'name': 'board game'}, {'id': 1...</td>\n",
       "    </tr>\n",
       "    <tr>\n",
       "      <th>2</th>\n",
       "      <td>15602</td>\n",
       "      <td>[{'id': 1495, 'name': 'fishing'}, {'id': 12392...</td>\n",
       "    </tr>\n",
       "    <tr>\n",
       "      <th>3</th>\n",
       "      <td>31357</td>\n",
       "      <td>[{'id': 818, 'name': 'based on novel'}, {'id':...</td>\n",
       "    </tr>\n",
       "    <tr>\n",
       "      <th>4</th>\n",
       "      <td>11862</td>\n",
       "      <td>[{'id': 1009, 'name': 'baby'}, {'id': 1599, 'n...</td>\n",
       "    </tr>\n",
       "  </tbody>\n",
       "</table>\n",
       "</div>"
      ],
      "text/plain": [
       "      id                                           keywords\n",
       "0    862  [{'id': 931, 'name': 'jealousy'}, {'id': 4290,...\n",
       "1   8844  [{'id': 10090, 'name': 'board game'}, {'id': 1...\n",
       "2  15602  [{'id': 1495, 'name': 'fishing'}, {'id': 12392...\n",
       "3  31357  [{'id': 818, 'name': 'based on novel'}, {'id':...\n",
       "4  11862  [{'id': 1009, 'name': 'baby'}, {'id': 1599, 'n..."
      ]
     },
     "execution_count": 30,
     "metadata": {},
     "output_type": "execute_result"
    }
   ],
   "source": [
    "keywordsSub = keywords[['id','keywords']]\n",
    "keywordsSub['keywords'] = keywordsSub['keywords'].apply(ast.literal_eval)\n",
    "keywordsSub.head()"
   ]
  },
  {
   "cell_type": "markdown",
   "id": "02eccd46",
   "metadata": {},
   "source": [
    "## Merge Tables"
   ]
  },
  {
   "cell_type": "code",
   "execution_count": 32,
   "id": "8ed4a79c",
   "metadata": {},
   "outputs": [
    {
     "data": {
      "text/plain": [
       "36200"
      ]
     },
     "execution_count": 32,
     "metadata": {},
     "output_type": "execute_result"
    }
   ],
   "source": [
    "allData = metaSubset.merge(credits, on='id')\n",
    "allData.head()\n",
    "\n",
    "len(allData[allData['budget']==0])\n"
   ]
  }
 ],
 "metadata": {
  "kernelspec": {
   "display_name": "Python 3 (ipykernel)",
   "language": "python",
   "name": "python3"
  },
  "language_info": {
   "codemirror_mode": {
    "name": "ipython",
    "version": 3
   },
   "file_extension": ".py",
   "mimetype": "text/x-python",
   "name": "python",
   "nbconvert_exporter": "python",
   "pygments_lexer": "ipython3",
   "version": "3.9.7"
  }
 },
 "nbformat": 4,
 "nbformat_minor": 5
}
