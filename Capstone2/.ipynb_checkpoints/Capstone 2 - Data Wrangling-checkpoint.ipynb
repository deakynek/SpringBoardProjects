{
 "cells": [
  {
   "cell_type": "markdown",
   "id": "2897f01f",
   "metadata": {},
   "source": [
    "#### Warning : code requres .csv files from here : https://www.kaggle.com/rounakbanik/the-movies-dataset  and a movie database api key"
   ]
  },
  {
   "cell_type": "code",
   "execution_count": 225,
   "id": "178775b5",
   "metadata": {},
   "outputs": [],
   "source": [
    "import pandas as pd\n",
    "import numpy as np\n",
    "import matplotlib.pyplot as plt\n",
    "import datetime\n",
    "import json\n",
    "import ast\n",
    "import math"
   ]
  },
  {
   "cell_type": "code",
   "execution_count": 226,
   "id": "13f78957",
   "metadata": {},
   "outputs": [
    {
     "name": "stdout",
     "output_type": "stream",
     "text": [
      "credits.csv (45476, 3) : Index(['cast', 'crew', 'id'], dtype='object')\n",
      "keywords.csv (46419, 2) : Index(['id', 'keywords'], dtype='object')\n",
      "links.csv (45843, 3) : Index(['movieId', 'imdbId', 'tmdbId'], dtype='object')\n",
      "movies_metadata.csv (45466, 24) : Index(['adult', 'belongs_to_collection', 'budget', 'genres', 'homepage', 'id',\n",
      "       'imdb_id', 'original_language', 'original_title', 'overview',\n",
      "       'popularity', 'poster_path', 'production_companies',\n",
      "       'production_countries', 'release_date', 'revenue', 'runtime',\n",
      "       'spoken_languages', 'status', 'tagline', 'title', 'video',\n",
      "       'vote_average', 'vote_count'],\n",
      "      dtype='object')\n"
     ]
    },
    {
     "name": "stderr",
     "output_type": "stream",
     "text": [
      "C:\\Users\\Karl\\anaconda3\\lib\\site-packages\\IPython\\core\\interactiveshell.py:3172: DtypeWarning: Columns (10) have mixed types.Specify dtype option on import or set low_memory=False.\n",
      "  has_raised = await self.run_ast_nodes(code_ast.body, cell_name,\n"
     ]
    }
   ],
   "source": [
    "#Credits\n",
    "credits = pd.read_csv(\".\\credits.csv\")\n",
    "print(\"{0} {1} : {2}\".format(\"credits.csv\", credits.shape, credits.columns))\n",
    "#Keywords\n",
    "keywords = pd.read_csv(\".\\keywords.csv\")\n",
    "print(\"{0} {1} : {2}\".format(\"keywords.csv\", keywords.shape, keywords.columns))\n",
    "#Links\n",
    "links = pd.read_csv(\".\\links.csv\")\n",
    "print(\"{0} {1} : {2}\".format(\"links.csv\", links.shape, links.columns))\n",
    "#MetaData\n",
    "metadata = pd.read_csv(\".\\movies_metadata.csv\")\n",
    "print(\"{0} {1} : {2}\".format(\"movies_metadata.csv\", metadata.shape, metadata.columns))\n",
    "\n",
    "def check_int(value):\n",
    "    try:\n",
    "        int(value)\n",
    "        return np.NaN\n",
    "    except ValueError:\n",
    "        return value\n",
    "    \n",
    "def check_bool(value):\n",
    "    try:\n",
    "        bool(value)\n",
    "        return np.NaN\n",
    "    except ValueError:\n",
    "        return value"
   ]
  },
  {
   "cell_type": "markdown",
   "id": "6dd26fcd",
   "metadata": {},
   "source": [
    "### 1. Many types of ids in tables, verify 'id' is feature to merge on"
   ]
  },
  {
   "cell_type": "code",
   "execution_count": 227,
   "id": "492da7f1",
   "metadata": {},
   "outputs": [
    {
     "name": "stdout",
     "output_type": "stream",
     "text": [
      "Invalid Ids\n",
      "      imdb_id          id title\n",
      "19730       0  1997-08-20   NaN\n",
      "29503       0  2012-09-29   NaN\n",
      "35587       0  2014-01-01   NaN\n",
      "\n",
      "Merged Tables\n",
      "imdb_id     object\n",
      "id           int64\n",
      "title       object\n",
      "cast        object\n",
      "crew        object\n",
      "keywords    object\n",
      "dtype: object\n",
      "Index(['imdb_id', 'id', 'title', 'cast', 'crew', 'keywords'], dtype='object')\n"
     ]
    }
   ],
   "source": [
    "#Find and drop invalid data in metadata\n",
    "sub = metadata[['imdb_id','id','title']]\n",
    "\n",
    "#tried to convert 'id' in metadata to int, but couldn't\n",
    "#need to check values\n",
    "invalid = sub['id'].apply(check_int).dropna()\n",
    "print(\"Invalid Ids\")\n",
    "print(sub.loc[sub['id'].isin(invalid)])\n",
    "\n",
    "cleansub = sub.loc[~sub['id'].isin(invalid)]\n",
    "cleansub = cleansub.astype({'id':'int64'})\n",
    "credit_meta = pd.merge(cleansub, credits, on='id')\n",
    "\n",
    "credit_meta_keywords = pd.merge(credit_meta, keywords, on='id')\n",
    "\n",
    "print()\n",
    "print(\"Merged Tables\")\n",
    "print(credit_meta_keywords.dtypes)\n",
    "print(credit_meta_keywords.columns)"
   ]
  },
  {
   "cell_type": "markdown",
   "id": "748d6e17",
   "metadata": {},
   "source": [
    "##### Verified can merge on 'id', which means 'links.csv' not needed"
   ]
  },
  {
   "cell_type": "markdown",
   "id": "def00d25",
   "metadata": {},
   "source": [
    "### 2 - Extract important features from each csv, and cast to types"
   ]
  },
  {
   "cell_type": "code",
   "execution_count": 228,
   "id": "fbd5d77f",
   "metadata": {
    "scrolled": true
   },
   "outputs": [
    {
     "name": "stdout",
     "output_type": "stream",
     "text": [
      "Number of missing revenue values: 37619\n",
      "Number of missing budget values: 36149\n",
      "[{'iso_3166_1': 'US', 'name': 'United States of America'}]\n"
     ]
    }
   ],
   "source": [
    "metaSubset = metadata[['adult', 'budget', 'genres', 'id','imdb_id',\n",
    "       'original_language','popularity', 'production_companies','production_countries', \n",
    "        'release_date', 'revenue', 'runtime','spoken_languages', 'status', \n",
    "        'title', 'video','vote_average', 'vote_count']]\n",
    "\n",
    "metaSubset = metaSubset.loc[~sub['id'].isin(invalid)]\n",
    "metaSubset = metaSubset.astype({'adult':'bool', \n",
    "                                'budget':'float', \n",
    "                                'id':'int64',\n",
    "                                'imdb_id':'string',\n",
    "                                'original_language':'string',\n",
    "                                'popularity':'float',\n",
    "                                'runtime':'float',\n",
    "                               'title':'string',\n",
    "                               'video':'bool'})\n",
    "\n",
    "metaSubset['release_date'] = pd.to_datetime(metaSubset['release_date'])\n",
    "\n",
    "\n",
    "#cut unreleased films, then remove column\n",
    "metaSubset = metaSubset[metaSubset['status']=='Released']\n",
    "metaSubset = metaSubset.drop(columns = 'status')\n",
    "\n",
    "#missing revenue for 37619 movies out of 43000 in dataset, remove column\n",
    "print(\"Number of missing revenue values: {0}\".format(len(metaSubset[metaSubset['revenue']<= 0])))\n",
    "metaSubset = metaSubset.drop(columns= 'revenue')\n",
    "\n",
    "print(\"Number of missing budget values: {0}\".format(len(metaSubset[metaSubset['budget']<= 0])))\n",
    "\n",
    "print(metaSubset['production_countries'][0])\n",
    "\n",
    "#genres, production_companies, production_countries come in as strings, interpret as objects(dictionaries, arrays, etc)\n",
    "metaSubset['genres'] = metaSubset['genres'].apply(ast.literal_eval)\n",
    "metaSubset['genreIds'] = metaSubset['genres'].apply(lambda x : [y['id'] for y in x])\n",
    "\n",
    "metaSubset['production_companies'] = metaSubset['production_companies'].apply(lambda x : ast.literal_eval(x))\n",
    "metaSubset['productionCompIds'] = metaSubset['production_companies'].apply(lambda x : [y['id'] for y in x])\n",
    "\n",
    "metaSubset['production_countries'] = metaSubset['production_countries'].apply(lambda x : ast.literal_eval(x))\n",
    "metaSubset['productionCountryId'] = metaSubset['production_countries'].apply(lambda x : [y['iso_3166_1'] for y in x])"
   ]
  },
  {
   "cell_type": "markdown",
   "id": "a84a6ab7",
   "metadata": {},
   "source": [
    "### credits table\n",
    "##### (this one takes some time)"
   ]
  },
  {
   "cell_type": "code",
   "execution_count": 229,
   "id": "7369b25a",
   "metadata": {},
   "outputs": [
    {
     "name": "stdout",
     "output_type": "stream",
     "text": [
      "0    [{'id': 7879, 'job': 'Director', 'name': 'John...\n",
      "1    [{'id': 876, 'job': 'Screenplay', 'name': 'Jon...\n",
      "2    [{'id': 26502, 'job': 'Director', 'name': 'How...\n",
      "3    [{'id': 2178, 'job': 'Director', 'name': 'Fore...\n",
      "4    [{'id': 17698, 'job': 'Screenplay', 'name': 'N...\n",
      "Name: crew, dtype: object\n"
     ]
    }
   ],
   "source": [
    "creditsSub = credits[['cast', 'crew','id']]\n",
    "creditsSub = creditsSub\n",
    "\n",
    "\n",
    "def ParseCrew(crewString):\n",
    "    c = ast.literal_eval(crewString)\n",
    "    if(len(c) == 0):\n",
    "        return []\n",
    "    \n",
    "    c = [ { key:value for (key,value) in x.items() if key in ['id','job','name']} \\\n",
    "          for x in c if x['job'] in ['Director', 'Screenplay','Editor']  ]\n",
    "    return c\n",
    "\n",
    "def GenerateCrewIds(crewArrayOfDict, job):\n",
    "    \n",
    "    if(len(crewArrayOfDict)==0):\n",
    "        return []\n",
    "    \n",
    "    jobIds = []\n",
    "    for crewMem in crewArrayOfDict:\n",
    "         if 'id' in crewMem.keys() and \\\n",
    "            'job' in crewMem.keys() and \\\n",
    "            crewMem['job'] == job:\n",
    "                jobIds.append(crewMem['id'])\n",
    "    \n",
    "    return jobIds\n",
    "\n",
    "\n",
    "creditsSub['crew'] = creditsSub['crew'].apply(ParseCrew)\n",
    "creditsSub['Ids_Director'] = creditsSub['crew'].apply(lambda x : GenerateCrewIds(x,'Director'))\n",
    "creditsSub['Ids_Screenplay'] = creditsSub['crew'].apply(lambda x : GenerateCrewIds(x,'Screenplay'))\n",
    "creditsSub['Ids_Editor'] = creditsSub['crew'].apply(lambda x : GenerateCrewIds(x,'Editor'))\n",
    "\n",
    "print(creditsSub['crew'].head())\n",
    "\n",
    "\n",
    "def ParseCast(castString):\n",
    "    c = ast.literal_eval(castString)\n",
    "    if(len(c) == 0):\n",
    "        return []\n",
    "    \n",
    "    c = [ { key:value for (key,value) in x.items() if key in ['id','name']} \\\n",
    "          for x in c]\n",
    "    return c\n",
    "    \n",
    "def GenerateCastIds(castArrayOfDict):\n",
    "    if(len(castArrayOfDict)==0):\n",
    "        return []\n",
    "    \n",
    "    castIds = []\n",
    "    for castMember in castArrayOfDict:\n",
    "         if 'id' in castMember.keys():\n",
    "                castIds.append(castMember['id'])\n",
    "                \n",
    "    return castIds \n",
    "    \n",
    "creditsSub['cast'] = creditsSub['cast'].apply(ParseCast)\n",
    "creditsSub['Ids_Cast'] = creditsSub['cast'].apply(GenerateCastIds)\n"
   ]
  },
  {
   "cell_type": "code",
   "execution_count": 230,
   "id": "8db452b1",
   "metadata": {},
   "outputs": [
    {
     "data": {
      "text/html": [
       "<div>\n",
       "<style scoped>\n",
       "    .dataframe tbody tr th:only-of-type {\n",
       "        vertical-align: middle;\n",
       "    }\n",
       "\n",
       "    .dataframe tbody tr th {\n",
       "        vertical-align: top;\n",
       "    }\n",
       "\n",
       "    .dataframe thead th {\n",
       "        text-align: right;\n",
       "    }\n",
       "</style>\n",
       "<table border=\"1\" class=\"dataframe\">\n",
       "  <thead>\n",
       "    <tr style=\"text-align: right;\">\n",
       "      <th></th>\n",
       "      <th>cast</th>\n",
       "      <th>crew</th>\n",
       "      <th>id</th>\n",
       "      <th>Ids_Director</th>\n",
       "      <th>Ids_Screenplay</th>\n",
       "      <th>Ids_Editor</th>\n",
       "      <th>Ids_Cast</th>\n",
       "    </tr>\n",
       "  </thead>\n",
       "  <tbody>\n",
       "    <tr>\n",
       "      <th>0</th>\n",
       "      <td>[{'id': 31, 'name': 'Tom Hanks'}, {'id': 12898...</td>\n",
       "      <td>[{'id': 7879, 'job': 'Director', 'name': 'John...</td>\n",
       "      <td>862</td>\n",
       "      <td>[7879]</td>\n",
       "      <td>[12891, 7, 12892, 12893]</td>\n",
       "      <td>[8, 1168870]</td>\n",
       "      <td>[31, 12898, 7167, 12899, 12900, 7907, 8873, 11...</td>\n",
       "    </tr>\n",
       "    <tr>\n",
       "      <th>1</th>\n",
       "      <td>[{'id': 2157, 'name': 'Robin Williams'}, {'id'...</td>\n",
       "      <td>[{'id': 876, 'job': 'Screenplay', 'name': 'Jon...</td>\n",
       "      <td>8844</td>\n",
       "      <td>[4945]</td>\n",
       "      <td>[876, 56520, 56521]</td>\n",
       "      <td>[4951]</td>\n",
       "      <td>[2157, 8537, 205, 145151, 5149, 10739, 58563, ...</td>\n",
       "    </tr>\n",
       "    <tr>\n",
       "      <th>2</th>\n",
       "      <td>[{'id': 6837, 'name': 'Walter Matthau'}, {'id'...</td>\n",
       "      <td>[{'id': 26502, 'job': 'Director', 'name': 'How...</td>\n",
       "      <td>15602</td>\n",
       "      <td>[26502]</td>\n",
       "      <td>[]</td>\n",
       "      <td>[]</td>\n",
       "      <td>[6837, 3151, 13567, 16757, 589, 16523, 7166]</td>\n",
       "    </tr>\n",
       "    <tr>\n",
       "      <th>3</th>\n",
       "      <td>[{'id': 8851, 'name': 'Whitney Houston'}, {'id...</td>\n",
       "      <td>[{'id': 2178, 'job': 'Director', 'name': 'Fore...</td>\n",
       "      <td>31357</td>\n",
       "      <td>[2178]</td>\n",
       "      <td>[5144, 111118]</td>\n",
       "      <td>[]</td>\n",
       "      <td>[8851, 9780, 18284, 51359, 66804, 352, 87118, ...</td>\n",
       "    </tr>\n",
       "    <tr>\n",
       "      <th>4</th>\n",
       "      <td>[{'id': 67773, 'name': 'Steve Martin'}, {'id':...</td>\n",
       "      <td>[{'id': 17698, 'job': 'Screenplay', 'name': 'N...</td>\n",
       "      <td>11862</td>\n",
       "      <td>[56106]</td>\n",
       "      <td>[17698, 26160]</td>\n",
       "      <td>[68755]</td>\n",
       "      <td>[67773, 3092, 519, 70696, 59222, 18793, 14592,...</td>\n",
       "    </tr>\n",
       "  </tbody>\n",
       "</table>\n",
       "</div>"
      ],
      "text/plain": [
       "                                                cast  \\\n",
       "0  [{'id': 31, 'name': 'Tom Hanks'}, {'id': 12898...   \n",
       "1  [{'id': 2157, 'name': 'Robin Williams'}, {'id'...   \n",
       "2  [{'id': 6837, 'name': 'Walter Matthau'}, {'id'...   \n",
       "3  [{'id': 8851, 'name': 'Whitney Houston'}, {'id...   \n",
       "4  [{'id': 67773, 'name': 'Steve Martin'}, {'id':...   \n",
       "\n",
       "                                                crew     id Ids_Director  \\\n",
       "0  [{'id': 7879, 'job': 'Director', 'name': 'John...    862       [7879]   \n",
       "1  [{'id': 876, 'job': 'Screenplay', 'name': 'Jon...   8844       [4945]   \n",
       "2  [{'id': 26502, 'job': 'Director', 'name': 'How...  15602      [26502]   \n",
       "3  [{'id': 2178, 'job': 'Director', 'name': 'Fore...  31357       [2178]   \n",
       "4  [{'id': 17698, 'job': 'Screenplay', 'name': 'N...  11862      [56106]   \n",
       "\n",
       "             Ids_Screenplay    Ids_Editor  \\\n",
       "0  [12891, 7, 12892, 12893]  [8, 1168870]   \n",
       "1       [876, 56520, 56521]        [4951]   \n",
       "2                        []            []   \n",
       "3            [5144, 111118]            []   \n",
       "4            [17698, 26160]       [68755]   \n",
       "\n",
       "                                            Ids_Cast  \n",
       "0  [31, 12898, 7167, 12899, 12900, 7907, 8873, 11...  \n",
       "1  [2157, 8537, 205, 145151, 5149, 10739, 58563, ...  \n",
       "2       [6837, 3151, 13567, 16757, 589, 16523, 7166]  \n",
       "3  [8851, 9780, 18284, 51359, 66804, 352, 87118, ...  \n",
       "4  [67773, 3092, 519, 70696, 59222, 18793, 14592,...  "
      ]
     },
     "execution_count": 230,
     "metadata": {},
     "output_type": "execute_result"
    }
   ],
   "source": [
    "creditsSub.head()"
   ]
  },
  {
   "cell_type": "markdown",
   "id": "be54066d",
   "metadata": {},
   "source": [
    "### keywords table"
   ]
  },
  {
   "cell_type": "code",
   "execution_count": 231,
   "id": "2305f4a0",
   "metadata": {},
   "outputs": [
    {
     "data": {
      "text/html": [
       "<div>\n",
       "<style scoped>\n",
       "    .dataframe tbody tr th:only-of-type {\n",
       "        vertical-align: middle;\n",
       "    }\n",
       "\n",
       "    .dataframe tbody tr th {\n",
       "        vertical-align: top;\n",
       "    }\n",
       "\n",
       "    .dataframe thead th {\n",
       "        text-align: right;\n",
       "    }\n",
       "</style>\n",
       "<table border=\"1\" class=\"dataframe\">\n",
       "  <thead>\n",
       "    <tr style=\"text-align: right;\">\n",
       "      <th></th>\n",
       "      <th>id</th>\n",
       "      <th>keywords</th>\n",
       "      <th>Ids_Keywords</th>\n",
       "    </tr>\n",
       "  </thead>\n",
       "  <tbody>\n",
       "    <tr>\n",
       "      <th>0</th>\n",
       "      <td>862</td>\n",
       "      <td>[{'id': 931, 'name': 'jealousy'}, {'id': 4290,...</td>\n",
       "      <td>[931, 4290, 5202, 6054, 9713, 9823, 165503, 17...</td>\n",
       "    </tr>\n",
       "    <tr>\n",
       "      <th>1</th>\n",
       "      <td>8844</td>\n",
       "      <td>[{'id': 10090, 'name': 'board game'}, {'id': 1...</td>\n",
       "      <td>[10090, 10941, 15101, 33467, 158086, 158091]</td>\n",
       "    </tr>\n",
       "    <tr>\n",
       "      <th>2</th>\n",
       "      <td>15602</td>\n",
       "      <td>[{'id': 1495, 'name': 'fishing'}, {'id': 12392...</td>\n",
       "      <td>[1495, 12392, 179431, 208510]</td>\n",
       "    </tr>\n",
       "    <tr>\n",
       "      <th>3</th>\n",
       "      <td>31357</td>\n",
       "      <td>[{'id': 818, 'name': 'based on novel'}, {'id':...</td>\n",
       "      <td>[818, 10131, 14768, 15160, 33455]</td>\n",
       "    </tr>\n",
       "    <tr>\n",
       "      <th>4</th>\n",
       "      <td>11862</td>\n",
       "      <td>[{'id': 1009, 'name': 'baby'}, {'id': 1599, 'n...</td>\n",
       "      <td>[1009, 1599, 2246, 4995, 5600, 10707, 13149, 3...</td>\n",
       "    </tr>\n",
       "  </tbody>\n",
       "</table>\n",
       "</div>"
      ],
      "text/plain": [
       "      id                                           keywords  \\\n",
       "0    862  [{'id': 931, 'name': 'jealousy'}, {'id': 4290,...   \n",
       "1   8844  [{'id': 10090, 'name': 'board game'}, {'id': 1...   \n",
       "2  15602  [{'id': 1495, 'name': 'fishing'}, {'id': 12392...   \n",
       "3  31357  [{'id': 818, 'name': 'based on novel'}, {'id':...   \n",
       "4  11862  [{'id': 1009, 'name': 'baby'}, {'id': 1599, 'n...   \n",
       "\n",
       "                                        Ids_Keywords  \n",
       "0  [931, 4290, 5202, 6054, 9713, 9823, 165503, 17...  \n",
       "1       [10090, 10941, 15101, 33467, 158086, 158091]  \n",
       "2                      [1495, 12392, 179431, 208510]  \n",
       "3                  [818, 10131, 14768, 15160, 33455]  \n",
       "4  [1009, 1599, 2246, 4995, 5600, 10707, 13149, 3...  "
      ]
     },
     "execution_count": 231,
     "metadata": {},
     "output_type": "execute_result"
    }
   ],
   "source": [
    "def GenerateKeywordIds(keywordArrayOfDict):\n",
    "    if(len(keywordArrayOfDict)==0):\n",
    "        return []\n",
    "    \n",
    "    keywordIds = []\n",
    "    for keyword in keywordArrayOfDict:\n",
    "         if 'id' in keyword.keys():\n",
    "                keywordIds.append(keyword['id'])\n",
    "                \n",
    "    return keywordIds\n",
    "\n",
    "keywordsSub = keywords[['id','keywords']]\n",
    "keywordsSub['keywords'] = keywordsSub['keywords'].apply(ast.literal_eval)\n",
    "keywordsSub['Ids_Keywords'] = keywordsSub['keywords'].apply(GenerateKeywordIds)\n",
    "keywordsSub.head()"
   ]
  },
  {
   "cell_type": "markdown",
   "id": "f90268f9",
   "metadata": {},
   "source": [
    "## Merge Tables"
   ]
  },
  {
   "cell_type": "code",
   "execution_count": 232,
   "id": "816b9487",
   "metadata": {},
   "outputs": [
    {
     "data": {
      "text/html": [
       "<div>\n",
       "<style scoped>\n",
       "    .dataframe tbody tr th:only-of-type {\n",
       "        vertical-align: middle;\n",
       "    }\n",
       "\n",
       "    .dataframe tbody tr th {\n",
       "        vertical-align: top;\n",
       "    }\n",
       "\n",
       "    .dataframe thead th {\n",
       "        text-align: right;\n",
       "    }\n",
       "</style>\n",
       "<table border=\"1\" class=\"dataframe\">\n",
       "  <thead>\n",
       "    <tr style=\"text-align: right;\">\n",
       "      <th></th>\n",
       "      <th>adult</th>\n",
       "      <th>budget</th>\n",
       "      <th>genres</th>\n",
       "      <th>id</th>\n",
       "      <th>imdb_id</th>\n",
       "      <th>original_language</th>\n",
       "      <th>popularity</th>\n",
       "      <th>production_companies</th>\n",
       "      <th>production_countries</th>\n",
       "      <th>release_date</th>\n",
       "      <th>...</th>\n",
       "      <th>productionCompIds</th>\n",
       "      <th>productionCountryId</th>\n",
       "      <th>cast</th>\n",
       "      <th>crew</th>\n",
       "      <th>Ids_Director</th>\n",
       "      <th>Ids_Screenplay</th>\n",
       "      <th>Ids_Editor</th>\n",
       "      <th>Ids_Cast</th>\n",
       "      <th>keywords</th>\n",
       "      <th>Ids_Keywords</th>\n",
       "    </tr>\n",
       "  </thead>\n",
       "  <tbody>\n",
       "    <tr>\n",
       "      <th>0</th>\n",
       "      <td>True</td>\n",
       "      <td>30000000.0</td>\n",
       "      <td>[{'id': 16, 'name': 'Animation'}, {'id': 35, '...</td>\n",
       "      <td>862</td>\n",
       "      <td>tt0114709</td>\n",
       "      <td>en</td>\n",
       "      <td>21.946943</td>\n",
       "      <td>[{'name': 'Pixar Animation Studios', 'id': 3}]</td>\n",
       "      <td>[{'iso_3166_1': 'US', 'name': 'United States o...</td>\n",
       "      <td>1995-10-30</td>\n",
       "      <td>...</td>\n",
       "      <td>[3]</td>\n",
       "      <td>[US]</td>\n",
       "      <td>[{'id': 31, 'name': 'Tom Hanks'}, {'id': 12898...</td>\n",
       "      <td>[{'id': 7879, 'job': 'Director', 'name': 'John...</td>\n",
       "      <td>[7879]</td>\n",
       "      <td>[12891, 7, 12892, 12893]</td>\n",
       "      <td>[8, 1168870]</td>\n",
       "      <td>[31, 12898, 7167, 12899, 12900, 7907, 8873, 11...</td>\n",
       "      <td>[{'id': 931, 'name': 'jealousy'}, {'id': 4290,...</td>\n",
       "      <td>[931, 4290, 5202, 6054, 9713, 9823, 165503, 17...</td>\n",
       "    </tr>\n",
       "    <tr>\n",
       "      <th>1</th>\n",
       "      <td>True</td>\n",
       "      <td>65000000.0</td>\n",
       "      <td>[{'id': 12, 'name': 'Adventure'}, {'id': 14, '...</td>\n",
       "      <td>8844</td>\n",
       "      <td>tt0113497</td>\n",
       "      <td>en</td>\n",
       "      <td>17.015539</td>\n",
       "      <td>[{'name': 'TriStar Pictures', 'id': 559}, {'na...</td>\n",
       "      <td>[{'iso_3166_1': 'US', 'name': 'United States o...</td>\n",
       "      <td>1995-12-15</td>\n",
       "      <td>...</td>\n",
       "      <td>[559, 2550, 10201]</td>\n",
       "      <td>[US]</td>\n",
       "      <td>[{'id': 2157, 'name': 'Robin Williams'}, {'id'...</td>\n",
       "      <td>[{'id': 876, 'job': 'Screenplay', 'name': 'Jon...</td>\n",
       "      <td>[4945]</td>\n",
       "      <td>[876, 56520, 56521]</td>\n",
       "      <td>[4951]</td>\n",
       "      <td>[2157, 8537, 205, 145151, 5149, 10739, 58563, ...</td>\n",
       "      <td>[{'id': 10090, 'name': 'board game'}, {'id': 1...</td>\n",
       "      <td>[10090, 10941, 15101, 33467, 158086, 158091]</td>\n",
       "    </tr>\n",
       "  </tbody>\n",
       "</table>\n",
       "<p>2 rows × 27 columns</p>\n",
       "</div>"
      ],
      "text/plain": [
       "   adult      budget                                             genres    id  \\\n",
       "0   True  30000000.0  [{'id': 16, 'name': 'Animation'}, {'id': 35, '...   862   \n",
       "1   True  65000000.0  [{'id': 12, 'name': 'Adventure'}, {'id': 14, '...  8844   \n",
       "\n",
       "     imdb_id original_language  popularity  \\\n",
       "0  tt0114709                en   21.946943   \n",
       "1  tt0113497                en   17.015539   \n",
       "\n",
       "                                production_companies  \\\n",
       "0     [{'name': 'Pixar Animation Studios', 'id': 3}]   \n",
       "1  [{'name': 'TriStar Pictures', 'id': 559}, {'na...   \n",
       "\n",
       "                                production_countries release_date  ...  \\\n",
       "0  [{'iso_3166_1': 'US', 'name': 'United States o...   1995-10-30  ...   \n",
       "1  [{'iso_3166_1': 'US', 'name': 'United States o...   1995-12-15  ...   \n",
       "\n",
       "    productionCompIds productionCountryId  \\\n",
       "0                 [3]                [US]   \n",
       "1  [559, 2550, 10201]                [US]   \n",
       "\n",
       "                                                cast  \\\n",
       "0  [{'id': 31, 'name': 'Tom Hanks'}, {'id': 12898...   \n",
       "1  [{'id': 2157, 'name': 'Robin Williams'}, {'id'...   \n",
       "\n",
       "                                                crew  Ids_Director  \\\n",
       "0  [{'id': 7879, 'job': 'Director', 'name': 'John...        [7879]   \n",
       "1  [{'id': 876, 'job': 'Screenplay', 'name': 'Jon...        [4945]   \n",
       "\n",
       "             Ids_Screenplay    Ids_Editor  \\\n",
       "0  [12891, 7, 12892, 12893]  [8, 1168870]   \n",
       "1       [876, 56520, 56521]        [4951]   \n",
       "\n",
       "                                            Ids_Cast  \\\n",
       "0  [31, 12898, 7167, 12899, 12900, 7907, 8873, 11...   \n",
       "1  [2157, 8537, 205, 145151, 5149, 10739, 58563, ...   \n",
       "\n",
       "                                            keywords  \\\n",
       "0  [{'id': 931, 'name': 'jealousy'}, {'id': 4290,...   \n",
       "1  [{'id': 10090, 'name': 'board game'}, {'id': 1...   \n",
       "\n",
       "                                        Ids_Keywords  \n",
       "0  [931, 4290, 5202, 6054, 9713, 9823, 165503, 17...  \n",
       "1       [10090, 10941, 15101, 33467, 158086, 158091]  \n",
       "\n",
       "[2 rows x 27 columns]"
      ]
     },
     "execution_count": 232,
     "metadata": {},
     "output_type": "execute_result"
    }
   ],
   "source": [
    "allData = metaSubset.merge(creditsSub, on='id')\n",
    "allData = allData.merge(keywordsSub, on='id')\n",
    "\n",
    "allData.head(2)"
   ]
  },
  {
   "cell_type": "markdown",
   "id": "c2503273",
   "metadata": {},
   "source": [
    "## Make Numeric Columns out of dictionary columns"
   ]
  },
  {
   "cell_type": "markdown",
   "id": "441ff76b",
   "metadata": {},
   "source": [
    "### 1) Make Numeric Cast Columns"
   ]
  },
  {
   "cell_type": "code",
   "execution_count": 233,
   "id": "11778c63",
   "metadata": {
    "scrolled": false
   },
   "outputs": [
    {
     "name": "stdout",
     "output_type": "stream",
     "text": [
      "        id  actorsTot_AveRating  actorsTot_RankedAveRating  actorsTot_VoteAve  \\\n",
      "18  105157             4.800000                   9.600000           4.800000   \n",
      "29  104396             3.550000                   3.550000           3.925000   \n",
      "48  129865             5.400000                   5.400000           5.400000   \n",
      "53  133063            10.966667                  16.433333          11.045238   \n",
      "55  104471             5.775000                   5.775000           5.997101   \n",
      "\n",
      "    actorsTot_RankedVoteAve  actorsTot_HistAve  actorsTot_RankedHistAve  \n",
      "18                 9.600000           4.800000                 9.600000  \n",
      "29                 3.925000           6.472571                 6.472571  \n",
      "48                 5.400000           5.400000                 5.400000  \n",
      "53                16.590476          21.900000                38.300000  \n",
      "55                 5.997101          16.546448                16.546448  \n"
     ]
    }
   ],
   "source": [
    "def GenerateCastPrestigeDataFrame(allMovies):\n",
    "\n",
    "    ArrayOfDicts = []\n",
    "    releaseOrder = allMovies.sort_values(by='release_date')\n",
    "    \n",
    "    for i in range(len(releaseOrder)):\n",
    "        thisRow = releaseOrder.iloc[i]\n",
    "        \n",
    "        thisDict = {}\n",
    "        thisDict['id'] = thisRow['id']\n",
    "        thisDict['actorsTot_AveRating'] = np.nan\n",
    "        thisDict['actorsTot_RankedAveRating'] = np.nan    \n",
    "        thisDict['actorsTot_VoteAve'] = np.nan\n",
    "        thisDict['actorsTot_RankedVoteAve'] = np.nan    \n",
    "        thisDict['actorsTot_HistAve'] = np.nan\n",
    "        thisDict['actorsTot_RankedHistAve'] = np.nan\n",
    "        \n",
    "        previousMovies = releaseOrder.iloc[0:i]\n",
    "        previousCast = previousMovies[previousMovies['cast'].notnull()]\n",
    "        \n",
    "        cast = thisRow['cast']\n",
    "        \n",
    "        if type(cast) is list:\n",
    "            totRating = []\n",
    "            totVoteAve =[]\n",
    "            totActHistAve = []\n",
    "            \n",
    "            totRankedRating = []\n",
    "            totRankedVoteAve =[]\n",
    "            totRankedActHistAve = []            \n",
    "            \n",
    "            for j in range(len(cast)):\n",
    "            \n",
    "                actor = cast[j]\n",
    "                \n",
    "                actorMoviesTilNow = previousMovies[[actor['id'] in x for x in previousCast['Ids_Cast']]]\n",
    "                \n",
    "                if len(actorMoviesTilNow) == 0:\n",
    "                    continue\n",
    "                \n",
    "                \n",
    "                thisActorRatingAve = sum(actorMoviesTilNow['vote_average']) / len(actorMoviesTilNow['vote_average'])\n",
    "                totRating.append(thisActorRatingAve)\n",
    "                totRankedRating.append(thisActorRatingAve*(len(cast)-j))\n",
    "                \n",
    "                if sum(actorMoviesTilNow['vote_count'])>0:\n",
    "                    thisActorVoteAve = sum(actorMoviesTilNow['vote_average'] * actorMoviesTilNow['vote_count']) / sum(actorMoviesTilNow['vote_count'])\n",
    "                    totVoteAve.append(thisActorVoteAve)\n",
    "                    totRankedVoteAve.append(thisActorVoteAve*(len(cast)-j))\n",
    "\n",
    "                \n",
    "                timeDiff = (thisRow['release_date'] - actorMoviesTilNow.iloc[0]['release_date']).total_seconds()\n",
    "                if timeDiff >0:\n",
    "                    thisActorHistAve = sum(actorMoviesTilNow['vote_average'] *actorMoviesTilNow['release_date'].apply(lambda x: (thisRow['release_date']-x).total_seconds())/timeDiff)\n",
    "                    totActHistAve.append(thisActorHistAve)\n",
    "                    totRankedActHistAve.append(thisActorHistAve*(len(cast)-j))\n",
    "                \n",
    "            if len(totRating)>0:\n",
    "                thisDict['actorsTot_AveRating'] = sum(totRating)\n",
    "            if len(totRankedRating)>0:\n",
    "                thisDict['actorsTot_RankedAveRating'] = sum(totRankedRating)\n",
    "            \n",
    "            if len(totVoteAve)>0:\n",
    "                thisDict['actorsTot_VoteAve'] = sum(totVoteAve)\n",
    "            if len(totRankedVoteAve)>0:\n",
    "                thisDict['actorsTot_RankedVoteAve'] = sum(totRankedVoteAve)\n",
    "            \n",
    "            if len(totActHistAve)>0:\n",
    "                thisDict['actorsTot_HistAve'] = sum(totActHistAve)\n",
    "            if len(totRankedActHistAve)>0:\n",
    "                thisDict['actorsTot_RankedHistAve'] = sum(totRankedActHistAve)\n",
    "            \n",
    "            \n",
    "            ArrayOfDicts.append(thisDict)\n",
    "        \n",
    "        if(i %(len(releaseOrder)//1000) == 0):\n",
    "            print(\"{0} percent\".format(i*100/len(releaseOrder)))\n",
    "    return pd.DataFrame(ArrayOfDicts)\n",
    "\n",
    "if(exists('./ActorNumeric.csv')):\n",
    "    actorNumericPrestige = pd.read_csv('./ActorNumeric.csv')\n",
    "else:\n",
    "    actorNumericPrestige = GenerateCastPrestigeDataFrame(allData)\n",
    "    actorRankingFile = \"ActorNumeric.csv\"\n",
    "    actorNumericPrestige.to_csv(actorRankingFile, sep=',', index=False)    \n",
    "\n",
    "print(actorNumericPrestige.dropna().head())"
   ]
  },
  {
   "cell_type": "markdown",
   "id": "b1fa4e9f",
   "metadata": {},
   "source": [
    "### 2) Make Numeric Crew Columns"
   ]
  },
  {
   "cell_type": "code",
   "execution_count": 234,
   "id": "99711148",
   "metadata": {},
   "outputs": [
    {
     "name": "stdout",
     "output_type": "stream",
     "text": [
      "        id  directorTot_AveRating  directorTot_RankedAveRating  \\\n",
      "275   2078               5.900000                    55.790898   \n",
      "279   2077               5.966667                    60.349332   \n",
      "287  47650               5.990909                    64.046357   \n",
      "298  31819               6.108000                    82.546230   \n",
      "507   1405               6.133333                    11.292998   \n",
      "\n",
      "     screenwriterTot_AveRating  screenwriterTot_RankedAveRating  \\\n",
      "275                   6.100000                         6.100000   \n",
      "279                   6.250000                        10.530769   \n",
      "287                   6.333333                        13.495000   \n",
      "298                  12.800000                        12.800000   \n",
      "507                  12.600000                        12.600000   \n",
      "\n",
      "     editorTot_AveRating  editorTot_RankedAveRating  \n",
      "275             6.220000                  11.875131  \n",
      "279             6.328571                  14.646688  \n",
      "287             6.350000                  17.240410  \n",
      "298             6.530000                  29.819142  \n",
      "507             6.600000                   6.600000  \n"
     ]
    }
   ],
   "source": [
    "def GenerateCrewPrestigeDataFrame(allMovies):\n",
    "\n",
    "    ArrayOfDicts = []\n",
    "    releaseOrder = allMovies.sort_values(by='release_date')\n",
    "    \n",
    "    for i in range(len(releaseOrder)):\n",
    "        thisRow = releaseOrder.iloc[i]\n",
    "        \n",
    "        thisDict = {}\n",
    "        thisDict['id'] = thisRow['id']\n",
    "        thisDict['directorTot_AveRating'] = np.nan\n",
    "        thisDict['directorTot_RankedAveRating'] = np.nan\n",
    "        thisDict['directorTot_RankedAveRating'] = np.nan\n",
    "        thisDict['screenwriterTot_AveRating'] = np.nan\n",
    "        thisDict['screenwriterTot_RankedAveRating'] = np.nan\n",
    "        thisDict['screenwriterTot_RankedAveRating'] = np.nan\n",
    "        thisDict['editorTot_AveRating'] = np.nan\n",
    "        thisDict['editorTot_RankedAveRating'] = np.nan\n",
    "        thisDict['editorTot_RankedAveRating'] = np.nan\n",
    "        \n",
    "        previousMovies = releaseOrder.iloc[0:i]\n",
    "        previousCast = previousMovies[previousMovies['crew'].notnull()]\n",
    "        \n",
    "        crew = thisRow['crew']\n",
    "        \n",
    "        if type(crew) is list:\n",
    "            totRatingDir = []\n",
    "            totVoteAveDir =[]\n",
    "            totActHistAveDir = []\n",
    "            \n",
    "            totRatingScr = []\n",
    "            totVoteAveScr =[]\n",
    "            totActHistAveScr = []\n",
    "            \n",
    "            totRatingEdt = []\n",
    "            totVoteAveEdt =[]\n",
    "            totActHistAveEdt = []\n",
    "                       \n",
    "            \n",
    "            for j in range(len(crew)):\n",
    "            \n",
    "                crewMem = crew[j]\n",
    "                if 'job' in crewMem.keys():\n",
    "                    temp = \"nothing\"\n",
    "                else:\n",
    "                    continue\n",
    "                \n",
    "                moviesTilNow = None\n",
    "                if(crewMem['job']=='Director'):\n",
    "                    moviesTilNow = previousMovies[[crewMem['id'] in x for x in previousCast['Ids_Director']]]\n",
    "                elif(crewMem['job']=='Screenplay'):\n",
    "                    moviesTilNow = previousMovies[[crewMem['id'] in x for x in previousCast['Ids_Screenplay']]]\n",
    "                elif(crewMem['job']=='Editor'):\n",
    "                    moviesTilNow = previousMovies[[crewMem['id'] in x for x in previousCast['Ids_Editor']]]\n",
    "                else:\n",
    "                    continue\n",
    "                \n",
    "                if len(moviesTilNow)==0:\n",
    "                    continue\n",
    "                \n",
    "                thisCrewMemRatingAve = sum(moviesTilNow['vote_average']) / len(moviesTilNow['vote_average'])\n",
    "                \n",
    "                if sum(moviesTilNow['vote_count'])>0:\n",
    "                    thisCrewMemVoteAve = sum(moviesTilNow['vote_average'] * moviesTilNow['vote_count']) / sum(moviesTilNow['vote_count'])\n",
    "                \n",
    "                timeDiff = (thisRow['release_date'] - moviesTilNow.iloc[0]['release_date']).total_seconds()\n",
    "                if timeDiff >0:\n",
    "                    thisCrewMemHistAve = sum(moviesTilNow['vote_average'] *moviesTilNow['release_date'].apply(lambda x: (thisRow['release_date']-x).total_seconds())/timeDiff)\n",
    "                    \n",
    "                if(crewMem['job']=='Director'):\n",
    "                    totRatingDir.append(thisCrewMemRatingAve)\n",
    "                    totVoteAveDir.append(thisCrewMemVoteAve)\n",
    "                    totActHistAveDir.append(thisCrewMemHistAve)\n",
    "                elif(crewMem['job']=='Screenplay'):\n",
    "                    totRatingScr.append(thisCrewMemRatingAve)\n",
    "                    totVoteAveScr.append(thisCrewMemVoteAve)\n",
    "                    totActHistAveScr.append(thisCrewMemHistAve)  \n",
    "                elif(crewMem['job']=='Editor'):\n",
    "                    totRatingEdt.append(thisCrewMemRatingAve)\n",
    "                    totVoteAveEdt.append(thisCrewMemVoteAve)\n",
    "                    totActHistAveEdt.append(thisCrewMemHistAve) \n",
    "                \n",
    "            if len(totRatingDir)>0:\n",
    "                thisDict['directorTot_AveRating'] = sum(totRatingDir)\n",
    "            if len(totVoteAveDir)>0:\n",
    "                thisDict['directorTot_RankedAveRating'] = sum(totVoteAveDir)\n",
    "            if len(totActHistAveDir)>0:\n",
    "                thisDict['directorTot_RankedAveRating'] = sum(totActHistAveDir)\n",
    "            \n",
    "            if len(totRatingScr)>0:\n",
    "                thisDict['screenwriterTot_AveRating'] = sum(totRatingScr)\n",
    "            if len(totVoteAveScr)>0:\n",
    "                thisDict['screenwriterTot_RankedAveRating'] = sum(totVoteAveScr)\n",
    "            if len(totActHistAveScr)>0:\n",
    "                thisDict['screenwriterTot_RankedAveRating'] = sum(totActHistAveScr)\n",
    "            \n",
    "            if len(totRatingEdt)>0:\n",
    "                thisDict['editorTot_AveRating'] = sum(totRatingEdt)\n",
    "            if len(totVoteAveEdt)>0:\n",
    "                thisDict['editorTot_RankedAveRating'] = sum(totVoteAveEdt)\n",
    "            if len(totActHistAveEdt)>0:\n",
    "                thisDict['editorTot_RankedAveRating'] = sum(totActHistAveEdt)\n",
    "            \n",
    "            \n",
    "            ArrayOfDicts.append(thisDict)\n",
    "        \n",
    "        if(i %(len(releaseOrder)//1000) == 0):\n",
    "            print(\"{0} percent\".format(i*100/len(releaseOrder)))\n",
    "    return pd.DataFrame(ArrayOfDicts)\n",
    "\n",
    "if(exists('./CrewNumeric.csv')):\n",
    "    crewPrestige = pd.read_csv('./CrewNumeric.csv')\n",
    "else:\n",
    "    crewPrestige = GenerateCrewPrestigeDataFrame(allData)\n",
    "    crewRankingFile = \"CrewNumeric.csv\"\n",
    "    crewPrestige.to_csv(crewRankingFile, sep=',', index=False)    \n",
    "\n",
    "print(crewPrestige.dropna().head())"
   ]
  },
  {
   "cell_type": "markdown",
   "id": "6d4c6a40",
   "metadata": {},
   "source": [
    "### 3) Make Keyword and Genre Numeric Columns"
   ]
  },
  {
   "cell_type": "code",
   "execution_count": 235,
   "id": "d843caf8",
   "metadata": {},
   "outputs": [
    {
     "name": "stdout",
     "output_type": "stream",
     "text": [
      "      id  keywordTot_AveRating  genreTot_RankedAveRating\n",
      "0    862              6.378346                  5.913436\n",
      "1   8844              6.078460                  5.739320\n",
      "2  15602              6.144337                  5.756752\n",
      "3  31357              5.532416                  5.803492\n",
      "4  11862              6.111530                  5.712745\n"
     ]
    }
   ],
   "source": [
    "def GenerateKeyWordAndGenreAveragesDataFrame(allMovies):\n",
    "\n",
    "    ArrayOfDicts = []\n",
    "    keywordAve = {}\n",
    "    genreAve = {}\n",
    "    \n",
    "    for i in range(len(allMovies)):\n",
    "        thisRow = allMovies.iloc[i]\n",
    "        \n",
    "        thisDict = {}\n",
    "        thisDict['id'] = thisRow['id']\n",
    "        thisDict['keywordTot_AveRating'] = np.nan\n",
    "        thisDict['genreTot_RankedAveRating'] = np.nan\n",
    "        \n",
    "        AllKeywordRating =[]\n",
    "        \n",
    "        for keywordId in thisRow['Ids_Keywords']:\n",
    "            if keywordId in keywordAve.keys():\n",
    "                AllKeywordRating.append(keywordAve[keywordId])\n",
    "            else:\n",
    "                moviesWithKeyWord = allMovies[[keywordId in x for x in allMovies['Ids_Keywords']]]\n",
    "                aveRating = sum(moviesWithKeyWord['vote_average']) / len(moviesWithKeyWord['vote_average'])\n",
    "                keywordAve[keywordId] = aveRating\n",
    "                AllKeywordRating.append(aveRating)\n",
    "         \n",
    "        AllGenreRating = []\n",
    "        \n",
    "        for genreId in thisRow['genreIds']:\n",
    "            if genreId in genreAve.keys():\n",
    "                AllGenreRating.append(genreAve[genreId])\n",
    "            else:\n",
    "                moviesWithGenre = allMovies[[genreId in x for x in allMovies['genreIds']]]\n",
    "                aveRating = sum(moviesWithGenre['vote_average']) / len(moviesWithGenre['vote_average'])\n",
    "                genreAve[genreId] = aveRating\n",
    "                AllGenreRating.append(aveRating)\n",
    "\n",
    "        if len(AllKeywordRating)>0:\n",
    "            thisDict['keywordTot_AveRating'] = sum(AllKeywordRating)/len(AllKeywordRating)\n",
    "        if len(AllGenreRating)>0:\n",
    "            thisDict['genreTot_RankedAveRating'] = sum(AllGenreRating)/len(AllGenreRating)\n",
    "            \n",
    "            \n",
    "        ArrayOfDicts.append(thisDict)\n",
    "        \n",
    "        if(i %(len(allMovies)//1000) == 0):\n",
    "            print(\"{0} percent\".format(i*100/len(allMovies)))\n",
    "    return pd.DataFrame(ArrayOfDicts)\n",
    "\n",
    "if(exists('./GenreAndKeywordNumeric.csv')):\n",
    "    genreAndKeywordAve = pd.read_csv('./GenreAndKeywordNumeric.csv')\n",
    "else:\n",
    "    genreAndKeywordAve = GenerateKeyWordAndGenreAveragesDataFrame(allData)\n",
    "    keywordRankingFile = \"GenreAndKeywordNumeric.csv\"\n",
    "    genreAndKeywordAve.to_csv(keywordRankingFile, sep=',', index=False)    \n",
    "\n",
    "print(genreAndKeywordAve.dropna().head())\n"
   ]
  },
  {
   "cell_type": "markdown",
   "id": "dbd43084",
   "metadata": {},
   "source": [
    "### 4) Merge in Numeric Columns"
   ]
  },
  {
   "cell_type": "code",
   "execution_count": 236,
   "id": "f1502c29",
   "metadata": {},
   "outputs": [],
   "source": [
    "allData = allData.merge(actorNumericPrestige, on='id')\n",
    "allData = allData.merge(crewPrestige, on='id')\n",
    "allData = allData.merge(genreAndKeywordAve, on='id')"
   ]
  },
  {
   "cell_type": "markdown",
   "id": "9ab31c88",
   "metadata": {},
   "source": [
    "## Replace budget and revenue from the movie db"
   ]
  },
  {
   "cell_type": "code",
   "execution_count": 237,
   "id": "05ba2520",
   "metadata": {},
   "outputs": [
    {
     "name": "stdout",
     "output_type": "stream",
     "text": [
      "missing budget rows : 666694\n"
     ]
    }
   ],
   "source": [
    "print(\"missing budget rows : {0}\".format(len(allData[allData['budget']==0])))\n",
    "allData = allData.drop(columns = 'budget')"
   ]
  },
  {
   "cell_type": "markdown",
   "id": "1d64e29c",
   "metadata": {},
   "source": [
    "#### Import money File"
   ]
  },
  {
   "cell_type": "code",
   "execution_count": 238,
   "id": "257e91c6",
   "metadata": {},
   "outputs": [],
   "source": [
    "from os.path import exists\n",
    "\n",
    "if(exists('./money.csv')):\n",
    "    df = pd.read_csv('./money.csv')\n",
    "else:\n",
    "    df = pd.DataFrame(columns=['id','budget', 'revenue'])"
   ]
  },
  {
   "cell_type": "markdown",
   "id": "466d4630",
   "metadata": {},
   "source": [
    "#### Read in missing data from themoviedb.org"
   ]
  },
  {
   "cell_type": "code",
   "execution_count": 239,
   "id": "a31ad220",
   "metadata": {
    "scrolled": true
   },
   "outputs": [
    {
     "name": "stdout",
     "output_type": "stream",
     "text": [
      "f09db215292b8cd0e2396d9423025a0e\n"
     ]
    }
   ],
   "source": [
    "import json\n",
    "import time\n",
    "f = open(\"./api.json\")\n",
    "j = json.load(f)\n",
    "\n",
    "api = j['THE_MOVIE_DB_API']\n",
    "\n",
    "from bs4 import BeautifulSoup\n",
    "import requests as rq\n",
    "\n",
    "print(api)\n",
    "\n",
    "remaining = list(set(allData['id'])-set(df['id']))\n",
    "budgetRev = []\n",
    "\n",
    "for i in range(len(remaining)):\n",
    "    movId = int(remaining[i])\n",
    "    webread =rq.get('https://api.themoviedb.org/3/movie/{0}?api_key={1}'.format(movId,api)) \n",
    "    resp = webread.json()\n",
    "    \n",
    "    thisDict = {'id': movId}\n",
    "                \n",
    "    thisDict['budget'] = np.nan\n",
    "    if('budget' in resp.keys() and int(resp['budget']) !=0):\n",
    "        thisDict['budget'] = int(resp['budget'])\n",
    "   \n",
    "    thisDict['revenue'] = np.nan\n",
    "    if('revenue' in resp.keys() and int(resp['revenue']) !=0):\n",
    "        thisDict['revenue'] == int(resp['revenue'])\n",
    "    \n",
    "    budgetRev.append(thisDict.copy())\n",
    "\n",
    "    if( len(remaining//1000)> 0 and i % (len(remaining)//1000) == 0):\n",
    "        print(\"{0} percent complete\".format(float(i*100)/float(len(remaining))))\n",
    "        \n",
    "if(len(budgetRev)>0):\n",
    "    df2 = pd.DataFrame(budgetRev)\n",
    "    df = pd.concat([df, df2], ignore_index=True)\n",
    "\n",
    "df =df.drop_duplicates(subset=['id'])"
   ]
  },
  {
   "cell_type": "markdown",
   "id": "bd8014ae",
   "metadata": {},
   "source": [
    "#### Check for missing ids (sanity check)"
   ]
  },
  {
   "cell_type": "code",
   "execution_count": 240,
   "id": "6bf675ae",
   "metadata": {},
   "outputs": [
    {
     "name": "stdout",
     "output_type": "stream",
     "text": [
      "0\n",
      "[]\n"
     ]
    },
    {
     "data": {
      "text/plain": [
       "0      862.0\n",
       "1     8844.0\n",
       "2    15602.0\n",
       "3    31357.0\n",
       "4    11862.0\n",
       "Name: id, dtype: float64"
      ]
     },
     "execution_count": 240,
     "metadata": {},
     "output_type": "execute_result"
    }
   ],
   "source": [
    "i= list(set(allData['id']) - set(df['id']))\n",
    "print(len(i))\n",
    "print(i[0:10])\n",
    "\n",
    "df['id'].head()"
   ]
  },
  {
   "cell_type": "markdown",
   "id": "483e66ec",
   "metadata": {},
   "source": [
    "#### Save out money file"
   ]
  },
  {
   "cell_type": "code",
   "execution_count": 241,
   "id": "2f8a39e4",
   "metadata": {},
   "outputs": [
    {
     "name": "stdout",
     "output_type": "stream",
     "text": [
      "10466\n",
      "9409\n"
     ]
    },
    {
     "data": {
      "text/html": [
       "<div>\n",
       "<style scoped>\n",
       "    .dataframe tbody tr th:only-of-type {\n",
       "        vertical-align: middle;\n",
       "    }\n",
       "\n",
       "    .dataframe tbody tr th {\n",
       "        vertical-align: top;\n",
       "    }\n",
       "\n",
       "    .dataframe thead th {\n",
       "        text-align: right;\n",
       "    }\n",
       "</style>\n",
       "<table border=\"1\" class=\"dataframe\">\n",
       "  <thead>\n",
       "    <tr style=\"text-align: right;\">\n",
       "      <th></th>\n",
       "      <th>id</th>\n",
       "      <th>budget</th>\n",
       "      <th>revenue</th>\n",
       "    </tr>\n",
       "  </thead>\n",
       "  <tbody>\n",
       "    <tr>\n",
       "      <th>0</th>\n",
       "      <td>862.0</td>\n",
       "      <td>30000000.0</td>\n",
       "      <td>373554033.0</td>\n",
       "    </tr>\n",
       "    <tr>\n",
       "      <th>1</th>\n",
       "      <td>8844.0</td>\n",
       "      <td>65000000.0</td>\n",
       "      <td>262797249.0</td>\n",
       "    </tr>\n",
       "    <tr>\n",
       "      <th>2</th>\n",
       "      <td>15602.0</td>\n",
       "      <td>25000000.0</td>\n",
       "      <td>71500000.0</td>\n",
       "    </tr>\n",
       "    <tr>\n",
       "      <th>3</th>\n",
       "      <td>31357.0</td>\n",
       "      <td>16000000.0</td>\n",
       "      <td>81452156.0</td>\n",
       "    </tr>\n",
       "    <tr>\n",
       "      <th>4</th>\n",
       "      <td>11862.0</td>\n",
       "      <td>NaN</td>\n",
       "      <td>76594107.0</td>\n",
       "    </tr>\n",
       "  </tbody>\n",
       "</table>\n",
       "</div>"
      ],
      "text/plain": [
       "        id      budget      revenue\n",
       "0    862.0  30000000.0  373554033.0\n",
       "1   8844.0  65000000.0  262797249.0\n",
       "2  15602.0  25000000.0   71500000.0\n",
       "3  31357.0  16000000.0   81452156.0\n",
       "4  11862.0         NaN   76594107.0"
      ]
     },
     "execution_count": 241,
     "metadata": {},
     "output_type": "execute_result"
    }
   ],
   "source": [
    "moneyfile = \"money.csv\"\n",
    "df.to_csv(moneyfile, sep=',', index = False)\n",
    "print(len(df[~df['budget'].isna()]))\n",
    "print(len(df[~df['revenue'].isna()]))\n",
    "df.head()"
   ]
  },
  {
   "cell_type": "markdown",
   "id": "ee031d7d",
   "metadata": {},
   "source": []
  },
  {
   "cell_type": "markdown",
   "id": "a7c92661",
   "metadata": {},
   "source": [
    "### Import revenue from Box Office Mojo"
   ]
  },
  {
   "cell_type": "markdown",
   "id": "d3143f9c",
   "metadata": {},
   "source": [
    "#### Define web crawler function"
   ]
  },
  {
   "cell_type": "code",
   "execution_count": 242,
   "id": "731b9ec0",
   "metadata": {},
   "outputs": [],
   "source": [
    "def GetBoxOfficeMojoDomesticSales(ids):\n",
    "    arrOfDicts = []\n",
    "    count = 0\n",
    "    print(len(ids))\n",
    "    for movieid in ids:\n",
    "        count += 1\n",
    "        \n",
    "        webread =rq.get('https://www.boxofficemojo.com/title/{0}/'.format(movieid))\n",
    "        soup = BeautifulSoup(webread.content, \"html.parser\")\n",
    "        mydivs = soup.find_all(\"div\", {\"class\": \"a-section a-spacing-none mojo-performance-summary-table\"})\n",
    "\n",
    "        for x in mydivs:\n",
    "            money = x.find_all(\"div\", {\"class\": \"a-section a-spacing-none\"})\n",
    "            for y in money:\n",
    "                moneyType = y.find(\"span\", {\"class\":\"a-size-small\"})\n",
    "                moneyVal = y.find(\"span\",{\"class\":\"money\"})\n",
    "                thisDict = {\"imdb_id\":movieid}\n",
    "                if(\"Domestic\" in moneyType.text and moneyVal != None):\n",
    "                    m = moneyVal.text\n",
    "                    m = m.replace(',','')\n",
    "                    m = m.replace('$','')\n",
    "                    m = m.replace('-','')\n",
    "                    if(m != \"\"):\n",
    "                        thisDict[\"Domestic\"]=int(m)\n",
    "                    else:\n",
    "                        thisDict[\"Domestic\"]=np.nan\n",
    "                else:\n",
    "                    thisDict[\"Domestic\"]=np.nan\n",
    "                arrOfDicts.append(thisDict.copy())\n",
    "                        \n",
    "        if(len(ids)//1000>0 and count % (len(ids)//1000) == 0):\n",
    "            print(\"{0} % complete\".format(count*100/len(ids)))\n",
    "        \n",
    "    frame = pd.DataFrame(arrOfDicts)\n",
    "    return frame"
   ]
  },
  {
   "cell_type": "markdown",
   "id": "68304a3c",
   "metadata": {},
   "source": [
    "#### Read in Box Office File"
   ]
  },
  {
   "cell_type": "code",
   "execution_count": 243,
   "id": "7865f659",
   "metadata": {},
   "outputs": [],
   "source": [
    "if(exists('./boxOffice.csv')):\n",
    "    prevBoxOffice = pd.read_csv('./boxOffice.csv')\n",
    "else:\n",
    "    prevBoxOffice = pd.DataFrame(columns=['imdb_id','Domestic'])"
   ]
  },
  {
   "cell_type": "markdown",
   "id": "df38b15c",
   "metadata": {},
   "source": [
    "#### Merge Money file "
   ]
  },
  {
   "cell_type": "code",
   "execution_count": 244,
   "id": "86739d89",
   "metadata": {},
   "outputs": [],
   "source": [
    "allData.drop_duplicates(subset=['id'])\n",
    "dataset = allData.merge(df, on='id')\n"
   ]
  },
  {
   "cell_type": "markdown",
   "id": "f27ebf9f",
   "metadata": {},
   "source": [
    "#### Import missing Domestic Box Office data from BoxOfficeMojo\n",
    "#### and filter out missing margin data into subDataSet"
   ]
  },
  {
   "cell_type": "code",
   "execution_count": 245,
   "id": "69a54284",
   "metadata": {},
   "outputs": [
    {
     "name": "stdout",
     "output_type": "stream",
     "text": [
      "Missing movie Domestic earnings count 1\n",
      "1\n"
     ]
    }
   ],
   "source": [
    "subDataSet = dataset[(~dataset['budget'].isna()) & (~dataset['revenue'].isna())]\n",
    "subDataSet = subDataSet.assign(profit_margin = subDataSet.apply(lambda row: (row['revenue']-row['budget'])*100.0/row['budget'], axis=1).values)\n",
    "\n",
    "\n",
    "budgetDataSet = dataset[~dataset['budget'].isna()]\n",
    "missingIds = list(set(budgetDataSet['imdb_id'])- set(prevBoxOffice['imdb_id']))\n",
    "print(\"Missing movie Domestic earnings count {0}\".format(len(missingIds)))\n",
    "\n",
    "\n",
    "if(len(missingIds)>0):\n",
    "    boxOffice = GetBoxOfficeMojoDomesticSales(missingIds)\n",
    "    boxOffice = pd.concat([prevBoxOffice,boxOffice], ignore_index=True)\n",
    "else:\n",
    "    boxOffice = prevBoxOffice\n",
    "\n",
    "boxOffice = boxOffice.drop_duplicates(subset=['imdb_id'])\n",
    "    \n",
    "dataSetWithMargins = dataset.merge(boxOffice, on='imdb_id')\n",
    "dataSetWithMargins = dataSetWithMargins.assign(BoxOfficeProfitMargin = dataSetWithMargins.apply(lambda row: (row['Domestic']-row['budget'])*100.0/row['budget'], axis=1).values)\n",
    "dataSetWithMargins = dataSetWithMargins.assign(profit_margin = dataSetWithMargins.apply(lambda row: (row['revenue']-row['budget'])*100.0/row['budget'], axis=1).values)\n",
    "\n",
    "subDataSet = dataSetWithMargins[(~dataSetWithMargins['budget'].isna()) & ((~dataSetWithMargins['revenue'].isna())|(~dataSetWithMargins['Domestic'].isna()))]"
   ]
  },
  {
   "cell_type": "markdown",
   "id": "a2c58ba1",
   "metadata": {},
   "source": [
    "#### Save out boxOffice data"
   ]
  },
  {
   "cell_type": "code",
   "execution_count": 246,
   "id": "854769f5",
   "metadata": {},
   "outputs": [
    {
     "name": "stdout",
     "output_type": "stream",
     "text": [
      "Index(['imdb_id', 'Domestic'], dtype='object')\n"
     ]
    }
   ],
   "source": [
    "boxOffice = boxOffice[['imdb_id','Domestic']]\n",
    "print(boxOffice.columns)\n",
    "boxfile = \"boxOffice.csv\"\n",
    "boxOffice.to_csv(boxfile, sep=',', index=False)"
   ]
  },
  {
   "cell_type": "markdown",
   "id": "8cda1801",
   "metadata": {},
   "source": [
    "#### Filter out non-identifying and non numeric data "
   ]
  },
  {
   "cell_type": "code",
   "execution_count": 250,
   "id": "41ac0b32",
   "metadata": {},
   "outputs": [
    {
     "name": "stdout",
     "output_type": "stream",
     "text": [
      "DTypes before\n",
      "id                                          int64\n",
      "title                                      string\n",
      "adult                                        bool\n",
      "popularity                                float64\n",
      "release_date                       datetime64[ns]\n",
      "runtime                                   float64\n",
      "vote_average                              float64\n",
      "vote_count                                float64\n",
      "actorsTot_AveRating                       float64\n",
      "actorsTot_RankedAveRating                 float64\n",
      "actorsTot_VoteAve                         float64\n",
      "actorsTot_RankedVoteAve                   float64\n",
      "actorsTot_HistAve                         float64\n",
      "actorsTot_RankedHistAve                   float64\n",
      "directorTot_AveRating                     float64\n",
      "directorTot_RankedAveRating               float64\n",
      "screenwriterTot_AveRating                 float64\n",
      "screenwriterTot_RankedAveRating           float64\n",
      "editorTot_AveRating                       float64\n",
      "editorTot_RankedAveRating                 float64\n",
      "keywordTot_AveRating                      float64\n",
      "genreTot_RankedAveRating                  float64\n",
      "budget                                    float64\n",
      "revenue                                   float64\n",
      "Domestic                                  float64\n",
      "BoxOfficeProfitMargin                     float64\n",
      "profit_margin                             float64\n",
      "dtype: object\n",
      "\n",
      "DTypes after\n",
      "id                                          int64\n",
      "title                                      string\n",
      "adult                                        bool\n",
      "popularity                                float64\n",
      "release_date                       datetime64[ns]\n",
      "runtime                                   float64\n",
      "vote_average                              float64\n",
      "vote_count                                float64\n",
      "actorsTot_AveRating                       float64\n",
      "actorsTot_RankedAveRating                 float64\n",
      "actorsTot_VoteAve                         float64\n",
      "actorsTot_RankedVoteAve                   float64\n",
      "actorsTot_HistAve                         float64\n",
      "actorsTot_RankedHistAve                   float64\n",
      "directorTot_AveRating                     float64\n",
      "directorTot_RankedAveRating               float64\n",
      "screenwriterTot_AveRating                 float64\n",
      "screenwriterTot_RankedAveRating           float64\n",
      "editorTot_AveRating                       float64\n",
      "editorTot_RankedAveRating                 float64\n",
      "keywordTot_AveRating                      float64\n",
      "genreTot_RankedAveRating                  float64\n",
      "budget                                    float64\n",
      "revenue                                   float64\n",
      "Domestic                                  float64\n",
      "BoxOfficeProfitMargin                     float64\n",
      "profit_margin                             float64\n",
      "dtype: object\n"
     ]
    }
   ],
   "source": [
    "print(\"DTypes before\")\n",
    "print(subDataSet.dtypes)\n",
    "\n",
    "subDataSet = subDataSet[['id','title','adult','popularity','release_date','runtime','vote_average','vote_count',\\\n",
    "                         'actorsTot_AveRating','actorsTot_RankedAveRating','actorsTot_VoteAve','actorsTot_RankedVoteAve', \\\n",
    "                         'actorsTot_HistAve','actorsTot_RankedHistAve', 'directorTot_AveRating', \\\n",
    "                         'directorTot_RankedAveRating', 'screenwriterTot_AveRating','screenwriterTot_RankedAveRating', \\\n",
    "                         'editorTot_AveRating','editorTot_RankedAveRating', 'keywordTot_AveRating',\\\n",
    "                         'genreTot_RankedAveRating', 'budget', 'revenue', 'Domestic','BoxOfficeProfitMargin', \\\n",
    "                         'profit_margin' ]]\n",
    "\n",
    "print()\n",
    "print(\"DTypes after\")\n",
    "print(subDataSet.dtypes)"
   ]
  },
  {
   "cell_type": "markdown",
   "id": "a2a2cc0a",
   "metadata": {},
   "source": [
    "## Explore Data Set"
   ]
  },
  {
   "cell_type": "markdown",
   "id": "c817427d",
   "metadata": {},
   "source": [
    "#### Small budget, i.e. less than 1000 dollars, unrealistic"
   ]
  },
  {
   "cell_type": "code",
   "execution_count": 253,
   "id": "25c2506e",
   "metadata": {},
   "outputs": [
    {
     "name": "stdout",
     "output_type": "stream",
     "text": [
      "69\n"
     ]
    },
    {
     "data": {
      "text/html": [
       "<div>\n",
       "<style scoped>\n",
       "    .dataframe tbody tr th:only-of-type {\n",
       "        vertical-align: middle;\n",
       "    }\n",
       "\n",
       "    .dataframe tbody tr th {\n",
       "        vertical-align: top;\n",
       "    }\n",
       "\n",
       "    .dataframe thead th {\n",
       "        text-align: right;\n",
       "    }\n",
       "</style>\n",
       "<table border=\"1\" class=\"dataframe\">\n",
       "  <thead>\n",
       "    <tr style=\"text-align: right;\">\n",
       "      <th></th>\n",
       "      <th>title</th>\n",
       "      <th>revenue</th>\n",
       "      <th>budget</th>\n",
       "      <th>Domestic</th>\n",
       "    </tr>\n",
       "  </thead>\n",
       "  <tbody>\n",
       "    <tr>\n",
       "      <th>111</th>\n",
       "      <td>The Umbrellas of Cherbourg</td>\n",
       "      <td>NaN</td>\n",
       "      <td>7.0</td>\n",
       "      <td>28030.0</td>\n",
       "    </tr>\n",
       "    <tr>\n",
       "      <th>136</th>\n",
       "      <td>Immortal Beloved</td>\n",
       "      <td>NaN</td>\n",
       "      <td>120.0</td>\n",
       "      <td>9914409.0</td>\n",
       "    </tr>\n",
       "    <tr>\n",
       "      <th>173</th>\n",
       "      <td>The Sum of Us</td>\n",
       "      <td>NaN</td>\n",
       "      <td>2.0</td>\n",
       "      <td>766464.0</td>\n",
       "    </tr>\n",
       "    <tr>\n",
       "      <th>231</th>\n",
       "      <td>City Slickers II: The Legend of Curly's Gold</td>\n",
       "      <td>43.0</td>\n",
       "      <td>40.0</td>\n",
       "      <td>43622150.0</td>\n",
       "    </tr>\n",
       "    <tr>\n",
       "      <th>453</th>\n",
       "      <td>East of Eden</td>\n",
       "      <td>5.0</td>\n",
       "      <td>1.0</td>\n",
       "      <td>NaN</td>\n",
       "    </tr>\n",
       "  </tbody>\n",
       "</table>\n",
       "</div>"
      ],
      "text/plain": [
       "                                            title  revenue  budget    Domestic\n",
       "111                    The Umbrellas of Cherbourg      NaN     7.0     28030.0\n",
       "136                              Immortal Beloved      NaN   120.0   9914409.0\n",
       "173                                 The Sum of Us      NaN     2.0    766464.0\n",
       "231  City Slickers II: The Legend of Curly's Gold     43.0    40.0  43622150.0\n",
       "453                                  East of Eden      5.0     1.0         NaN"
      ]
     },
     "execution_count": 253,
     "metadata": {},
     "output_type": "execute_result"
    }
   ],
   "source": [
    "smallBudget = subDataSet[subDataSet['budget']<1000]\n",
    "\n",
    "print(len(smallBudget))\n",
    "smallBudget[['title', 'revenue','budget','Domestic']].head()"
   ]
  },
  {
   "cell_type": "markdown",
   "id": "b2a21ac1",
   "metadata": {},
   "source": [
    "#### Explore budget box plots"
   ]
  },
  {
   "cell_type": "code",
   "execution_count": 254,
   "id": "31742150",
   "metadata": {},
   "outputs": [
    {
     "name": "stdout",
     "output_type": "stream",
     "text": [
      "count     39794.000000\n",
      "mean        728.958122\n",
      "std        2595.628204\n",
      "min         -99.998500\n",
      "25%         -94.698980\n",
      "50%         -46.640940\n",
      "75%          42.269062\n",
      "max      234131.831667\n",
      "Name: BoxOfficeProfitMargin, dtype: float64\n"
     ]
    },
    {
     "data": {
      "image/png": "[encoded data removed]",
      "text/plain": [
       "<Figure size 432x288 with 2 Axes>"
      ]
     },
     "metadata": {
      "needs_background": "light"
     },
     "output_type": "display_data"
    }
   ],
   "source": [
    "reasonableBudget = subDataSet[subDataSet['budget']>=1000]\n",
    "\n",
    "print(reasonableBudget['BoxOfficeProfitMargin'].describe())\n",
    "\n",
    "fig, (ax1, ax2)= plt.subplots(1,2)\n",
    "fig.suptitle('Profit Margin Box Plots')\n",
    "ax1.boxplot(reasonableBudget['BoxOfficeProfitMargin'].dropna())\n",
    "ax2.boxplot(reasonableBudget[reasonableBudget['BoxOfficeProfitMargin']<50000]['BoxOfficeProfitMargin'])\n",
    "plt.show()"
   ]
  },
  {
   "cell_type": "code",
   "execution_count": 255,
   "id": "6bba020a",
   "metadata": {
    "scrolled": true
   },
   "outputs": [
    {
     "data": {
      "image/png": "[encoded data removed]",
      "text/plain": [
       "<Figure size 432x288 with 2 Axes>"
      ]
     },
     "metadata": {
      "needs_background": "light"
     },
     "output_type": "display_data"
    },
    {
     "name": "stdout",
     "output_type": "stream",
     "text": [
      "Number of outliers above 1.5*IQR + Median = 5055\n"
     ]
    }
   ],
   "source": [
    "fig, (ax1, ax2)= plt.subplots(1,2)\n",
    "fig.suptitle('Profit Margin Box Plots')\n",
    "ax1.boxplot(reasonableBudget[reasonableBudget['BoxOfficeProfitMargin']<5000]['BoxOfficeProfitMargin'])\n",
    "ax2.boxplot(reasonableBudget[reasonableBudget['BoxOfficeProfitMargin']<500]['BoxOfficeProfitMargin'])\n",
    "plt.show()\n",
    "\n",
    "Q1 = reasonableBudget['BoxOfficeProfitMargin'].quantile(0.25)\n",
    "Q3 = reasonableBudget['BoxOfficeProfitMargin'].quantile(0.75)\n",
    "IQR = Q3 - Q1\n",
    "\n",
    "print(\"Number of outliers above 1.5*IQR + Median = {0}\".format(len(reasonableBudget[reasonableBudget['BoxOfficeProfitMargin']> Q3+1.5*IQR])))"
   ]
  },
  {
   "cell_type": "markdown",
   "id": "f3f7077f",
   "metadata": {},
   "source": [
    "### Look for high outliers"
   ]
  },
  {
   "cell_type": "code",
   "execution_count": 256,
   "id": "bbbf0377",
   "metadata": {},
   "outputs": [
    {
     "name": "stdout",
     "output_type": "stream",
     "text": [
      "count      5055.000000\n",
      "mean       6056.409066\n",
      "std        4527.780825\n",
      "min         248.388573\n",
      "25%        7121.200000\n",
      "50%        7121.200000\n",
      "75%        7121.200000\n",
      "max      234131.831667\n",
      "Name: BoxOfficeProfitMargin, dtype: float64\n",
      "\n",
      "Number of outliers in distribution of high earning movies above 1.5*IQR + Median = 20\n",
      "Number of movies above 99% of high earning movies = 20\n"
     ]
    },
    {
     "data": {
      "text/html": [
       "<div>\n",
       "<style scoped>\n",
       "    .dataframe tbody tr th:only-of-type {\n",
       "        vertical-align: middle;\n",
       "    }\n",
       "\n",
       "    .dataframe tbody tr th {\n",
       "        vertical-align: top;\n",
       "    }\n",
       "\n",
       "    .dataframe thead th {\n",
       "        text-align: right;\n",
       "    }\n",
       "</style>\n",
       "<table border=\"1\" class=\"dataframe\">\n",
       "  <thead>\n",
       "    <tr style=\"text-align: right;\">\n",
       "      <th></th>\n",
       "      <th>title</th>\n",
       "      <th>release_date</th>\n",
       "      <th>budget</th>\n",
       "      <th>Domestic</th>\n",
       "      <th>BoxOfficeProfitMargin</th>\n",
       "    </tr>\n",
       "  </thead>\n",
       "  <tbody>\n",
       "    <tr>\n",
       "      <th>123</th>\n",
       "      <td>Clerks</td>\n",
       "      <td>1994-09-13</td>\n",
       "      <td>27575.0</td>\n",
       "      <td>3151130.0</td>\n",
       "      <td>11327.488667</td>\n",
       "    </tr>\n",
       "    <tr>\n",
       "      <th>312</th>\n",
       "      <td>Snow White and the Seven Dwarfs</td>\n",
       "      <td>1937-12-20</td>\n",
       "      <td>1488423.0</td>\n",
       "      <td>184925486.0</td>\n",
       "      <td>12324.256142</td>\n",
       "    </tr>\n",
       "    <tr>\n",
       "      <th>936</th>\n",
       "      <td>Rocky</td>\n",
       "      <td>1976-11-21</td>\n",
       "      <td>1000000.0</td>\n",
       "      <td>117235147.0</td>\n",
       "      <td>11623.514700</td>\n",
       "    </tr>\n",
       "    <tr>\n",
       "      <th>956</th>\n",
       "      <td>Friday the 13th</td>\n",
       "      <td>1980-05-09</td>\n",
       "      <td>550000.0</td>\n",
       "      <td>39754601.0</td>\n",
       "      <td>7128.109273</td>\n",
       "    </tr>\n",
       "    <tr>\n",
       "      <th>964</th>\n",
       "      <td>Halloween</td>\n",
       "      <td>1978-10-25</td>\n",
       "      <td>325000.0</td>\n",
       "      <td>47160000.0</td>\n",
       "      <td>14410.769231</td>\n",
       "    </tr>\n",
       "    <tr>\n",
       "      <th>989</th>\n",
       "      <td>Bambi</td>\n",
       "      <td>1942-08-14</td>\n",
       "      <td>858000.0</td>\n",
       "      <td>102247150.0</td>\n",
       "      <td>11816.917249</td>\n",
       "    </tr>\n",
       "    <tr>\n",
       "      <th>1247</th>\n",
       "      <td>The Texas Chain Saw Massacre</td>\n",
       "      <td>1974-10-01</td>\n",
       "      <td>85000.0</td>\n",
       "      <td>30859000.0</td>\n",
       "      <td>36204.705882</td>\n",
       "    </tr>\n",
       "    <tr>\n",
       "      <th>1365</th>\n",
       "      <td>The Rocky Horror Picture Show</td>\n",
       "      <td>1975-08-14</td>\n",
       "      <td>1200000.0</td>\n",
       "      <td>112892319.0</td>\n",
       "      <td>9307.693250</td>\n",
       "    </tr>\n",
       "    <tr>\n",
       "      <th>1395</th>\n",
       "      <td>The Blair Witch Project</td>\n",
       "      <td>1999-07-14</td>\n",
       "      <td>60000.0</td>\n",
       "      <td>140539099.0</td>\n",
       "      <td>234131.831667</td>\n",
       "    </tr>\n",
       "    <tr>\n",
       "      <th>1531</th>\n",
       "      <td>A Fistful of Dollars</td>\n",
       "      <td>1964-09-12</td>\n",
       "      <td>200000.0</td>\n",
       "      <td>14500000.0</td>\n",
       "      <td>7150.000000</td>\n",
       "    </tr>\n",
       "    <tr>\n",
       "      <th>1730</th>\n",
       "      <td>American Graffiti</td>\n",
       "      <td>1973-08-01</td>\n",
       "      <td>777000.0</td>\n",
       "      <td>115000000.0</td>\n",
       "      <td>14700.514801</td>\n",
       "    </tr>\n",
       "    <tr>\n",
       "      <th>14923</th>\n",
       "      <td>Joe</td>\n",
       "      <td>1970-07-15</td>\n",
       "      <td>106000.0</td>\n",
       "      <td>19319254.0</td>\n",
       "      <td>18125.711321</td>\n",
       "    </tr>\n",
       "    <tr>\n",
       "      <th>19966</th>\n",
       "      <td>Napoleon Dynamite</td>\n",
       "      <td>2004-06-11</td>\n",
       "      <td>400000.0</td>\n",
       "      <td>44540956.0</td>\n",
       "      <td>11035.239000</td>\n",
       "    </tr>\n",
       "    <tr>\n",
       "      <th>19983</th>\n",
       "      <td>Super Size Me</td>\n",
       "      <td>2004-01-17</td>\n",
       "      <td>65000.0</td>\n",
       "      <td>11536423.0</td>\n",
       "      <td>17648.343077</td>\n",
       "    </tr>\n",
       "    <tr>\n",
       "      <th>20430</th>\n",
       "      <td>Open Water</td>\n",
       "      <td>2004-08-06</td>\n",
       "      <td>130000.0</td>\n",
       "      <td>30610863.0</td>\n",
       "      <td>23446.817692</td>\n",
       "    </tr>\n",
       "    <tr>\n",
       "      <th>33346</th>\n",
       "      <td>Facing the Giants</td>\n",
       "      <td>2006-09-29</td>\n",
       "      <td>100000.0</td>\n",
       "      <td>10178331.0</td>\n",
       "      <td>10078.331000</td>\n",
       "    </tr>\n",
       "    <tr>\n",
       "      <th>33720</th>\n",
       "      <td>One Missed Call</td>\n",
       "      <td>2008-01-04</td>\n",
       "      <td>20000.0</td>\n",
       "      <td>26890041.0</td>\n",
       "      <td>134350.205000</td>\n",
       "    </tr>\n",
       "    <tr>\n",
       "      <th>38382</th>\n",
       "      <td>Paranormal Activity</td>\n",
       "      <td>2007-09-14</td>\n",
       "      <td>215000.0</td>\n",
       "      <td>107918810.0</td>\n",
       "      <td>50094.795349</td>\n",
       "    </tr>\n",
       "    <tr>\n",
       "      <th>38836</th>\n",
       "      <td>Catfish</td>\n",
       "      <td>2010-09-17</td>\n",
       "      <td>30000.0</td>\n",
       "      <td>3237343.0</td>\n",
       "      <td>10691.143333</td>\n",
       "    </tr>\n",
       "    <tr>\n",
       "      <th>41573</th>\n",
       "      <td>The Gallows</td>\n",
       "      <td>2015-07-10</td>\n",
       "      <td>100000.0</td>\n",
       "      <td>22764410.0</td>\n",
       "      <td>22664.410000</td>\n",
       "    </tr>\n",
       "  </tbody>\n",
       "</table>\n",
       "</div>"
      ],
      "text/plain": [
       "                                 title release_date     budget     Domestic  \\\n",
       "123                             Clerks   1994-09-13    27575.0    3151130.0   \n",
       "312    Snow White and the Seven Dwarfs   1937-12-20  1488423.0  184925486.0   \n",
       "936                              Rocky   1976-11-21  1000000.0  117235147.0   \n",
       "956                    Friday the 13th   1980-05-09   550000.0   39754601.0   \n",
       "964                          Halloween   1978-10-25   325000.0   47160000.0   \n",
       "989                              Bambi   1942-08-14   858000.0  102247150.0   \n",
       "1247      The Texas Chain Saw Massacre   1974-10-01    85000.0   30859000.0   \n",
       "1365     The Rocky Horror Picture Show   1975-08-14  1200000.0  112892319.0   \n",
       "1395           The Blair Witch Project   1999-07-14    60000.0  140539099.0   \n",
       "1531              A Fistful of Dollars   1964-09-12   200000.0   14500000.0   \n",
       "1730                 American Graffiti   1973-08-01   777000.0  115000000.0   \n",
       "14923                              Joe   1970-07-15   106000.0   19319254.0   \n",
       "19966                Napoleon Dynamite   2004-06-11   400000.0   44540956.0   \n",
       "19983                    Super Size Me   2004-01-17    65000.0   11536423.0   \n",
       "20430                       Open Water   2004-08-06   130000.0   30610863.0   \n",
       "33346                Facing the Giants   2006-09-29   100000.0   10178331.0   \n",
       "33720                  One Missed Call   2008-01-04    20000.0   26890041.0   \n",
       "38382              Paranormal Activity   2007-09-14   215000.0  107918810.0   \n",
       "38836                          Catfish   2010-09-17    30000.0    3237343.0   \n",
       "41573                      The Gallows   2015-07-10   100000.0   22764410.0   \n",
       "\n",
       "       BoxOfficeProfitMargin  \n",
       "123             11327.488667  \n",
       "312             12324.256142  \n",
       "936             11623.514700  \n",
       "956              7128.109273  \n",
       "964             14410.769231  \n",
       "989             11816.917249  \n",
       "1247            36204.705882  \n",
       "1365             9307.693250  \n",
       "1395           234131.831667  \n",
       "1531             7150.000000  \n",
       "1730            14700.514801  \n",
       "14923           18125.711321  \n",
       "19966           11035.239000  \n",
       "19983           17648.343077  \n",
       "20430           23446.817692  \n",
       "33346           10078.331000  \n",
       "33720          134350.205000  \n",
       "38382           50094.795349  \n",
       "38836           10691.143333  \n",
       "41573           22664.410000  "
      ]
     },
     "execution_count": 256,
     "metadata": {},
     "output_type": "execute_result"
    }
   ],
   "source": [
    "highEarningMovies = reasonableBudget[reasonableBudget['BoxOfficeProfitMargin']> Q3+1.5*IQR]\n",
    "print(highEarningMovies['BoxOfficeProfitMargin'].describe())\n",
    "\n",
    "highQ1 = highEarningMovies['BoxOfficeProfitMargin'].quantile(0.25)\n",
    "highQ3 = highEarningMovies['BoxOfficeProfitMargin'].quantile(0.75)\n",
    "highIQR = highQ3 - highQ1\n",
    "print()\n",
    "print(\"Number of outliers in distribution of high earning movies above 1.5*IQR + Median = {0}\".format(len(reasonableBudget[reasonableBudget['BoxOfficeProfitMargin']> highQ3+1.5*highIQR])))\n",
    "\n",
    "\n",
    "NinPercentile = highEarningMovies['BoxOfficeProfitMargin'].quantile(0.99)\n",
    "print(\"Number of movies above 99% of high earning movies = {0}\".format(len(highEarningMovies[highEarningMovies['BoxOfficeProfitMargin']>NinPercentile])))\n",
    "\n",
    "highEarningMovies[highEarningMovies['BoxOfficeProfitMargin']>NinPercentile][['title','release_date','budget','Domestic','BoxOfficeProfitMargin']]"
   ]
  },
  {
   "cell_type": "code",
   "execution_count": 257,
   "id": "57ec6525",
   "metadata": {},
   "outputs": [
    {
     "name": "stdout",
     "output_type": "stream",
     "text": [
      "count     39794.000000\n",
      "mean        728.958122\n",
      "std        2595.628204\n",
      "min         -99.998500\n",
      "25%         -94.698980\n",
      "50%         -46.640940\n",
      "75%          42.269062\n",
      "max      234131.831667\n",
      "Name: BoxOfficeProfitMargin, dtype: float64\n",
      "\n",
      "DataSet with Domestic profit Margin< 99% of High Earning Films count: 35678\n"
     ]
    },
    {
     "data": {
      "image/png": "[encoded data removed]",
      "text/plain": [
       "<Figure size 432x288 with 1 Axes>"
      ]
     },
     "metadata": {
      "needs_background": "light"
     },
     "output_type": "display_data"
    }
   ],
   "source": [
    "print(reasonableBudget['BoxOfficeProfitMargin'].describe())\n",
    "print()\n",
    "\n",
    "nonOutliers = reasonableBudget[reasonableBudget['BoxOfficeProfitMargin']< NinPercentile]\n",
    "print(\"DataSet with Domestic profit Margin< 99% of High Earning Films count: {0}\".format(len(nonOutliers)))\n",
    "plt.scatter(nonOutliers['release_date'],nonOutliers['BoxOfficeProfitMargin'])\n",
    "plt.show()"
   ]
  },
  {
   "cell_type": "markdown",
   "id": "d1f79f61",
   "metadata": {},
   "source": [
    "### Write out Data Wrangled sets"
   ]
  },
  {
   "cell_type": "code",
   "execution_count": 258,
   "id": "79cad047",
   "metadata": {
    "scrolled": true
   },
   "outputs": [],
   "source": [
    "marginFile = \"resonableBudget.csv\"\n",
    "reasonableBudget.to_csv(marginFile, sep=',', index=False)\n",
    "\n",
    "subDataFile = \"dataProfitMarginSubset.csv\"\n",
    "subDataSet.to_csv(subDataFile, sep=',', index=False)\n",
    "\n",
    "allDataFile = \"allData.csv\"\n",
    "dataSetWithMargins.to_csv(allDataFile, sep=',', index=False)"
   ]
  }
 ],
 "metadata": {
  "kernelspec": {
   "display_name": "Python 3 (ipykernel)",
   "language": "python",
   "name": "python3"
  },
  "language_info": {
   "codemirror_mode": {
    "name": "ipython",
    "version": 3
   },
   "file_extension": ".py",
   "mimetype": "text/x-python",
   "name": "python",
   "nbconvert_exporter": "python",
   "pygments_lexer": "ipython3",
   "version": "3.9.7"
  }
 },
 "nbformat": 4,
 "nbformat_minor": 5
}
