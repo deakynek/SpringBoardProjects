{
 "cells": [
  {
   "cell_type": "markdown",
   "id": "fbcde397",
   "metadata": {},
   "source": [
    "#### Warning : code requres .csv files from here : https://www.kaggle.com/rounakbanik/the-movies-dataset  and a movie database api key"
   ]
  },
  {
   "cell_type": "code",
   "execution_count": 3,
   "id": "178775b5",
   "metadata": {},
   "outputs": [],
   "source": [
    "import pandas as pd\n",
    "import numpy as np\n",
    "import matplotlib.pyplot as plt\n",
    "import datetime\n",
    "import json\n",
    "import ast"
   ]
  },
  {
   "cell_type": "code",
   "execution_count": 4,
   "id": "13f78957",
   "metadata": {},
   "outputs": [
    {
     "name": "stdout",
     "output_type": "stream",
     "text": [
      "credits.csv (45476, 3) : Index(['cast', 'crew', 'id'], dtype='object')\n",
      "keywords.csv (46419, 2) : Index(['id', 'keywords'], dtype='object')\n",
      "links.csv (45843, 3) : Index(['movieId', 'imdbId', 'tmdbId'], dtype='object')\n",
      "movies_metadata.csv (45466, 24) : Index(['adult', 'belongs_to_collection', 'budget', 'genres', 'homepage', 'id',\n",
      "       'imdb_id', 'original_language', 'original_title', 'overview',\n",
      "       'popularity', 'poster_path', 'production_companies',\n",
      "       'production_countries', 'release_date', 'revenue', 'runtime',\n",
      "       'spoken_languages', 'status', 'tagline', 'title', 'video',\n",
      "       'vote_average', 'vote_count'],\n",
      "      dtype='object')\n"
     ]
    },
    {
     "name": "stderr",
     "output_type": "stream",
     "text": [
      "C:\\Users\\Karl\\anaconda3\\lib\\site-packages\\IPython\\core\\interactiveshell.py:3172: DtypeWarning: Columns (10) have mixed types.Specify dtype option on import or set low_memory=False.\n",
      "  has_raised = await self.run_ast_nodes(code_ast.body, cell_name,\n"
     ]
    }
   ],
   "source": [
    "\n",
    "\n",
    "#Credits\n",
    "credits = pd.read_csv(\".\\credits.csv\")\n",
    "print(\"{0} {1} : {2}\".format(\"credits.csv\", credits.shape, credits.columns))\n",
    "#Keywords\n",
    "keywords = pd.read_csv(\".\\keywords.csv\")\n",
    "print(\"{0} {1} : {2}\".format(\"keywords.csv\", keywords.shape, keywords.columns))\n",
    "#Links\n",
    "links = pd.read_csv(\".\\links.csv\")\n",
    "print(\"{0} {1} : {2}\".format(\"links.csv\", links.shape, links.columns))\n",
    "#MetaData\n",
    "metadata = pd.read_csv(\".\\movies_metadata.csv\")\n",
    "print(\"{0} {1} : {2}\".format(\"movies_metadata.csv\", metadata.shape, metadata.columns))\n",
    "\n",
    "def check_int(value):\n",
    "    try:\n",
    "        int(value)\n",
    "        return np.NaN\n",
    "    except ValueError:\n",
    "        return value\n",
    "    \n",
    "def check_bool(value):\n",
    "    try:\n",
    "        bool(value)\n",
    "        return np.NaN\n",
    "    except ValueError:\n",
    "        return value"
   ]
  },
  {
   "cell_type": "markdown",
   "id": "6dd26fcd",
   "metadata": {},
   "source": [
    "### 1. Many types of ids in tables, verify 'id' is feature to merge on"
   ]
  },
  {
   "cell_type": "code",
   "execution_count": 5,
   "id": "492da7f1",
   "metadata": {},
   "outputs": [
    {
     "name": "stdout",
     "output_type": "stream",
     "text": [
      "Invalid Ids\n",
      "      imdb_id          id title\n",
      "19730       0  1997-08-20   NaN\n",
      "29503       0  2012-09-29   NaN\n",
      "35587       0  2014-01-01   NaN\n",
      "\n",
      "Merged Tables\n",
      "imdb_id     object\n",
      "id           int64\n",
      "title       object\n",
      "cast        object\n",
      "crew        object\n",
      "keywords    object\n",
      "dtype: object\n",
      "Index(['imdb_id', 'id', 'title', 'cast', 'crew', 'keywords'], dtype='object')\n"
     ]
    }
   ],
   "source": [
    "#Find and drop invalid data in metadata\n",
    "sub = metadata[['imdb_id','id','title']]\n",
    "\n",
    "#tried to convert 'id' in metadata to int, but couldn't\n",
    "#need to check values\n",
    "invalid = sub['id'].apply(check_int).dropna()\n",
    "print(\"Invalid Ids\")\n",
    "print(sub.loc[sub['id'].isin(invalid)])\n",
    "\n",
    "cleansub = sub.loc[~sub['id'].isin(invalid)]\n",
    "cleansub = cleansub.astype({'id':'int64'})\n",
    "credit_meta = pd.merge(cleansub, credits, on='id')\n",
    "\n",
    "credit_meta_keywords = pd.merge(credit_meta, keywords, on='id')\n",
    "\n",
    "print()\n",
    "print(\"Merged Tables\")\n",
    "print(credit_meta_keywords.dtypes)\n",
    "print(credit_meta_keywords.columns)"
   ]
  },
  {
   "cell_type": "markdown",
   "id": "748d6e17",
   "metadata": {},
   "source": [
    "##### Verified can merge on 'id', which means 'links.csv' not needed"
   ]
  },
  {
   "cell_type": "markdown",
   "id": "def00d25",
   "metadata": {},
   "source": [
    "### 2 - Extract important features from each csv, and cast to types"
   ]
  },
  {
   "cell_type": "code",
   "execution_count": 6,
   "id": "fbd5d77f",
   "metadata": {
    "scrolled": true
   },
   "outputs": [
    {
     "name": "stdout",
     "output_type": "stream",
     "text": [
      "Number of missing revenue values: 37619\n",
      "[{'iso_3166_1': 'US', 'name': 'United States of America'}]\n"
     ]
    }
   ],
   "source": [
    "metaSubset = metadata[['adult', 'budget', 'genres', 'id','imdb_id',\n",
    "       'original_language','popularity', 'production_companies','production_countries', \n",
    "        'release_date', 'revenue', 'runtime','spoken_languages', 'status', \n",
    "        'title', 'video','vote_average', 'vote_count']]\n",
    "\n",
    "metaSubset = metaSubset.loc[~sub['id'].isin(invalid)]\n",
    "metaSubset = metaSubset.astype({'adult':'bool', \n",
    "                                'budget':'float', \n",
    "                                'id':'int64',\n",
    "                                'imdb_id':'string',\n",
    "                                'original_language':'string',\n",
    "                                'popularity':'float',\n",
    "                                'runtime':'float',\n",
    "                               'title':'string',\n",
    "                               'video':'bool'})\n",
    "\n",
    "metaSubset['release_date'] = pd.to_datetime(metaSubset['release_date'])\n",
    "\n",
    "\n",
    "#cut unreleased films, then remove column\n",
    "metaSubset = metaSubset[metaSubset['status']=='Released']\n",
    "metaSubset = metaSubset.drop(columns = 'status')\n",
    "\n",
    "#missing revenue for 37619 movies out of 43000 in dataset, remove column\n",
    "print(\"Number of missing revenue values: {0}\".format(len(metaSubset[metaSubset['revenue']<= 0])))\n",
    "metaSubset = metaSubset.drop(columns= 'revenue')\n",
    "\n",
    "print(metaSubset['production_countries'][0])\n",
    "\n",
    "#genres, production_companies, production_countries come in as strings, interpret as objects(dictionaries, arrays, etc)\n",
    "metaSubset['genres'] = metaSubset['genres'].apply(ast.literal_eval)\n",
    "metaSubset['genreIds'] = metaSubset['genres'].apply(lambda x : [y['id'] for y in x])\n",
    "\n",
    "metaSubset['production_companies'] = metaSubset['production_companies'].apply(lambda x : ast.literal_eval(x))\n",
    "metaSubset['productionCompIds'] = metaSubset['production_companies'].apply(lambda x : [y['id'] for y in x])\n",
    "\n",
    "metaSubset['production_countries'] = metaSubset['production_countries'].apply(lambda x : ast.literal_eval(x))\n",
    "metaSubset['productionCountryId'] = metaSubset['production_countries'].apply(lambda x : [y['iso_3166_1'] for y in x])"
   ]
  },
  {
   "cell_type": "markdown",
   "id": "a84a6ab7",
   "metadata": {},
   "source": [
    "### credits table\n",
    "##### (this one takes some time)"
   ]
  },
  {
   "cell_type": "code",
   "execution_count": 7,
   "id": "7369b25a",
   "metadata": {},
   "outputs": [
    {
     "name": "stdout",
     "output_type": "stream",
     "text": [
      "0    [{'id': 7879, 'job': 'Director', 'name': 'John...\n",
      "1    [{'id': 876, 'job': 'Screenplay', 'name': 'Jon...\n",
      "2    [{'id': 26502, 'job': 'Director', 'name': 'How...\n",
      "3    [{'id': 2178, 'job': 'Director', 'name': 'Fore...\n",
      "4    [{'id': 17698, 'job': 'Screenplay', 'name': 'N...\n",
      "Name: crew, dtype: object\n"
     ]
    }
   ],
   "source": [
    "creditsSub = credits[['cast', 'crew','id']]\n",
    "creditsSub = creditsSub\n",
    "\n",
    "\n",
    "def ParseCrew(crewString):\n",
    "    c = ast.literal_eval(crewString)\n",
    "    if(len(c) == 0):\n",
    "        return np.nan\n",
    "    \n",
    "    c = [ { key:value for (key,value) in x.items() if key in ['id','job','name']} \\\n",
    "          for x in c if x['job'] in ['Director', 'Screenplay','Editor']  ]\n",
    "    return c\n",
    "\n",
    "creditsSub['crew'] = creditsSub['crew'].apply(ParseCrew)\n",
    "print(creditsSub['crew'].head())\n",
    "\n",
    "\n",
    "\n",
    "def ParseCast(castString):\n",
    "    c = ast.literal_eval(castString)\n",
    "    if(len(c) == 0):\n",
    "        return np.nan\n",
    "    \n",
    "    c = [ { key:value for (key,value) in x.items() if key in ['id','name']} \\\n",
    "          for x in c]\n",
    "    return c\n",
    "    \n",
    "creditsSub['cast'] = creditsSub['cast'].apply(ParseCast)\n"
   ]
  },
  {
   "cell_type": "code",
   "execution_count": 8,
   "id": "8db452b1",
   "metadata": {},
   "outputs": [
    {
     "data": {
      "text/html": [
       "<div>\n",
       "<style scoped>\n",
       "    .dataframe tbody tr th:only-of-type {\n",
       "        vertical-align: middle;\n",
       "    }\n",
       "\n",
       "    .dataframe tbody tr th {\n",
       "        vertical-align: top;\n",
       "    }\n",
       "\n",
       "    .dataframe thead th {\n",
       "        text-align: right;\n",
       "    }\n",
       "</style>\n",
       "<table border=\"1\" class=\"dataframe\">\n",
       "  <thead>\n",
       "    <tr style=\"text-align: right;\">\n",
       "      <th></th>\n",
       "      <th>cast</th>\n",
       "      <th>crew</th>\n",
       "      <th>id</th>\n",
       "    </tr>\n",
       "  </thead>\n",
       "  <tbody>\n",
       "    <tr>\n",
       "      <th>0</th>\n",
       "      <td>[{'id': 31, 'name': 'Tom Hanks'}, {'id': 12898...</td>\n",
       "      <td>[{'id': 7879, 'job': 'Director', 'name': 'John...</td>\n",
       "      <td>862</td>\n",
       "    </tr>\n",
       "    <tr>\n",
       "      <th>1</th>\n",
       "      <td>[{'id': 2157, 'name': 'Robin Williams'}, {'id'...</td>\n",
       "      <td>[{'id': 876, 'job': 'Screenplay', 'name': 'Jon...</td>\n",
       "      <td>8844</td>\n",
       "    </tr>\n",
       "    <tr>\n",
       "      <th>2</th>\n",
       "      <td>[{'id': 6837, 'name': 'Walter Matthau'}, {'id'...</td>\n",
       "      <td>[{'id': 26502, 'job': 'Director', 'name': 'How...</td>\n",
       "      <td>15602</td>\n",
       "    </tr>\n",
       "    <tr>\n",
       "      <th>3</th>\n",
       "      <td>[{'id': 8851, 'name': 'Whitney Houston'}, {'id...</td>\n",
       "      <td>[{'id': 2178, 'job': 'Director', 'name': 'Fore...</td>\n",
       "      <td>31357</td>\n",
       "    </tr>\n",
       "    <tr>\n",
       "      <th>4</th>\n",
       "      <td>[{'id': 67773, 'name': 'Steve Martin'}, {'id':...</td>\n",
       "      <td>[{'id': 17698, 'job': 'Screenplay', 'name': 'N...</td>\n",
       "      <td>11862</td>\n",
       "    </tr>\n",
       "  </tbody>\n",
       "</table>\n",
       "</div>"
      ],
      "text/plain": [
       "                                                cast  \\\n",
       "0  [{'id': 31, 'name': 'Tom Hanks'}, {'id': 12898...   \n",
       "1  [{'id': 2157, 'name': 'Robin Williams'}, {'id'...   \n",
       "2  [{'id': 6837, 'name': 'Walter Matthau'}, {'id'...   \n",
       "3  [{'id': 8851, 'name': 'Whitney Houston'}, {'id...   \n",
       "4  [{'id': 67773, 'name': 'Steve Martin'}, {'id':...   \n",
       "\n",
       "                                                crew     id  \n",
       "0  [{'id': 7879, 'job': 'Director', 'name': 'John...    862  \n",
       "1  [{'id': 876, 'job': 'Screenplay', 'name': 'Jon...   8844  \n",
       "2  [{'id': 26502, 'job': 'Director', 'name': 'How...  15602  \n",
       "3  [{'id': 2178, 'job': 'Director', 'name': 'Fore...  31357  \n",
       "4  [{'id': 17698, 'job': 'Screenplay', 'name': 'N...  11862  "
      ]
     },
     "execution_count": 8,
     "metadata": {},
     "output_type": "execute_result"
    }
   ],
   "source": [
    "creditsSub.head()"
   ]
  },
  {
   "cell_type": "markdown",
   "id": "be54066d",
   "metadata": {},
   "source": [
    "### keywords table"
   ]
  },
  {
   "cell_type": "code",
   "execution_count": 9,
   "id": "2305f4a0",
   "metadata": {},
   "outputs": [
    {
     "data": {
      "text/html": [
       "<div>\n",
       "<style scoped>\n",
       "    .dataframe tbody tr th:only-of-type {\n",
       "        vertical-align: middle;\n",
       "    }\n",
       "\n",
       "    .dataframe tbody tr th {\n",
       "        vertical-align: top;\n",
       "    }\n",
       "\n",
       "    .dataframe thead th {\n",
       "        text-align: right;\n",
       "    }\n",
       "</style>\n",
       "<table border=\"1\" class=\"dataframe\">\n",
       "  <thead>\n",
       "    <tr style=\"text-align: right;\">\n",
       "      <th></th>\n",
       "      <th>id</th>\n",
       "      <th>keywords</th>\n",
       "    </tr>\n",
       "  </thead>\n",
       "  <tbody>\n",
       "    <tr>\n",
       "      <th>0</th>\n",
       "      <td>862</td>\n",
       "      <td>[{'id': 931, 'name': 'jealousy'}, {'id': 4290,...</td>\n",
       "    </tr>\n",
       "    <tr>\n",
       "      <th>1</th>\n",
       "      <td>8844</td>\n",
       "      <td>[{'id': 10090, 'name': 'board game'}, {'id': 1...</td>\n",
       "    </tr>\n",
       "    <tr>\n",
       "      <th>2</th>\n",
       "      <td>15602</td>\n",
       "      <td>[{'id': 1495, 'name': 'fishing'}, {'id': 12392...</td>\n",
       "    </tr>\n",
       "    <tr>\n",
       "      <th>3</th>\n",
       "      <td>31357</td>\n",
       "      <td>[{'id': 818, 'name': 'based on novel'}, {'id':...</td>\n",
       "    </tr>\n",
       "    <tr>\n",
       "      <th>4</th>\n",
       "      <td>11862</td>\n",
       "      <td>[{'id': 1009, 'name': 'baby'}, {'id': 1599, 'n...</td>\n",
       "    </tr>\n",
       "  </tbody>\n",
       "</table>\n",
       "</div>"
      ],
      "text/plain": [
       "      id                                           keywords\n",
       "0    862  [{'id': 931, 'name': 'jealousy'}, {'id': 4290,...\n",
       "1   8844  [{'id': 10090, 'name': 'board game'}, {'id': 1...\n",
       "2  15602  [{'id': 1495, 'name': 'fishing'}, {'id': 12392...\n",
       "3  31357  [{'id': 818, 'name': 'based on novel'}, {'id':...\n",
       "4  11862  [{'id': 1009, 'name': 'baby'}, {'id': 1599, 'n..."
      ]
     },
     "execution_count": 9,
     "metadata": {},
     "output_type": "execute_result"
    }
   ],
   "source": [
    "keywordsSub = keywords[['id','keywords']]\n",
    "keywordsSub['keywords'] = keywordsSub['keywords'].apply(ast.literal_eval)\n",
    "keywordsSub.head()"
   ]
  },
  {
   "cell_type": "markdown",
   "id": "f90268f9",
   "metadata": {},
   "source": [
    "## Merge Tables"
   ]
  },
  {
   "cell_type": "code",
   "execution_count": 31,
   "id": "816b9487",
   "metadata": {},
   "outputs": [
    {
     "data": {
      "text/html": [
       "<div>\n",
       "<style scoped>\n",
       "    .dataframe tbody tr th:only-of-type {\n",
       "        vertical-align: middle;\n",
       "    }\n",
       "\n",
       "    .dataframe tbody tr th {\n",
       "        vertical-align: top;\n",
       "    }\n",
       "\n",
       "    .dataframe thead th {\n",
       "        text-align: right;\n",
       "    }\n",
       "</style>\n",
       "<table border=\"1\" class=\"dataframe\">\n",
       "  <thead>\n",
       "    <tr style=\"text-align: right;\">\n",
       "      <th></th>\n",
       "      <th>adult</th>\n",
       "      <th>budget</th>\n",
       "      <th>genres</th>\n",
       "      <th>id</th>\n",
       "      <th>imdb_id</th>\n",
       "      <th>original_language</th>\n",
       "      <th>popularity</th>\n",
       "      <th>production_companies</th>\n",
       "      <th>production_countries</th>\n",
       "      <th>release_date</th>\n",
       "      <th>...</th>\n",
       "      <th>title</th>\n",
       "      <th>video</th>\n",
       "      <th>vote_average</th>\n",
       "      <th>vote_count</th>\n",
       "      <th>genreIds</th>\n",
       "      <th>productionCompIds</th>\n",
       "      <th>productionCountryId</th>\n",
       "      <th>cast</th>\n",
       "      <th>crew</th>\n",
       "      <th>keywords</th>\n",
       "    </tr>\n",
       "  </thead>\n",
       "  <tbody>\n",
       "    <tr>\n",
       "      <th>0</th>\n",
       "      <td>True</td>\n",
       "      <td>30000000.0</td>\n",
       "      <td>[{'id': 16, 'name': 'Animation'}, {'id': 35, '...</td>\n",
       "      <td>862</td>\n",
       "      <td>tt0114709</td>\n",
       "      <td>en</td>\n",
       "      <td>21.946943</td>\n",
       "      <td>[{'name': 'Pixar Animation Studios', 'id': 3}]</td>\n",
       "      <td>[{'iso_3166_1': 'US', 'name': 'United States o...</td>\n",
       "      <td>1995-10-30</td>\n",
       "      <td>...</td>\n",
       "      <td>Toy Story</td>\n",
       "      <td>False</td>\n",
       "      <td>7.7</td>\n",
       "      <td>5415.0</td>\n",
       "      <td>[16, 35, 10751]</td>\n",
       "      <td>[3]</td>\n",
       "      <td>[US]</td>\n",
       "      <td>[{'id': 31, 'name': 'Tom Hanks'}, {'id': 12898...</td>\n",
       "      <td>[{'id': 7879, 'job': 'Director', 'name': 'John...</td>\n",
       "      <td>[{'id': 931, 'name': 'jealousy'}, {'id': 4290,...</td>\n",
       "    </tr>\n",
       "    <tr>\n",
       "      <th>1</th>\n",
       "      <td>True</td>\n",
       "      <td>65000000.0</td>\n",
       "      <td>[{'id': 12, 'name': 'Adventure'}, {'id': 14, '...</td>\n",
       "      <td>8844</td>\n",
       "      <td>tt0113497</td>\n",
       "      <td>en</td>\n",
       "      <td>17.015539</td>\n",
       "      <td>[{'name': 'TriStar Pictures', 'id': 559}, {'na...</td>\n",
       "      <td>[{'iso_3166_1': 'US', 'name': 'United States o...</td>\n",
       "      <td>1995-12-15</td>\n",
       "      <td>...</td>\n",
       "      <td>Jumanji</td>\n",
       "      <td>False</td>\n",
       "      <td>6.9</td>\n",
       "      <td>2413.0</td>\n",
       "      <td>[12, 14, 10751]</td>\n",
       "      <td>[559, 2550, 10201]</td>\n",
       "      <td>[US]</td>\n",
       "      <td>[{'id': 2157, 'name': 'Robin Williams'}, {'id'...</td>\n",
       "      <td>[{'id': 876, 'job': 'Screenplay', 'name': 'Jon...</td>\n",
       "      <td>[{'id': 10090, 'name': 'board game'}, {'id': 1...</td>\n",
       "    </tr>\n",
       "  </tbody>\n",
       "</table>\n",
       "<p>2 rows × 22 columns</p>\n",
       "</div>"
      ],
      "text/plain": [
       "   adult      budget                                             genres    id  \\\n",
       "0   True  30000000.0  [{'id': 16, 'name': 'Animation'}, {'id': 35, '...   862   \n",
       "1   True  65000000.0  [{'id': 12, 'name': 'Adventure'}, {'id': 14, '...  8844   \n",
       "\n",
       "     imdb_id original_language  popularity  \\\n",
       "0  tt0114709                en   21.946943   \n",
       "1  tt0113497                en   17.015539   \n",
       "\n",
       "                                production_companies  \\\n",
       "0     [{'name': 'Pixar Animation Studios', 'id': 3}]   \n",
       "1  [{'name': 'TriStar Pictures', 'id': 559}, {'na...   \n",
       "\n",
       "                                production_countries release_date  ...  \\\n",
       "0  [{'iso_3166_1': 'US', 'name': 'United States o...   1995-10-30  ...   \n",
       "1  [{'iso_3166_1': 'US', 'name': 'United States o...   1995-12-15  ...   \n",
       "\n",
       "       title  video vote_average  vote_count         genreIds  \\\n",
       "0  Toy Story  False          7.7      5415.0  [16, 35, 10751]   \n",
       "1    Jumanji  False          6.9      2413.0  [12, 14, 10751]   \n",
       "\n",
       "    productionCompIds productionCountryId  \\\n",
       "0                 [3]                [US]   \n",
       "1  [559, 2550, 10201]                [US]   \n",
       "\n",
       "                                                cast  \\\n",
       "0  [{'id': 31, 'name': 'Tom Hanks'}, {'id': 12898...   \n",
       "1  [{'id': 2157, 'name': 'Robin Williams'}, {'id'...   \n",
       "\n",
       "                                                crew  \\\n",
       "0  [{'id': 7879, 'job': 'Director', 'name': 'John...   \n",
       "1  [{'id': 876, 'job': 'Screenplay', 'name': 'Jon...   \n",
       "\n",
       "                                            keywords  \n",
       "0  [{'id': 931, 'name': 'jealousy'}, {'id': 4290,...  \n",
       "1  [{'id': 10090, 'name': 'board game'}, {'id': 1...  \n",
       "\n",
       "[2 rows x 22 columns]"
      ]
     },
     "execution_count": 31,
     "metadata": {},
     "output_type": "execute_result"
    }
   ],
   "source": [
    "allData = metaSubset.merge(creditsSub, on='id')\n",
    "allData = allData.merge(keywordsSub, on='id')\n",
    "\n",
    "allData.head(2)"
   ]
  },
  {
   "cell_type": "code",
   "execution_count": 36,
   "id": "7c097121",
   "metadata": {},
   "outputs": [
    {
     "name": "stdout",
     "output_type": "stream",
     "text": [
      "missing budget rows : 37136\n"
     ]
    }
   ],
   "source": [
    "print(\"missing budget rows : {0}\".format(len(allData[allData['budget']==0])))\n",
    "allData = allData.drop(columns = 'budget')"
   ]
  },
  {
   "cell_type": "markdown",
   "id": "ddc2935e",
   "metadata": {},
   "source": [
    "### replace budget and revenue from the movie db"
   ]
  },
  {
   "cell_type": "code",
   "execution_count": 112,
   "id": "f0fbdd3b",
   "metadata": {},
   "outputs": [
    {
     "data": {
      "text/plain": [
       "27008"
      ]
     },
     "execution_count": 112,
     "metadata": {},
     "output_type": "execute_result"
    }
   ],
   "source": [
    "from os.path import exists\n",
    "\n",
    "if(exists('./money.csv')):\n",
    "    df = pd.read_csv('./money.csv')\n",
    "else:\n",
    "    df = pd.DataFrame(columns=['id','budget', 'revenue'])"
   ]
  },
  {
   "cell_type": "code",
   "execution_count": 110,
   "id": "a31ad220",
   "metadata": {},
   "outputs": [
    {
     "name": "stdout",
     "output_type": "stream",
     "text": [
      "f09db215292b8cd0e2396d9423025a0e\n",
      "0.0 percent complete\n",
      "0.09997037914691943 percent complete\n",
      "0.19994075829383887 percent complete\n",
      "0.2999111374407583 percent complete\n",
      "0.39988151658767773 percent complete\n",
      "0.49985189573459715 percent complete\n",
      "0.5998222748815166 percent complete\n"
     ]
    },
    {
     "ename": "KeyboardInterrupt",
     "evalue": "",
     "output_type": "error",
     "traceback": [
      "\u001b[1;31m---------------------------------------------------------------------------\u001b[0m",
      "\u001b[1;31mKeyboardInterrupt\u001b[0m                         Traceback (most recent call last)",
      "\u001b[1;32m~\\AppData\\Local\\Temp/ipykernel_8964/2189330455.py\u001b[0m in \u001b[0;36m<module>\u001b[1;34m\u001b[0m\n\u001b[0;32m     14\u001b[0m \u001b[1;32mfor\u001b[0m \u001b[0mi\u001b[0m \u001b[1;32min\u001b[0m \u001b[0mrange\u001b[0m\u001b[1;33m(\u001b[0m\u001b[0mlen\u001b[0m\u001b[1;33m(\u001b[0m\u001b[0mremaining\u001b[0m\u001b[1;33m)\u001b[0m\u001b[1;33m)\u001b[0m\u001b[1;33m:\u001b[0m\u001b[1;33m\u001b[0m\u001b[1;33m\u001b[0m\u001b[0m\n\u001b[0;32m     15\u001b[0m     \u001b[0mmovId\u001b[0m \u001b[1;33m=\u001b[0m \u001b[0mremaining\u001b[0m\u001b[1;33m[\u001b[0m\u001b[0mi\u001b[0m\u001b[1;33m]\u001b[0m\u001b[1;33m\u001b[0m\u001b[1;33m\u001b[0m\u001b[0m\n\u001b[1;32m---> 16\u001b[1;33m     \u001b[0mwebread\u001b[0m \u001b[1;33m=\u001b[0m\u001b[0mrq\u001b[0m\u001b[1;33m.\u001b[0m\u001b[0mget\u001b[0m\u001b[1;33m(\u001b[0m\u001b[1;34m'https://api.themoviedb.org/3/movie/{0}?api_key={1}'\u001b[0m\u001b[1;33m.\u001b[0m\u001b[0mformat\u001b[0m\u001b[1;33m(\u001b[0m\u001b[0mmovId\u001b[0m\u001b[1;33m,\u001b[0m\u001b[0mapi\u001b[0m\u001b[1;33m)\u001b[0m\u001b[1;33m)\u001b[0m\u001b[1;33m\u001b[0m\u001b[1;33m\u001b[0m\u001b[0m\n\u001b[0m\u001b[0;32m     17\u001b[0m \u001b[1;33m\u001b[0m\u001b[0m\n\u001b[0;32m     18\u001b[0m     \u001b[0mresp\u001b[0m \u001b[1;33m=\u001b[0m \u001b[0mwebread\u001b[0m\u001b[1;33m.\u001b[0m\u001b[0mjson\u001b[0m\u001b[1;33m(\u001b[0m\u001b[1;33m)\u001b[0m\u001b[1;33m\u001b[0m\u001b[1;33m\u001b[0m\u001b[0m\n",
      "\u001b[1;32m~\\anaconda3\\lib\\site-packages\\requests\\api.py\u001b[0m in \u001b[0;36mget\u001b[1;34m(url, params, **kwargs)\u001b[0m\n\u001b[0;32m     73\u001b[0m     \"\"\"\n\u001b[0;32m     74\u001b[0m \u001b[1;33m\u001b[0m\u001b[0m\n\u001b[1;32m---> 75\u001b[1;33m     \u001b[1;32mreturn\u001b[0m \u001b[0mrequest\u001b[0m\u001b[1;33m(\u001b[0m\u001b[1;34m'get'\u001b[0m\u001b[1;33m,\u001b[0m \u001b[0murl\u001b[0m\u001b[1;33m,\u001b[0m \u001b[0mparams\u001b[0m\u001b[1;33m=\u001b[0m\u001b[0mparams\u001b[0m\u001b[1;33m,\u001b[0m \u001b[1;33m**\u001b[0m\u001b[0mkwargs\u001b[0m\u001b[1;33m)\u001b[0m\u001b[1;33m\u001b[0m\u001b[1;33m\u001b[0m\u001b[0m\n\u001b[0m\u001b[0;32m     76\u001b[0m \u001b[1;33m\u001b[0m\u001b[0m\n\u001b[0;32m     77\u001b[0m \u001b[1;33m\u001b[0m\u001b[0m\n",
      "\u001b[1;32m~\\anaconda3\\lib\\site-packages\\requests\\api.py\u001b[0m in \u001b[0;36mrequest\u001b[1;34m(method, url, **kwargs)\u001b[0m\n\u001b[0;32m     59\u001b[0m     \u001b[1;31m# cases, and look like a memory leak in others.\u001b[0m\u001b[1;33m\u001b[0m\u001b[1;33m\u001b[0m\u001b[0m\n\u001b[0;32m     60\u001b[0m     \u001b[1;32mwith\u001b[0m \u001b[0msessions\u001b[0m\u001b[1;33m.\u001b[0m\u001b[0mSession\u001b[0m\u001b[1;33m(\u001b[0m\u001b[1;33m)\u001b[0m \u001b[1;32mas\u001b[0m \u001b[0msession\u001b[0m\u001b[1;33m:\u001b[0m\u001b[1;33m\u001b[0m\u001b[1;33m\u001b[0m\u001b[0m\n\u001b[1;32m---> 61\u001b[1;33m         \u001b[1;32mreturn\u001b[0m \u001b[0msession\u001b[0m\u001b[1;33m.\u001b[0m\u001b[0mrequest\u001b[0m\u001b[1;33m(\u001b[0m\u001b[0mmethod\u001b[0m\u001b[1;33m=\u001b[0m\u001b[0mmethod\u001b[0m\u001b[1;33m,\u001b[0m \u001b[0murl\u001b[0m\u001b[1;33m=\u001b[0m\u001b[0murl\u001b[0m\u001b[1;33m,\u001b[0m \u001b[1;33m**\u001b[0m\u001b[0mkwargs\u001b[0m\u001b[1;33m)\u001b[0m\u001b[1;33m\u001b[0m\u001b[1;33m\u001b[0m\u001b[0m\n\u001b[0m\u001b[0;32m     62\u001b[0m \u001b[1;33m\u001b[0m\u001b[0m\n\u001b[0;32m     63\u001b[0m \u001b[1;33m\u001b[0m\u001b[0m\n",
      "\u001b[1;32m~\\anaconda3\\lib\\site-packages\\requests\\sessions.py\u001b[0m in \u001b[0;36mrequest\u001b[1;34m(self, method, url, params, data, headers, cookies, files, auth, timeout, allow_redirects, proxies, hooks, stream, verify, cert, json)\u001b[0m\n\u001b[0;32m    540\u001b[0m         }\n\u001b[0;32m    541\u001b[0m         \u001b[0msend_kwargs\u001b[0m\u001b[1;33m.\u001b[0m\u001b[0mupdate\u001b[0m\u001b[1;33m(\u001b[0m\u001b[0msettings\u001b[0m\u001b[1;33m)\u001b[0m\u001b[1;33m\u001b[0m\u001b[1;33m\u001b[0m\u001b[0m\n\u001b[1;32m--> 542\u001b[1;33m         \u001b[0mresp\u001b[0m \u001b[1;33m=\u001b[0m \u001b[0mself\u001b[0m\u001b[1;33m.\u001b[0m\u001b[0msend\u001b[0m\u001b[1;33m(\u001b[0m\u001b[0mprep\u001b[0m\u001b[1;33m,\u001b[0m \u001b[1;33m**\u001b[0m\u001b[0msend_kwargs\u001b[0m\u001b[1;33m)\u001b[0m\u001b[1;33m\u001b[0m\u001b[1;33m\u001b[0m\u001b[0m\n\u001b[0m\u001b[0;32m    543\u001b[0m \u001b[1;33m\u001b[0m\u001b[0m\n\u001b[0;32m    544\u001b[0m         \u001b[1;32mreturn\u001b[0m \u001b[0mresp\u001b[0m\u001b[1;33m\u001b[0m\u001b[1;33m\u001b[0m\u001b[0m\n",
      "\u001b[1;32m~\\anaconda3\\lib\\site-packages\\requests\\sessions.py\u001b[0m in \u001b[0;36msend\u001b[1;34m(self, request, **kwargs)\u001b[0m\n\u001b[0;32m    653\u001b[0m \u001b[1;33m\u001b[0m\u001b[0m\n\u001b[0;32m    654\u001b[0m         \u001b[1;31m# Send the request\u001b[0m\u001b[1;33m\u001b[0m\u001b[1;33m\u001b[0m\u001b[0m\n\u001b[1;32m--> 655\u001b[1;33m         \u001b[0mr\u001b[0m \u001b[1;33m=\u001b[0m \u001b[0madapter\u001b[0m\u001b[1;33m.\u001b[0m\u001b[0msend\u001b[0m\u001b[1;33m(\u001b[0m\u001b[0mrequest\u001b[0m\u001b[1;33m,\u001b[0m \u001b[1;33m**\u001b[0m\u001b[0mkwargs\u001b[0m\u001b[1;33m)\u001b[0m\u001b[1;33m\u001b[0m\u001b[1;33m\u001b[0m\u001b[0m\n\u001b[0m\u001b[0;32m    656\u001b[0m \u001b[1;33m\u001b[0m\u001b[0m\n\u001b[0;32m    657\u001b[0m         \u001b[1;31m# Total elapsed time of the request (approximately)\u001b[0m\u001b[1;33m\u001b[0m\u001b[1;33m\u001b[0m\u001b[0m\n",
      "\u001b[1;32m~\\anaconda3\\lib\\site-packages\\requests\\adapters.py\u001b[0m in \u001b[0;36msend\u001b[1;34m(self, request, stream, timeout, verify, cert, proxies)\u001b[0m\n\u001b[0;32m    437\u001b[0m         \u001b[1;32mtry\u001b[0m\u001b[1;33m:\u001b[0m\u001b[1;33m\u001b[0m\u001b[1;33m\u001b[0m\u001b[0m\n\u001b[0;32m    438\u001b[0m             \u001b[1;32mif\u001b[0m \u001b[1;32mnot\u001b[0m \u001b[0mchunked\u001b[0m\u001b[1;33m:\u001b[0m\u001b[1;33m\u001b[0m\u001b[1;33m\u001b[0m\u001b[0m\n\u001b[1;32m--> 439\u001b[1;33m                 resp = conn.urlopen(\n\u001b[0m\u001b[0;32m    440\u001b[0m                     \u001b[0mmethod\u001b[0m\u001b[1;33m=\u001b[0m\u001b[0mrequest\u001b[0m\u001b[1;33m.\u001b[0m\u001b[0mmethod\u001b[0m\u001b[1;33m,\u001b[0m\u001b[1;33m\u001b[0m\u001b[1;33m\u001b[0m\u001b[0m\n\u001b[0;32m    441\u001b[0m                     \u001b[0murl\u001b[0m\u001b[1;33m=\u001b[0m\u001b[0murl\u001b[0m\u001b[1;33m,\u001b[0m\u001b[1;33m\u001b[0m\u001b[1;33m\u001b[0m\u001b[0m\n",
      "\u001b[1;32m~\\anaconda3\\lib\\site-packages\\urllib3\\connectionpool.py\u001b[0m in \u001b[0;36murlopen\u001b[1;34m(self, method, url, body, headers, retries, redirect, assert_same_host, timeout, pool_timeout, release_conn, chunked, body_pos, **response_kw)\u001b[0m\n\u001b[0;32m    697\u001b[0m \u001b[1;33m\u001b[0m\u001b[0m\n\u001b[0;32m    698\u001b[0m             \u001b[1;31m# Make the request on the httplib connection object.\u001b[0m\u001b[1;33m\u001b[0m\u001b[1;33m\u001b[0m\u001b[0m\n\u001b[1;32m--> 699\u001b[1;33m             httplib_response = self._make_request(\n\u001b[0m\u001b[0;32m    700\u001b[0m                 \u001b[0mconn\u001b[0m\u001b[1;33m,\u001b[0m\u001b[1;33m\u001b[0m\u001b[1;33m\u001b[0m\u001b[0m\n\u001b[0;32m    701\u001b[0m                 \u001b[0mmethod\u001b[0m\u001b[1;33m,\u001b[0m\u001b[1;33m\u001b[0m\u001b[1;33m\u001b[0m\u001b[0m\n",
      "\u001b[1;32m~\\anaconda3\\lib\\site-packages\\urllib3\\connectionpool.py\u001b[0m in \u001b[0;36m_make_request\u001b[1;34m(self, conn, method, url, timeout, chunked, **httplib_request_kw)\u001b[0m\n\u001b[0;32m    380\u001b[0m         \u001b[1;31m# Trigger any extra validation we need to do.\u001b[0m\u001b[1;33m\u001b[0m\u001b[1;33m\u001b[0m\u001b[0m\n\u001b[0;32m    381\u001b[0m         \u001b[1;32mtry\u001b[0m\u001b[1;33m:\u001b[0m\u001b[1;33m\u001b[0m\u001b[1;33m\u001b[0m\u001b[0m\n\u001b[1;32m--> 382\u001b[1;33m             \u001b[0mself\u001b[0m\u001b[1;33m.\u001b[0m\u001b[0m_validate_conn\u001b[0m\u001b[1;33m(\u001b[0m\u001b[0mconn\u001b[0m\u001b[1;33m)\u001b[0m\u001b[1;33m\u001b[0m\u001b[1;33m\u001b[0m\u001b[0m\n\u001b[0m\u001b[0;32m    383\u001b[0m         \u001b[1;32mexcept\u001b[0m \u001b[1;33m(\u001b[0m\u001b[0mSocketTimeout\u001b[0m\u001b[1;33m,\u001b[0m \u001b[0mBaseSSLError\u001b[0m\u001b[1;33m)\u001b[0m \u001b[1;32mas\u001b[0m \u001b[0me\u001b[0m\u001b[1;33m:\u001b[0m\u001b[1;33m\u001b[0m\u001b[1;33m\u001b[0m\u001b[0m\n\u001b[0;32m    384\u001b[0m             \u001b[1;31m# Py2 raises this as a BaseSSLError, Py3 raises it as socket timeout.\u001b[0m\u001b[1;33m\u001b[0m\u001b[1;33m\u001b[0m\u001b[0m\n",
      "\u001b[1;32m~\\anaconda3\\lib\\site-packages\\urllib3\\connectionpool.py\u001b[0m in \u001b[0;36m_validate_conn\u001b[1;34m(self, conn)\u001b[0m\n\u001b[0;32m   1008\u001b[0m         \u001b[1;31m# Force connect early to allow us to validate the connection.\u001b[0m\u001b[1;33m\u001b[0m\u001b[1;33m\u001b[0m\u001b[0m\n\u001b[0;32m   1009\u001b[0m         \u001b[1;32mif\u001b[0m \u001b[1;32mnot\u001b[0m \u001b[0mgetattr\u001b[0m\u001b[1;33m(\u001b[0m\u001b[0mconn\u001b[0m\u001b[1;33m,\u001b[0m \u001b[1;34m\"sock\"\u001b[0m\u001b[1;33m,\u001b[0m \u001b[1;32mNone\u001b[0m\u001b[1;33m)\u001b[0m\u001b[1;33m:\u001b[0m  \u001b[1;31m# AppEngine might not have  `.sock`\u001b[0m\u001b[1;33m\u001b[0m\u001b[1;33m\u001b[0m\u001b[0m\n\u001b[1;32m-> 1010\u001b[1;33m             \u001b[0mconn\u001b[0m\u001b[1;33m.\u001b[0m\u001b[0mconnect\u001b[0m\u001b[1;33m(\u001b[0m\u001b[1;33m)\u001b[0m\u001b[1;33m\u001b[0m\u001b[1;33m\u001b[0m\u001b[0m\n\u001b[0m\u001b[0;32m   1011\u001b[0m \u001b[1;33m\u001b[0m\u001b[0m\n\u001b[0;32m   1012\u001b[0m         \u001b[1;32mif\u001b[0m \u001b[1;32mnot\u001b[0m \u001b[0mconn\u001b[0m\u001b[1;33m.\u001b[0m\u001b[0mis_verified\u001b[0m\u001b[1;33m:\u001b[0m\u001b[1;33m\u001b[0m\u001b[1;33m\u001b[0m\u001b[0m\n",
      "\u001b[1;32m~\\anaconda3\\lib\\site-packages\\urllib3\\connection.py\u001b[0m in \u001b[0;36mconnect\u001b[1;34m(self)\u001b[0m\n\u001b[0;32m    356\u001b[0m     \u001b[1;32mdef\u001b[0m \u001b[0mconnect\u001b[0m\u001b[1;33m(\u001b[0m\u001b[0mself\u001b[0m\u001b[1;33m)\u001b[0m\u001b[1;33m:\u001b[0m\u001b[1;33m\u001b[0m\u001b[1;33m\u001b[0m\u001b[0m\n\u001b[0;32m    357\u001b[0m         \u001b[1;31m# Add certificate verification\u001b[0m\u001b[1;33m\u001b[0m\u001b[1;33m\u001b[0m\u001b[0m\n\u001b[1;32m--> 358\u001b[1;33m         \u001b[0mconn\u001b[0m \u001b[1;33m=\u001b[0m \u001b[0mself\u001b[0m\u001b[1;33m.\u001b[0m\u001b[0m_new_conn\u001b[0m\u001b[1;33m(\u001b[0m\u001b[1;33m)\u001b[0m\u001b[1;33m\u001b[0m\u001b[1;33m\u001b[0m\u001b[0m\n\u001b[0m\u001b[0;32m    359\u001b[0m         \u001b[0mhostname\u001b[0m \u001b[1;33m=\u001b[0m \u001b[0mself\u001b[0m\u001b[1;33m.\u001b[0m\u001b[0mhost\u001b[0m\u001b[1;33m\u001b[0m\u001b[1;33m\u001b[0m\u001b[0m\n\u001b[0;32m    360\u001b[0m         \u001b[0mtls_in_tls\u001b[0m \u001b[1;33m=\u001b[0m \u001b[1;32mFalse\u001b[0m\u001b[1;33m\u001b[0m\u001b[1;33m\u001b[0m\u001b[0m\n",
      "\u001b[1;32m~\\anaconda3\\lib\\site-packages\\urllib3\\connection.py\u001b[0m in \u001b[0;36m_new_conn\u001b[1;34m(self)\u001b[0m\n\u001b[0;32m    172\u001b[0m \u001b[1;33m\u001b[0m\u001b[0m\n\u001b[0;32m    173\u001b[0m         \u001b[1;32mtry\u001b[0m\u001b[1;33m:\u001b[0m\u001b[1;33m\u001b[0m\u001b[1;33m\u001b[0m\u001b[0m\n\u001b[1;32m--> 174\u001b[1;33m             conn = connection.create_connection(\n\u001b[0m\u001b[0;32m    175\u001b[0m                 \u001b[1;33m(\u001b[0m\u001b[0mself\u001b[0m\u001b[1;33m.\u001b[0m\u001b[0m_dns_host\u001b[0m\u001b[1;33m,\u001b[0m \u001b[0mself\u001b[0m\u001b[1;33m.\u001b[0m\u001b[0mport\u001b[0m\u001b[1;33m)\u001b[0m\u001b[1;33m,\u001b[0m \u001b[0mself\u001b[0m\u001b[1;33m.\u001b[0m\u001b[0mtimeout\u001b[0m\u001b[1;33m,\u001b[0m \u001b[1;33m**\u001b[0m\u001b[0mextra_kw\u001b[0m\u001b[1;33m\u001b[0m\u001b[1;33m\u001b[0m\u001b[0m\n\u001b[0;32m    176\u001b[0m             )\n",
      "\u001b[1;32m~\\anaconda3\\lib\\site-packages\\urllib3\\util\\connection.py\u001b[0m in \u001b[0;36mcreate_connection\u001b[1;34m(address, timeout, source_address, socket_options)\u001b[0m\n\u001b[0;32m     84\u001b[0m             \u001b[1;32mif\u001b[0m \u001b[0msource_address\u001b[0m\u001b[1;33m:\u001b[0m\u001b[1;33m\u001b[0m\u001b[1;33m\u001b[0m\u001b[0m\n\u001b[0;32m     85\u001b[0m                 \u001b[0msock\u001b[0m\u001b[1;33m.\u001b[0m\u001b[0mbind\u001b[0m\u001b[1;33m(\u001b[0m\u001b[0msource_address\u001b[0m\u001b[1;33m)\u001b[0m\u001b[1;33m\u001b[0m\u001b[1;33m\u001b[0m\u001b[0m\n\u001b[1;32m---> 86\u001b[1;33m             \u001b[0msock\u001b[0m\u001b[1;33m.\u001b[0m\u001b[0mconnect\u001b[0m\u001b[1;33m(\u001b[0m\u001b[0msa\u001b[0m\u001b[1;33m)\u001b[0m\u001b[1;33m\u001b[0m\u001b[1;33m\u001b[0m\u001b[0m\n\u001b[0m\u001b[0;32m     87\u001b[0m             \u001b[1;32mreturn\u001b[0m \u001b[0msock\u001b[0m\u001b[1;33m\u001b[0m\u001b[1;33m\u001b[0m\u001b[0m\n\u001b[0;32m     88\u001b[0m \u001b[1;33m\u001b[0m\u001b[0m\n",
      "\u001b[1;31mKeyboardInterrupt\u001b[0m: "
     ]
    }
   ],
   "source": [
    "import json\n",
    "import time\n",
    "f = open(\"./api.json\")\n",
    "j = json.load(f)\n",
    "\n",
    "api = j['THE_MOVIE_DB_API']\n",
    "\n",
    "from bs4 import BeautifulSoup\n",
    "import requests as rq\n",
    "\n",
    "print(api)\n",
    "\n",
    "remaining = [x for x in allData['id'] if x not in df['id']]\n",
    "for i in range(len(remaining)):\n",
    "    movId = remaining[i]\n",
    "    webread =rq.get('https://api.themoviedb.org/3/movie/{0}?api_key={1}'.format(movId,api))\n",
    "    \n",
    "    resp = webread.json()\n",
    "    budget = np.nan\n",
    "    if('budget' in resp.keys() and int(resp['budget']) !=0):\n",
    "        budget = int(resp['budget'])\n",
    "   \n",
    "    revenue = np.nan\n",
    "    if('revenue' in resp.keys() and int(resp['revenue']) !=0):\n",
    "        revenue = int(resp['revenue'])\n",
    "    \n",
    "    df = df.append({'id': movId, 'budget': budget, 'revenue':revenue}, ignore_index=True)\n",
    "\n",
    "    if(i % (len(remaining)//1000) == 0):\n",
    "        print(\"{0} percent complete\".format(float(i*100)/float(len(remaining))))\n",
    "    #time.sleep(.1)\n",
    "    \n",
    "    \n",
    "moneyfile = \"money.csv\"\n",
    "df.to_csv(moneyfile, sep=',', index = False)\n",
    "    "
   ]
  },
  {
   "cell_type": "code",
   "execution_count": 88,
   "id": "0a7004fb",
   "metadata": {},
   "outputs": [
    {
     "name": "stdout",
     "output_type": "stream",
     "text": [
      "10653\n",
      "9565\n"
     ]
    },
    {
     "data": {
      "text/html": [
       "<div>\n",
       "<style scoped>\n",
       "    .dataframe tbody tr th:only-of-type {\n",
       "        vertical-align: middle;\n",
       "    }\n",
       "\n",
       "    .dataframe tbody tr th {\n",
       "        vertical-align: top;\n",
       "    }\n",
       "\n",
       "    .dataframe thead th {\n",
       "        text-align: right;\n",
       "    }\n",
       "</style>\n",
       "<table border=\"1\" class=\"dataframe\">\n",
       "  <thead>\n",
       "    <tr style=\"text-align: right;\">\n",
       "      <th></th>\n",
       "      <th>id</th>\n",
       "      <th>budget</th>\n",
       "      <th>revenue</th>\n",
       "    </tr>\n",
       "  </thead>\n",
       "  <tbody>\n",
       "    <tr>\n",
       "      <th>0</th>\n",
       "      <td>862</td>\n",
       "      <td>30000000</td>\n",
       "      <td>373554033</td>\n",
       "    </tr>\n",
       "    <tr>\n",
       "      <th>1</th>\n",
       "      <td>8844</td>\n",
       "      <td>65000000</td>\n",
       "      <td>262797249</td>\n",
       "    </tr>\n",
       "    <tr>\n",
       "      <th>2</th>\n",
       "      <td>15602</td>\n",
       "      <td>25000000</td>\n",
       "      <td>71500000</td>\n",
       "    </tr>\n",
       "    <tr>\n",
       "      <th>3</th>\n",
       "      <td>31357</td>\n",
       "      <td>16000000</td>\n",
       "      <td>81452156</td>\n",
       "    </tr>\n",
       "    <tr>\n",
       "      <th>4</th>\n",
       "      <td>11862.0</td>\n",
       "      <td>NaN</td>\n",
       "      <td>76594107.0</td>\n",
       "    </tr>\n",
       "  </tbody>\n",
       "</table>\n",
       "</div>"
      ],
      "text/plain": [
       "        id    budget     revenue\n",
       "0      862  30000000   373554033\n",
       "1     8844  65000000   262797249\n",
       "2    15602  25000000    71500000\n",
       "3    31357  16000000    81452156\n",
       "4  11862.0       NaN  76594107.0"
      ]
     },
     "execution_count": 88,
     "metadata": {},
     "output_type": "execute_result"
    }
   ],
   "source": [
    "print(len(df[~df['budget'].isna()]))\n",
    "print(len(df[~df['revenue'].isna()]))\n",
    "df.head()"
   ]
  },
  {
   "cell_type": "code",
   "execution_count": 104,
   "id": "a21c4520",
   "metadata": {},
   "outputs": [
    {
     "name": "stdout",
     "output_type": "stream",
     "text": [
      "count    6814.000000\n",
      "mean        1.388757\n",
      "std         2.306997\n",
      "min        -0.999999\n",
      "25%        -0.348761\n",
      "50%         0.686763\n",
      "75%         2.399924\n",
      "max         9.987366\n",
      "Name: profit_margin, dtype: float64\n",
      "DataSet with profit Margin count: 6814\n"
     ]
    },
    {
     "data": {
      "image/png": "[encoded data removed]",
      "text/plain": [
       "<Figure size 432x288 with 1 Axes>"
      ]
     },
     "metadata": {
      "needs_background": "light"
     },
     "output_type": "display_data"
    }
   ],
   "source": [
    "dataset = allData.merge(df, on='id')\n",
    "\n",
    "subDataSet = dataset[(~dataset['budget'].isna()) & (~dataset['revenue'].isna())]\n",
    "\n",
    "\n",
    "subDataSet = subDataSet.assign(profit_margin = subDataSet.apply(lambda row: (row['revenue']-row['budget'])/row['budget'], axis=1).values)\n",
    "\n",
    "reasonableMargin = subDataSet[subDataSet['profit_margin']<10]\n",
    "\n",
    "print(reasonableMargin['profit_margin'].describe())\n",
    "print(\"DataSet with profit Margin count: {0}\".format(len(reasonableMargin)))\n",
    "plt.scatter(reasonableMargin['release_date'], reasonableMargin['profit_margin'])\n",
    "plt.show()"
   ]
  },
  {
   "cell_type": "markdown",
   "id": "fbc3b7b6",
   "metadata": {},
   "source": [
    "### Write out Data Wrangled sets"
   ]
  },
  {
   "cell_type": "code",
   "execution_count": 107,
   "id": "825a6e0b",
   "metadata": {},
   "outputs": [],
   "source": [
    "marginFile = \"resonableMargins.csv\"\n",
    "reasonableMargin.to_csv(marginFile, sep=',', index=False)\n",
    "\n",
    "allDataFile = \"allData.csv\"\n",
    "reasonableMargin.to_csv(allDataFile, sep=',', index=False)"
   ]
  }
 ],
 "metadata": {
  "kernelspec": {
   "display_name": "Python 3 (ipykernel)",
   "language": "python",
   "name": "python3"
  },
  "language_info": {
   "codemirror_mode": {
    "name": "ipython",
    "version": 3
   },
   "file_extension": ".py",
   "mimetype": "text/x-python",
   "name": "python",
   "nbconvert_exporter": "python",
   "pygments_lexer": "ipython3",
   "version": "3.9.7"
  }
 },
 "nbformat": 4,
 "nbformat_minor": 5
}
