{
 "cells": [
  {
   "cell_type": "markdown",
   "metadata": {},
   "source": [
    "This exercise will require you to pull some data from https://data.nasdaq.com/ (formerly Quandl API)."
   ]
  },
  {
   "cell_type": "markdown",
   "metadata": {},
   "source": [
    "As a first step, you will need to register a free account on the https://data.nasdaq.com/ website."
   ]
  },
  {
   "cell_type": "markdown",
   "metadata": {},
   "source": [
    "After you register, you will be provided with a unique API key, that you should store:\n",
    "\n",
    "*Note*: Use a `.env` file and put your key in there and `python-dotenv` to access it in this notebook. \n",
    "\n",
    "The code below uses a key that was used when generating this project but has since been deleted. Never submit your keys to source control. There is a `.env-example` file in this repository to illusrtate what you need. Copy that to a file called `.env` and use your own api key in that `.env` file. Make sure you also have a `.gitignore` file with a line for `.env` added to it. \n",
    "\n",
    "The standard Python gitignore is [here](https://github.com/github/gitignore/blob/master/Python.gitignore) you can just copy that. "
   ]
  },
  {
   "cell_type": "code",
   "execution_count": 1,
   "metadata": {},
   "outputs": [
    {
     "name": "stdout",
     "output_type": "stream",
     "text": [
      "xD1afPox7qzV7aXxrJUp\n"
     ]
    }
   ],
   "source": [
    "# get api key from your .env file\n",
    "import os\n",
    "from dotenv import load_dotenv\n",
    "\n",
    "load_dotenv()\n",
    "API_KEY = os.getenv('NASDAQ_API_KEY')\n",
    "\n",
    "print(API_KEY)"
   ]
  },
  {
   "cell_type": "markdown",
   "metadata": {},
   "source": [
    "Nasdaq Data has a large number of data sources, but, unfortunately, most of them require a Premium subscription. Still, there are also a good number of free datasets."
   ]
  },
  {
   "cell_type": "markdown",
   "metadata": {},
   "source": [
    "For this mini project, we will focus on equities data from the Frankfurt Stock Exhange (FSE), which is available for free. We'll try and analyze the stock prices of a company called Carl Zeiss Meditec, which manufactures tools for eye examinations, as well as medical lasers for laser eye surgery: https://www.zeiss.com/meditec/int/home.html. The company is listed under the stock ticker AFX_X."
   ]
  },
  {
   "cell_type": "markdown",
   "metadata": {},
   "source": [
    "You can find the detailed Nasdaq Data API instructions here: https://docs.data.nasdaq.com/docs/in-depth-usage"
   ]
  },
  {
   "cell_type": "markdown",
   "metadata": {},
   "source": [
    "While there is a dedicated Python package for connecting to the Nasdaq API, we would prefer that you use the *requests* package, which can be easily downloaded using *pip* or *conda*. You can find the documentation for the package here: http://docs.python-requests.org/en/master/ "
   ]
  },
  {
   "cell_type": "markdown",
   "metadata": {},
   "source": [
    "Finally, apart from the *requests* package, you are encouraged to not use any third party Python packages, such as *pandas*, and instead focus on what's available in the Python Standard Library (the *collections* module might come in handy: https://pymotw.com/3/collections/).\n",
    "Also, since you won't have access to DataFrames, you are encouraged to us Python's native data structures - preferably dictionaries, though some questions can also be answered using lists.\n",
    "You can read more on these data structures here: https://docs.python.org/3/tutorial/datastructures.html"
   ]
  },
  {
   "cell_type": "markdown",
   "metadata": {},
   "source": [
    "Keep in mind that the JSON responses you will be getting from the API map almost one-to-one to Python's dictionaries. Unfortunately, they can be very nested, so make sure you read up on indexing dictionaries in the documentation provided above."
   ]
  },
  {
   "cell_type": "code",
   "execution_count": 2,
   "metadata": {},
   "outputs": [],
   "source": [
    "# First, import the relevant modules\n",
    "import requests\n",
    "import json"
   ]
  },
  {
   "cell_type": "markdown",
   "metadata": {},
   "source": [
    "Note: API's can change a bit with each version, for this exercise it is reccomended to use the nasdaq api at `https://data.nasdaq.com/api/v3/`. This is the same api as what used to be quandl so `https://www.quandl.com/api/v3/` should work too.\n",
    "\n",
    "Hint: We are looking for the `AFX_X` data on the `datasets/FSE/` dataset."
   ]
  },
  {
   "cell_type": "code",
   "execution_count": 3,
   "metadata": {},
   "outputs": [],
   "source": [
    "# Now, call the Nasdaq API and pull out a small sample of the data (only one day) to get a glimpse\n",
    "# into the JSON structure that will be returned\n",
    "r = requests.get(\"https://data.nasdaq.com/api/v3/datasets/FSE/AFX_X.json?start_date=2020-11-01&end_date=2020-11-02&api_key={0}\".format(API_KEY))"
   ]
  },
  {
   "cell_type": "code",
   "execution_count": 4,
   "metadata": {},
   "outputs": [
    {
     "name": "stdout",
     "output_type": "stream",
     "text": [
      "{\n",
      "  \"dataset\": {\n",
      "    \"id\": 10095370,\n",
      "    \"dataset_code\": \"AFX_X\",\n",
      "    \"database_code\": \"FSE\",\n",
      "    \"name\": \"Carl Zeiss Meditec (AFX_X)\",\n",
      "    \"description\": \"Stock Prices for Carl Zeiss Meditec (2020-11-02) from the Frankfurt Stock Exchange.<br><br>Trading System: Xetra<br><br>ISIN: DE0005313704\",\n",
      "    \"refreshed_at\": \"2020-12-01T14:48:09.907Z\",\n",
      "    \"newest_available_date\": \"2020-12-01\",\n",
      "    \"oldest_available_date\": \"2000-06-07\",\n",
      "    \"column_names\": [\n",
      "      \"Date\",\n",
      "      \"Open\",\n",
      "      \"High\",\n",
      "      \"Low\",\n",
      "      \"Close\",\n",
      "      \"Change\",\n",
      "      \"Traded Volume\",\n",
      "      \"Turnover\",\n",
      "      \"Last Price of the Day\",\n",
      "      \"Daily Traded Units\",\n",
      "      \"Daily Turnover\"\n",
      "    ],\n",
      "    \"frequency\": \"daily\",\n",
      "    \"type\": \"Time Series\",\n",
      "    \"premium\": false,\n",
      "    \"limit\": null,\n",
      "    \"transform\": null,\n",
      "    \"column_index\": null,\n",
      "    \"start_date\": \"2020-11-01\",\n",
      "    \"end_date\": \"2020-11-02\",\n",
      "    \"data\": [\n",
      "      [\n",
      "        \"2020-11-02\",\n",
      "        111.3,\n",
      "        111.6,\n",
      "        108.1,\n",
      "        108.1,\n",
      "        null,\n",
      "        362.0,\n",
      "        39844.5,\n",
      "        null,\n",
      "        null,\n",
      "        null\n",
      "      ]\n",
      "    ],\n",
      "    \"collapse\": null,\n",
      "    \"order\": null,\n",
      "    \"database_id\": 6129\n",
      "  }\n",
      "}\n"
     ]
    }
   ],
   "source": [
    "# Inspect the JSON structure of the object you created, and take note of how nested it is,\n",
    "# as well as the overall structure\n",
    "print(json.dumps(r.json(), indent=2))"
   ]
  },
  {
   "cell_type": "markdown",
   "metadata": {},
   "source": [
    "These are your tasks for this mini project:\n",
    "\n",
    "1. Collect data from the Franfurt Stock Exchange, for the ticker AFX_X, for the whole year 2017 (keep in mind that the date format is YYYY-MM-DD).\n",
    "2. Convert the returned JSON object into a Python dictionary.\n",
    "3. Calculate what the highest and lowest opening prices were for the stock in this period.\n",
    "4. What was the largest change in any one day (based on High and Low price)?\n",
    "5. What was the largest change between any two days (based on Closing Price)?\n",
    "6. What was the average daily trading volume during this year?\n",
    "7. (Optional) What was the median trading volume during this year. (Note: you may need to implement your own function for calculating the median.)"
   ]
  },
  {
   "cell_type": "code",
   "execution_count": 5,
   "metadata": {},
   "outputs": [
    {
     "name": "stdout",
     "output_type": "stream",
     "text": [
      "\n",
      "3a) Highest Opening Price\n",
      "53.11\n",
      "\n",
      "3b) Lowest Opening Price\n",
      "34.0\n",
      "\n",
      "4) Largest Change In Any One Day\n",
      "2.8100000000000023\n",
      "\n",
      "5) Largest Change in Two Consecutive Days\n",
      "2.559999999999995\n",
      "\n",
      "6) Average Daily Trading Volume\n",
      "89124.33725490196\n",
      "\n",
      "7) Median Daily Trading Volume\n",
      "76600.0\n"
     ]
    }
   ],
   "source": [
    "#Get 2017 data\n",
    "r = requests.get(\"https://data.nasdaq.com/api/v3/datasets/FSE/AFX_X.json?start_date=2017-01-01&end_date=2017-12-31&api_key={0}\".format(API_KEY))\n",
    "stockDict = r.json()\n",
    "\n",
    "stockColumns = stockDict['dataset']['column_names']\n",
    "stockData = stockDict['dataset']['data']\n",
    "\n",
    "#Opening Price\n",
    "openIndex = stockColumns.index(\"Open\")\n",
    "print(\"\\n3a) Highest Opening Price\")\n",
    "print(max([x[openIndex] for x in stockData if x[openIndex]!=None]))\n",
    "print(\"\\n3b) Lowest Opening Price\")\n",
    "print(min([x[openIndex] for x in stockData if x[openIndex]!=None]))\n",
    "\n",
    "# Change in any one day\n",
    "hiIndex = stockColumns.index(\"High\")\n",
    "loIndex = stockColumns.index(\"Low\")\n",
    "print(\"\\n4) Largest Change In Any One Day\")\n",
    "print(max([x[hiIndex]-x[loIndex] for x in stockData]))\n",
    "\n",
    "# Change between any two days\n",
    "closeIndex = stockColumns.index(\"Close\")\n",
    "print(\"\\n5) Largest Change in Two Consecutive Days\")\n",
    "# checking change (absolute value) in Closing Value between consequtive days\n",
    "print(max([ abs(stockData[i+1][closeIndex] - stockData[i][closeIndex])  for i in range(len(stockData)-1)]))\n",
    "\n",
    "#Trading Volume \n",
    "tradeVolIndex = stockColumns.index(\"Traded Volume\")\n",
    "vol = [ x[tradeVolIndex] for x in stockData]\n",
    "vol.sort()\n",
    "print(\"\\n6) Average Daily Trading Volume\")\n",
    "print(sum(vol)/len(vol))\n",
    "\n",
    "print(\"\\n7) Median Daily Trading Volume\")\n",
    "if(len(vol)%2 == 0):\n",
    "    #average of two middle values\n",
    "    print(vol[len(vol)/2]/2.0 + vol[len(vol)/2 + 1]/2.0 )\n",
    "else:\n",
    "    #middle value\n",
    "    print(vol[len(vol)//2+1])\n",
    "\n"
   ]
  },
  {
   "cell_type": "code",
   "execution_count": null,
   "metadata": {},
   "outputs": [],
   "source": []
  }
 ],
 "metadata": {
  "interpreter": {
   "hash": "7635eb1b9d0fe97add78a7368b6b431c09bb8ad5c42e437d64abdd99821c31ae"
  },
  "kernelspec": {
   "display_name": "Python 3 (ipykernel)",
   "language": "python",
   "name": "python3"
  },
  "language_info": {
   "codemirror_mode": {
    "name": "ipython",
    "version": 3
   },
   "file_extension": ".py",
   "mimetype": "text/x-python",
   "name": "python",
   "nbconvert_exporter": "python",
   "pygments_lexer": "ipython3",
   "version": "3.9.7"
  }
 },
 "nbformat": 4,
 "nbformat_minor": 4
}
