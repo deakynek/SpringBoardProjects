{
 "cells": [
  {
   "cell_type": "markdown",
   "id": "d3c340f1",
   "metadata": {},
   "source": [
    "## Exploratory Data Analysis"
   ]
  },
  {
   "cell_type": "code",
   "execution_count": 1,
   "id": "85ceb4a9",
   "metadata": {},
   "outputs": [],
   "source": [
    "# import libraries\n",
    "from datetime import datetime, timedelta\n",
    "import pandas as pd\n",
    "%matplotlib inline\n",
    "import matplotlib.pyplot as plt\n",
    "import numpy as np\n",
    "import seaborn as sns\n",
    "from __future__ import division\n",
    "\n",
    "\n",
    "\n",
    "\n",
    "import chart_studio.plotly as py\n",
    "import plotly.offline as pyoff\n",
    "import plotly.graph_objs as go\n"
   ]
  },
  {
   "cell_type": "code",
   "execution_count": 2,
   "id": "4a2c7fe5",
   "metadata": {},
   "outputs": [],
   "source": [
    "# Install a pip package in the current Jupyter kernel\n",
    "#import sys\n",
    "#!{sys.executable} -m pip install chart_studio"
   ]
  },
  {
   "cell_type": "code",
   "execution_count": 3,
   "id": "4aa3c0fd",
   "metadata": {},
   "outputs": [
    {
     "data": {
      "text/plain": [
       "Unnamed: 0                                int64\n",
       "order_id                                 object\n",
       "order_status                             object\n",
       "order_purchase_timestamp         datetime64[ns]\n",
       "order_approved_at                datetime64[ns]\n",
       "order_delivered_carrier_date     datetime64[ns]\n",
       "order_delivered_customer_date    datetime64[ns]\n",
       "order_estimated_delivery_date    datetime64[ns]\n",
       "shipping_limit_date              datetime64[ns]\n",
       "payment_installments                    float64\n",
       "product_category_name_english            object\n",
       "seller_id                                object\n",
       "seller_zip_code_prefix                  float64\n",
       "seller_city                              object\n",
       "seller_state                             object\n",
       "seller_latitude                         float64\n",
       "seller_longitude                        float64\n",
       "customer_id                              object\n",
       "customer_unique_id                       object\n",
       "customer_zip_code_prefix                  int64\n",
       "customer_city                            object\n",
       "customer_state                           object\n",
       "customer_latitude                       float64\n",
       "customer_longitude                      float64\n",
       "review_id                                object\n",
       "review_score                            float64\n",
       "review_creation_date             datetime64[ns]\n",
       "review_answer_timestamp          datetime64[ns]\n",
       "Total_price                             float64\n",
       "number_of_items                           int64\n",
       "Median_payments                         float64\n",
       "Total_payment                           float64\n",
       "Total_Freight                           float64\n",
       "order_weight_g                          float64\n",
       "order_volume_cm3                        float64\n",
       "payment_type                             object\n",
       "Purchase_To_Delivery_Days               float64\n",
       "Approved_To_Delivery_Days               float64\n",
       "Diff_Est_Delivery_vs_Actual             float64\n",
       "dtype: object"
      ]
     },
     "execution_count": 3,
     "metadata": {},
     "output_type": "execute_result"
    }
   ],
   "source": [
    "#Import Data\n",
    "parse_dates = ['order_purchase_timestamp',\n",
    " 'order_approved_at',\n",
    " 'order_delivered_carrier_date',\n",
    " 'order_delivered_customer_date',\n",
    " 'order_estimated_delivery_date',\n",
    " 'shipping_limit_date',\n",
    "'review_creation_date',\n",
    " 'review_answer_timestamp',]\n",
    "\n",
    "OL_Data = pd.read_csv(\"./OL_Data_Order_Grouped.csv\", \n",
    "                      parse_dates=parse_dates,\n",
    "                      date_parser = pd.to_datetime)\n",
    "\n",
    "\n",
    "\n",
    "OL_Data.dtypes\n"
   ]
  },
  {
   "cell_type": "markdown",
   "id": "9950ad17",
   "metadata": {},
   "source": [
    "<div class=\"span5 alert alert-info\">\n",
    "<h2>RFM Scoring</h2>\n",
    "</div>"
   ]
  },
  {
   "cell_type": "markdown",
   "id": "fe707dc3",
   "metadata": {},
   "source": [
    "<h4>Functions</h4>"
   ]
  },
  {
   "cell_type": "code",
   "execution_count": 4,
   "id": "e9bd87cf",
   "metadata": {},
   "outputs": [],
   "source": [
    "from sklearn.cluster import KMeans\n",
    "\n",
    "def PrintKmeansInertiaGraph(dataFrame, column):\n",
    "    PrintKmeansInertiaGraphWithArray(dataFrame, [column])\n",
    "    \n",
    "def PrintKmeansInertiaGraphWithArray(dataFrame, columns):\n",
    "    sse={}\n",
    "    columnDF = dataFrame[columns]\n",
    "    \n",
    "    for k in range(1, 10):\n",
    "        kmeans = KMeans(n_clusters=k, max_iter=1000).fit(columnDF)\n",
    "        columnDF.assign(clusters=kmeans.labels_)\n",
    "        sse[k] = kmeans.inertia_ \n",
    "    plt.figure()\n",
    "    plt.plot(list(sse.keys()), list(sse.values()))\n",
    "    plt.xlabel(\"Number of cluster\")\n",
    "    plt.show()\n",
    "    \n",
    "def PerformKMeans(dataFrame, column, numClusters):\n",
    "    kmeans = KMeans(n_clusters=numClusters)\n",
    "    kmeans.fit(dataFrame[[column]])\n",
    "    clusterCol = '{0}Cluster'.format(column)\n",
    "    clusters = kmeans.predict(dataFrame[[column]])\n",
    "    \n",
    "    if(clusterCol in dataFrame.columns):\n",
    "        dataFrame.loc[:,clusterCol] = clusters\n",
    "    else:\n",
    "        dataFrame[clusterCol] = clusters\n",
    "    \n",
    "def PerformKMeansWithArray(dataFrame, columns, numClusters, clusterName):\n",
    "    kmeans = KMeans(n_clusters=numClusters)\n",
    "    kmeans.fit(dataFrame[columns])\n",
    "    clusterCol = '{0}'.format(clusterName)\n",
    "    clusters = kmeans.predict(dataFrame[columns])\n",
    "    \n",
    "    if(clusterCol in dataFrame.columns):\n",
    "        dataFrame.loc[:,clusterCol] = clusters\n",
    "    else:\n",
    "        dataFrame[clusterCol] = clusters\n",
    "    \n",
    "#function for ordering cluster numbers\n",
    "def clustersInOrder(clusterName, targetName, dataFrame, ascending):\n",
    "    \n",
    "    #Set New Labels on Clusters, 0-max in order of mean targetName Value\n",
    "    df_new = dataFrame.groupby(clusterName)[targetName].mean().reset_index()\n",
    "    df_new = df_new.sort_values(by=targetName,ascending=ascending).reset_index(drop=True)\n",
    "    df_new['index'] = df_new.index\n",
    "    \n",
    "    #Set New Labels of Clusters to \n",
    "    df_final = pd.merge(dataFrame,df_new[[clusterName,'index']], on=clusterName)\n",
    "    df_final = df_final.drop([clusterName],axis=1)\n",
    "    df_final = df_final.rename(columns={\"index\":clusterName})\n",
    "    \n",
    "    return df_final"
   ]
  },
  {
   "cell_type": "markdown",
   "id": "8fa9a63a",
   "metadata": {},
   "source": [
    "<div class=\"span5 alert alert-info\">\n",
    "<h3>Buyers</h3>\n",
    "</div>"
   ]
  },
  {
   "cell_type": "markdown",
   "id": "5c79e8fe",
   "metadata": {},
   "source": [
    "<h4>Recency</h4>"
   ]
  },
  {
   "cell_type": "code",
   "execution_count": 5,
   "id": "93c8ec88",
   "metadata": {
    "scrolled": true
   },
   "outputs": [
    {
     "name": "stdout",
     "output_type": "stream",
     "text": [
      "count    94467.000000\n",
      "mean       241.859888\n",
      "std        152.702590\n",
      "min          0.000000\n",
      "25%        118.000000\n",
      "50%        223.000000\n",
      "75%        350.000000\n",
      "max        728.000000\n",
      "Name: Buyer_Recency, dtype: float64\n"
     ]
    },
    {
     "data": {
      "image/png": "[encoded data removed]",
      "text/plain": [
       "<Figure size 432x288 with 1 Axes>"
      ]
     },
     "metadata": {
      "needs_background": "light"
     },
     "output_type": "display_data"
    }
   ],
   "source": [
    "#Recency Score Calc\n",
    "buyers = pd.DataFrame(OL_Data['customer_unique_id'].unique())\n",
    "buyers.columns=['CustomerUniqueID']\n",
    "\n",
    "buyerMaxPurchase = OL_Data.groupby('customer_unique_id').order_purchase_timestamp.max().reset_index()\n",
    "buyerMaxPurchase.columns = ['CustomerUniqueID', 'MaxPurchaseDate']\n",
    "\n",
    "buyerMaxPurchase['Buyer_Recency'] = (buyerMaxPurchase['MaxPurchaseDate'].max() - buyerMaxPurchase['MaxPurchaseDate']).dt.days\n",
    "\n",
    "buyers = pd.merge(buyers, buyerMaxPurchase[['CustomerUniqueID','Buyer_Recency']])\n",
    "\n",
    "print(buyers['Buyer_Recency'].describe())\n",
    "buyers.Buyer_Recency.sort_values().hist(bins=100)\n",
    "plt.show()\n"
   ]
  },
  {
   "cell_type": "code",
   "execution_count": 6,
   "id": "9dcd2e91",
   "metadata": {
    "scrolled": true
   },
   "outputs": [
    {
     "data": {
      "image/png": "[encoded data removed]",
      "text/plain": [
       "<Figure size 432x288 with 1 Axes>"
      ]
     },
     "metadata": {
      "needs_background": "light"
     },
     "output_type": "display_data"
    }
   ],
   "source": [
    "PrintKmeansInertiaGraph(buyers,'Buyer_Recency')"
   ]
  },
  {
   "cell_type": "code",
   "execution_count": 7,
   "id": "71485311",
   "metadata": {},
   "outputs": [],
   "source": [
    "#Generate Recency Clusters, named 'RecencyCluster'\n",
    "PerformKMeans(buyers,'Buyer_Recency', 4)\n",
    "\n",
    "#Reset Cluster Names, Lower Recency = More Recent, Higher RecencyCluster\n",
    "buyers = clustersInOrder('Buyer_RecencyCluster', 'Buyer_Recency', buyers, False)"
   ]
  },
  {
   "cell_type": "markdown",
   "id": "cca42add",
   "metadata": {},
   "source": [
    "<h4>Frequency</h4>"
   ]
  },
  {
   "cell_type": "code",
   "execution_count": 8,
   "id": "44a68057",
   "metadata": {},
   "outputs": [
    {
     "name": "stdout",
     "output_type": "stream",
     "text": [
      "count    94467.000000\n",
      "mean         1.061005\n",
      "std          0.289504\n",
      "min          1.000000\n",
      "25%          1.000000\n",
      "50%          1.000000\n",
      "75%          1.000000\n",
      "max         16.000000\n",
      "Name: Buyer_Frequency, dtype: float64\n"
     ]
    },
    {
     "data": {
      "image/png": "[encoded data removed]",
      "text/plain": [
       "<Figure size 432x288 with 1 Axes>"
      ]
     },
     "metadata": {
      "needs_background": "light"
     },
     "output_type": "display_data"
    }
   ],
   "source": [
    "#Frequency\n",
    "freq = OL_Data.groupby('customer_unique_id').order_id.count().reset_index()\n",
    "freq.columns = ['CustomerUniqueID','Buyer_Frequency']\n",
    "freq.head()\n",
    "\n",
    "buyers = pd.merge(buyers,freq, on='CustomerUniqueID')\n",
    "\n",
    "print(buyers['Buyer_Frequency'].describe())\n",
    "buyers.Buyer_Frequency.sort_values().hist(bins=16)\n",
    "plt.show()"
   ]
  },
  {
   "cell_type": "code",
   "execution_count": 9,
   "id": "e7f1d4f6",
   "metadata": {},
   "outputs": [
    {
     "data": {
      "image/png": "[encoded data removed]",
      "text/plain": [
       "<Figure size 432x288 with 1 Axes>"
      ]
     },
     "metadata": {
      "needs_background": "light"
     },
     "output_type": "display_data"
    }
   ],
   "source": [
    "PrintKmeansInertiaGraph(buyers,'Buyer_Frequency')"
   ]
  },
  {
   "cell_type": "code",
   "execution_count": 10,
   "id": "840c6bb4",
   "metadata": {},
   "outputs": [],
   "source": [
    "#Generate Recency Clusters, named 'FrequencyCluster'\n",
    "PerformKMeans(buyers,'Buyer_Frequency', 4)\n",
    "\n",
    "#Reset Cluster Names, Higher Frequency = More Frequent, Higher Frequency Cluster\n",
    "buyers = clustersInOrder('Buyer_FrequencyCluster', 'Buyer_Frequency', buyers, True)"
   ]
  },
  {
   "cell_type": "markdown",
   "id": "0a3602ac",
   "metadata": {},
   "source": [
    "<h4>Revenue</h4>"
   ]
  },
  {
   "cell_type": "code",
   "execution_count": 11,
   "id": "6db729af",
   "metadata": {},
   "outputs": [
    {
     "name": "stdout",
     "output_type": "stream",
     "text": [
      "count    94467.000000\n",
      "mean       182.890726\n",
      "std        306.673979\n",
      "min          0.000000\n",
      "25%         63.230000\n",
      "50%        108.840000\n",
      "75%        188.340000\n",
      "max      13664.080000\n",
      "Name: Buyer_Revenue, dtype: float64\n"
     ]
    },
    {
     "data": {
      "image/png": "[encoded data removed]",
      "text/plain": [
       "<Figure size 432x288 with 1 Axes>"
      ]
     },
     "metadata": {
      "needs_background": "light"
     },
     "output_type": "display_data"
    }
   ],
   "source": [
    "#Revenue\n",
    "rev = OL_Data.groupby('customer_unique_id').Total_payment.sum().reset_index()\n",
    "rev.columns = ['CustomerUniqueID','Buyer_Revenue']\n",
    "\n",
    "buyers = pd.merge(buyers, rev, on='CustomerUniqueID')\n",
    "\n",
    "print(buyers['Buyer_Revenue'].describe())\n",
    "buyers.Buyer_Revenue.sort_values().hist(bins=16)\n",
    "plt.show()"
   ]
  },
  {
   "cell_type": "code",
   "execution_count": 12,
   "id": "a6e4178e",
   "metadata": {},
   "outputs": [
    {
     "data": {
      "image/png": "[encoded data removed]",
      "text/plain": [
       "<Figure size 432x288 with 1 Axes>"
      ]
     },
     "metadata": {
      "needs_background": "light"
     },
     "output_type": "display_data"
    }
   ],
   "source": [
    "PrintKmeansInertiaGraph(buyers,'Buyer_Revenue')"
   ]
  },
  {
   "cell_type": "code",
   "execution_count": 13,
   "id": "b1afd8bc",
   "metadata": {},
   "outputs": [],
   "source": [
    "#Generate Revenue Clusters, named 'RevenueCluster'\n",
    "PerformKMeans(buyers,'Buyer_Revenue', 5)\n",
    "\n",
    "#Reset Cluster Names, Higher Revenue, Higher Revenue Cluster\n",
    "buyers = clustersInOrder('Buyer_RevenueCluster', 'Buyer_Revenue', buyers, True)"
   ]
  },
  {
   "cell_type": "markdown",
   "id": "191b87a3",
   "metadata": {},
   "source": [
    "<h4>Scale RFM and Cluster</h4>"
   ]
  },
  {
   "cell_type": "code",
   "execution_count": 14,
   "id": "dd306b1c",
   "metadata": {},
   "outputs": [
    {
     "data": {
      "text/plain": [
       "Index(['Buyer_Recency', 'Buyer_Frequency', 'Buyer_Revenue', 'CustomerUniqueID',\n",
       "       'scale_recency', 'scale_frequency', 'scale_revenue',\n",
       "       'Buyer_Overall_RFM_Scaled'],\n",
       "      dtype='object')"
      ]
     },
     "execution_count": 14,
     "metadata": {},
     "output_type": "execute_result"
    }
   ],
   "source": [
    "sub = buyers[['Buyer_Recency','Buyer_Frequency','Buyer_Revenue','CustomerUniqueID']]\n",
    "\n",
    "sub = sub.assign(scale_recency=sub.apply(lambda x: 1 - x['Buyer_Recency']/sub['Buyer_Recency'].max(),axis=1))\n",
    "sub = sub.assign(scale_frequency=sub.apply(lambda x: x['Buyer_Frequency']/sub['Buyer_Frequency'].max(),axis=1))\n",
    "sub = sub.assign(scale_revenue=sub.apply(lambda x: x['Buyer_Revenue']/sub['Buyer_Revenue'].max(),axis=1))\n",
    "\n",
    "sub = sub.assign(Buyer_Overall_RFM_Scaled =sub.apply(lambda x: x['scale_recency']+x['scale_frequency']+x['scale_revenue'],axis=1))\n",
    "\n",
    "sub.columns"
   ]
  },
  {
   "cell_type": "code",
   "execution_count": 15,
   "id": "e238f018",
   "metadata": {},
   "outputs": [
    {
     "data": {
      "image/png": "[encoded data removed]",
      "text/plain": [
       "<Figure size 432x288 with 1 Axes>"
      ]
     },
     "metadata": {
      "needs_background": "light"
     },
     "output_type": "display_data"
    }
   ],
   "source": [
    "PrintKmeansInertiaGraphWithArray(sub,['scale_recency','scale_frequency','scale_revenue'])"
   ]
  },
  {
   "cell_type": "code",
   "execution_count": 16,
   "id": "40244b0f",
   "metadata": {},
   "outputs": [],
   "source": [
    "PerformKMeansWithArray(sub, ['scale_recency','scale_frequency','scale_revenue'], 6, 'Buyer_RFM_cluster')\n",
    "\n",
    "sub.groupby('Buyer_RFM_cluster')[['scale_recency','scale_frequency','scale_revenue']].mean().reset_index()\n",
    "\n",
    "buyers = buyers.merge(sub[['Buyer_RFM_cluster','CustomerUniqueID','Buyer_Overall_RFM_Scaled']], on='CustomerUniqueID')"
   ]
  },
  {
   "cell_type": "code",
   "execution_count": 17,
   "id": "e27acadc",
   "metadata": {},
   "outputs": [
    {
     "name": "stdout",
     "output_type": "stream",
     "text": [
      "Index(['CustomerUniqueID', 'Buyer_Recency', 'Buyer_RecencyCluster',\n",
      "       'Buyer_Frequency', 'Buyer_FrequencyCluster', 'Buyer_Revenue',\n",
      "       'Buyer_RevenueCluster', 'Buyer_RFM_cluster',\n",
      "       'Buyer_Overall_RFM_Scaled'],\n",
      "      dtype='object')\n"
     ]
    }
   ],
   "source": [
    "print(buyers.columns)\n",
    "buyers = clustersInOrder('Buyer_RFM_cluster', 'Buyer_Overall_RFM_Scaled', buyers, True)"
   ]
  },
  {
   "cell_type": "markdown",
   "id": "a1d3527b",
   "metadata": {},
   "source": [
    "<h4>Alternative RFM Clustering, sum RFM for overall score</h4>"
   ]
  },
  {
   "cell_type": "code",
   "execution_count": 18,
   "id": "fa8e205f",
   "metadata": {},
   "outputs": [
    {
     "name": "stdout",
     "output_type": "stream",
     "text": [
      "                       Buyer_Recency  Buyer_Frequency  Buyer_Revenue\n",
      "Buyer_OverallRFMScore                                               \n",
      "0                         486.767761         1.000000      96.906683\n",
      "1                         336.705533         1.011934     123.637667\n",
      "2                         212.921753         1.029319     145.519531\n",
      "3                          98.294274         1.046386     170.931987\n",
      "4                         112.451180         1.279292     469.795767\n",
      "5                         111.139637         1.663745     876.030820\n",
      "6                         104.621469         2.180791    1434.112863\n",
      "7                         102.297468         2.778481    2405.420506\n",
      "8                          97.207547         4.150943    3225.849434\n",
      "9                          69.083333         4.166667    4316.088333\n",
      "                       Buyer_Revenue\n",
      "Buyer_OverallRFMScore               \n",
      "0                              13499\n",
      "1                              21870\n",
      "2                              26263\n",
      "3                              25568\n",
      "4                               4916\n",
      "5                               1597\n",
      "6                                531\n",
      "7                                158\n",
      "8                                 53\n",
      "9                                 12\n"
     ]
    }
   ],
   "source": [
    "#calculate overall score and use mean() to see details\n",
    "buyers['Buyer_OverallRFMScore'] = buyers['Buyer_RecencyCluster'] + buyers['Buyer_FrequencyCluster'] + buyers['Buyer_RevenueCluster']\n",
    "buyers['Buyer_OverallRFM_Raw'] = buyers['Buyer_Recency'] + buyers['Buyer_Frequency'] + buyers['Buyer_Revenue']\n",
    "\n",
    "print(buyers.groupby('Buyer_OverallRFMScore')[['Buyer_Recency','Buyer_Frequency','Buyer_Revenue']].mean())\n",
    "\n",
    "print(buyers.groupby('Buyer_OverallRFMScore')[['Buyer_Revenue']].count())"
   ]
  },
  {
   "cell_type": "code",
   "execution_count": 19,
   "id": "c0476eaa",
   "metadata": {},
   "outputs": [],
   "source": [
    "#Assign labels\n",
    "buyers['Buyer_RFM_Ranking'] = 'Lowest'\n",
    "buyers.loc[buyers['Buyer_OverallRFMScore']>=1,'Buyer_RFM_Ranking'] ='Low' \n",
    "buyers.loc[buyers['Buyer_OverallRFMScore']>=3, 'Buyer_RFM_Ranking'] = 'Medium'\n",
    "buyers.loc[buyers['Buyer_OverallRFMScore']>=6, 'Buyer_RFM_Ranking'] = 'High'\n",
    "buyers.loc[buyers['Buyer_OverallRFMScore']>=8, 'Buyer_RFM_Ranking'] = 'Highest'"
   ]
  },
  {
   "cell_type": "code",
   "execution_count": 20,
   "id": "fca6c706",
   "metadata": {
    "scrolled": true
   },
   "outputs": [
    {
     "data": {
      "text/html": [
       "<div>\n",
       "<style scoped>\n",
       "    .dataframe tbody tr th:only-of-type {\n",
       "        vertical-align: middle;\n",
       "    }\n",
       "\n",
       "    .dataframe tbody tr th {\n",
       "        vertical-align: top;\n",
       "    }\n",
       "\n",
       "    .dataframe thead th {\n",
       "        text-align: right;\n",
       "    }\n",
       "</style>\n",
       "<table border=\"1\" class=\"dataframe\">\n",
       "  <thead>\n",
       "    <tr style=\"text-align: right;\">\n",
       "      <th></th>\n",
       "      <th>CustomerUniqueID</th>\n",
       "      <th>Buyer_Recency</th>\n",
       "      <th>Buyer_RecencyCluster</th>\n",
       "      <th>Buyer_Frequency</th>\n",
       "      <th>Buyer_FrequencyCluster</th>\n",
       "      <th>Buyer_Revenue</th>\n",
       "      <th>Buyer_RevenueCluster</th>\n",
       "      <th>Buyer_Overall_RFM_Scaled</th>\n",
       "      <th>Buyer_RFM_cluster</th>\n",
       "      <th>Buyer_OverallRFMScore</th>\n",
       "      <th>Buyer_OverallRFM_Raw</th>\n",
       "      <th>Buyer_RFM_Ranking</th>\n",
       "    </tr>\n",
       "  </thead>\n",
       "  <tbody>\n",
       "    <tr>\n",
       "      <th>0</th>\n",
       "      <td>7c396fd4830fd04220f754e42b4e5bff</td>\n",
       "      <td>335</td>\n",
       "      <td>1</td>\n",
       "      <td>2</td>\n",
       "      <td>1</td>\n",
       "      <td>82.82</td>\n",
       "      <td>0</td>\n",
       "      <td>0.670896</td>\n",
       "      <td>2</td>\n",
       "      <td>2</td>\n",
       "      <td>419.82</td>\n",
       "      <td>Low</td>\n",
       "    </tr>\n",
       "    <tr>\n",
       "      <th>1</th>\n",
       "      <td>7973a6ba9c81ecaeb3d628c33c7c7c48</td>\n",
       "      <td>348</td>\n",
       "      <td>1</td>\n",
       "      <td>2</td>\n",
       "      <td>1</td>\n",
       "      <td>115.74</td>\n",
       "      <td>0</td>\n",
       "      <td>0.655448</td>\n",
       "      <td>2</td>\n",
       "      <td>2</td>\n",
       "      <td>465.74</td>\n",
       "      <td>Low</td>\n",
       "    </tr>\n",
       "    <tr>\n",
       "      <th>2</th>\n",
       "      <td>0a5df23b922b9998bb7378f1ac03c98a</td>\n",
       "      <td>338</td>\n",
       "      <td>1</td>\n",
       "      <td>2</td>\n",
       "      <td>1</td>\n",
       "      <td>193.83</td>\n",
       "      <td>0</td>\n",
       "      <td>0.674900</td>\n",
       "      <td>2</td>\n",
       "      <td>2</td>\n",
       "      <td>533.83</td>\n",
       "      <td>Low</td>\n",
       "    </tr>\n",
       "    <tr>\n",
       "      <th>3</th>\n",
       "      <td>95cfb39a7e263160308a934e42cfc4e0</td>\n",
       "      <td>287</td>\n",
       "      <td>1</td>\n",
       "      <td>2</td>\n",
       "      <td>1</td>\n",
       "      <td>122.05</td>\n",
       "      <td>0</td>\n",
       "      <td>0.739701</td>\n",
       "      <td>2</td>\n",
       "      <td>2</td>\n",
       "      <td>411.05</td>\n",
       "      <td>Low</td>\n",
       "    </tr>\n",
       "    <tr>\n",
       "      <th>4</th>\n",
       "      <td>646d643b4ac1184e383341f8896c3dc8</td>\n",
       "      <td>286</td>\n",
       "      <td>1</td>\n",
       "      <td>2</td>\n",
       "      <td>1</td>\n",
       "      <td>178.04</td>\n",
       "      <td>0</td>\n",
       "      <td>0.745173</td>\n",
       "      <td>2</td>\n",
       "      <td>2</td>\n",
       "      <td>466.04</td>\n",
       "      <td>Low</td>\n",
       "    </tr>\n",
       "  </tbody>\n",
       "</table>\n",
       "</div>"
      ],
      "text/plain": [
       "                   CustomerUniqueID  Buyer_Recency  Buyer_RecencyCluster  \\\n",
       "0  7c396fd4830fd04220f754e42b4e5bff            335                     1   \n",
       "1  7973a6ba9c81ecaeb3d628c33c7c7c48            348                     1   \n",
       "2  0a5df23b922b9998bb7378f1ac03c98a            338                     1   \n",
       "3  95cfb39a7e263160308a934e42cfc4e0            287                     1   \n",
       "4  646d643b4ac1184e383341f8896c3dc8            286                     1   \n",
       "\n",
       "   Buyer_Frequency  Buyer_FrequencyCluster  Buyer_Revenue  \\\n",
       "0                2                       1          82.82   \n",
       "1                2                       1         115.74   \n",
       "2                2                       1         193.83   \n",
       "3                2                       1         122.05   \n",
       "4                2                       1         178.04   \n",
       "\n",
       "   Buyer_RevenueCluster  Buyer_Overall_RFM_Scaled  Buyer_RFM_cluster  \\\n",
       "0                     0                  0.670896                  2   \n",
       "1                     0                  0.655448                  2   \n",
       "2                     0                  0.674900                  2   \n",
       "3                     0                  0.739701                  2   \n",
       "4                     0                  0.745173                  2   \n",
       "\n",
       "   Buyer_OverallRFMScore  Buyer_OverallRFM_Raw Buyer_RFM_Ranking  \n",
       "0                      2                419.82               Low  \n",
       "1                      2                465.74               Low  \n",
       "2                      2                533.83               Low  \n",
       "3                      2                411.05               Low  \n",
       "4                      2                466.04               Low  "
      ]
     },
     "execution_count": 20,
     "metadata": {},
     "output_type": "execute_result"
    }
   ],
   "source": [
    "buyers.head()"
   ]
  },
  {
   "cell_type": "markdown",
   "id": "c405a117",
   "metadata": {},
   "source": [
    "<div class=\"span5 alert alert-info\">\n",
    "<h3>Sellers</h3>\n",
    "</div>"
   ]
  },
  {
   "cell_type": "markdown",
   "id": "27347006",
   "metadata": {},
   "source": [
    "<h4>Recency</h4>"
   ]
  },
  {
   "cell_type": "code",
   "execution_count": 21,
   "id": "ed65696a",
   "metadata": {},
   "outputs": [
    {
     "name": "stdout",
     "output_type": "stream",
     "text": [
      "count    2977.000000\n",
      "mean      134.126638\n",
      "std       163.831359\n",
      "min         0.000000\n",
      "25%        17.000000\n",
      "50%        46.000000\n",
      "75%       210.000000\n",
      "max       699.000000\n",
      "Name: Seller_Recency, dtype: float64\n"
     ]
    },
    {
     "data": {
      "image/png": "[encoded data removed]",
      "text/plain": [
       "<Figure size 432x288 with 1 Axes>"
      ]
     },
     "metadata": {
      "needs_background": "light"
     },
     "output_type": "display_data"
    }
   ],
   "source": [
    "#Recency Score Calc\n",
    "sellers = pd.DataFrame(OL_Data['seller_id'].unique())\n",
    "sellers.columns=['SellerID']\n",
    "\n",
    "sellerMaxSale = OL_Data.groupby('seller_id').order_purchase_timestamp.max().reset_index()\n",
    "sellerMaxSale.columns = ['SellerID', 'MaxSaleDate']\n",
    "\n",
    "sellerMaxSale['Seller_Recency'] = (sellerMaxSale['MaxSaleDate'].max() - sellerMaxSale['MaxSaleDate']).dt.days\n",
    "\n",
    "sellers = pd.merge(sellers, sellerMaxSale[['SellerID','Seller_Recency']])\n",
    "\n",
    "print(sellers['Seller_Recency'].describe())\n",
    "sellers.Seller_Recency.sort_values().hist(bins=100)\n",
    "plt.show()"
   ]
  },
  {
   "cell_type": "markdown",
   "id": "1a7d9133",
   "metadata": {},
   "source": [
    "<h4>Frequency</h4>"
   ]
  },
  {
   "cell_type": "code",
   "execution_count": 22,
   "id": "4ee8dd26",
   "metadata": {},
   "outputs": [
    {
     "name": "stdout",
     "output_type": "stream",
     "text": [
      "count    2977.000000\n",
      "mean       33.667786\n",
      "std       108.081772\n",
      "min         1.000000\n",
      "25%         2.000000\n",
      "50%         7.000000\n",
      "75%        22.000000\n",
      "max      1865.000000\n",
      "Name: Seller_Frequency, dtype: float64\n"
     ]
    },
    {
     "data": {
      "image/png": "[encoded data removed]",
      "text/plain": [
       "<Figure size 432x288 with 1 Axes>"
      ]
     },
     "metadata": {
      "needs_background": "light"
     },
     "output_type": "display_data"
    }
   ],
   "source": [
    "#Frequency\n",
    "freq = OL_Data.groupby('seller_id').order_id.count().reset_index()\n",
    "freq.columns = ['SellerID','Seller_Frequency']\n",
    "freq.head()\n",
    "\n",
    "sellers = pd.merge(sellers,freq, on='SellerID')\n",
    "\n",
    "print(sellers['Seller_Frequency'].describe())\n",
    "sellers.Seller_Frequency.sort_values().hist(bins=16)\n",
    "plt.show()"
   ]
  },
  {
   "cell_type": "markdown",
   "id": "40c5d6f8",
   "metadata": {},
   "source": [
    "<h4>Revenue</h4>"
   ]
  },
  {
   "cell_type": "code",
   "execution_count": 23,
   "id": "99e3b5e4",
   "metadata": {},
   "outputs": [
    {
     "name": "stdout",
     "output_type": "stream",
     "text": [
      "count      2977.000000\n",
      "mean       5803.513779\n",
      "std       17929.475314\n",
      "min          15.220000\n",
      "25%         315.440000\n",
      "50%        1164.380000\n",
      "75%        4533.870000\n",
      "max      301542.650000\n",
      "Name: Seller_Revenue, dtype: float64\n"
     ]
    },
    {
     "data": {
      "image/png": "[encoded data removed]",
      "text/plain": [
       "<Figure size 432x288 with 1 Axes>"
      ]
     },
     "metadata": {
      "needs_background": "light"
     },
     "output_type": "display_data"
    }
   ],
   "source": [
    "#Revenue\n",
    "rev = OL_Data.groupby('seller_id').Total_payment.sum().reset_index()\n",
    "rev.columns = ['SellerID','Seller_Revenue']\n",
    "\n",
    "sellers = pd.merge(sellers, rev, on='SellerID')\n",
    "\n",
    "print(sellers['Seller_Revenue'].describe())\n",
    "sellers.Seller_Revenue.sort_values().hist(bins=16)\n",
    "plt.show()"
   ]
  },
  {
   "cell_type": "code",
   "execution_count": 24,
   "id": "f9f3c98a",
   "metadata": {},
   "outputs": [
    {
     "name": "stdout",
     "output_type": "stream",
     "text": [
      "Seller_Recency\n"
     ]
    },
    {
     "data": {
      "image/png": "[encoded data removed]",
      "text/plain": [
       "<Figure size 432x288 with 1 Axes>"
      ]
     },
     "metadata": {
      "needs_background": "light"
     },
     "output_type": "display_data"
    },
    {
     "name": "stdout",
     "output_type": "stream",
     "text": [
      "\n",
      "Seller_Frequency\n"
     ]
    },
    {
     "data": {
      "image/png": "[encoded data removed]",
      "text/plain": [
       "<Figure size 432x288 with 1 Axes>"
      ]
     },
     "metadata": {
      "needs_background": "light"
     },
     "output_type": "display_data"
    },
    {
     "name": "stdout",
     "output_type": "stream",
     "text": [
      "\n",
      "Seller_Revenue\n"
     ]
    },
    {
     "data": {
      "image/png": "[encoded data removed]",
      "text/plain": [
       "<Figure size 432x288 with 1 Axes>"
      ]
     },
     "metadata": {
      "needs_background": "light"
     },
     "output_type": "display_data"
    }
   ],
   "source": [
    "print('Seller_Recency')\n",
    "PrintKmeansInertiaGraph(sellers,'Seller_Recency')\n",
    "print('')\n",
    "print('Seller_Frequency')\n",
    "PrintKmeansInertiaGraph(sellers,'Seller_Frequency')\n",
    "print('')\n",
    "print('Seller_Revenue')\n",
    "PrintKmeansInertiaGraph(sellers,'Seller_Revenue')"
   ]
  },
  {
   "cell_type": "code",
   "execution_count": 25,
   "id": "69de2257",
   "metadata": {},
   "outputs": [],
   "source": [
    "#Generate Revenue Clusters, named 'RevenueCluster'\n",
    "PerformKMeans(sellers,'Seller_Recency', 4)\n",
    "#Reset Cluster Names, Higher Revenue, Higher Revenue Cluster\n",
    "sellers = clustersInOrder('Seller_RecencyCluster', 'Seller_Recency', sellers, True)\n",
    "\n",
    "#Generate Recency Clusters, named 'FrequencyCluster'\n",
    "PerformKMeans(sellers,'Seller_Frequency', 4)\n",
    "#Reset Cluster Names, Higher Frequency = More Frequent, Higher Frequency Cluster\n",
    "sellers = clustersInOrder('Seller_FrequencyCluster', 'Seller_Frequency', sellers, True)\n",
    "\n",
    "#Generate Revenue Clusters, named 'RevenueCluster'\n",
    "PerformKMeans(sellers,'Seller_Revenue', 5)\n",
    "#Reset Cluster Names, Higher Revenue, Higher Revenue Cluster\n",
    "sellers = clustersInOrder('Seller_RevenueCluster', 'Seller_Revenue', sellers, True)"
   ]
  },
  {
   "cell_type": "markdown",
   "id": "2f5560c1",
   "metadata": {},
   "source": [
    "<h4>Scale RFM and Cluster</h4>"
   ]
  },
  {
   "cell_type": "code",
   "execution_count": 26,
   "id": "c9af1e71",
   "metadata": {},
   "outputs": [
    {
     "data": {
      "text/html": [
       "<div>\n",
       "<style scoped>\n",
       "    .dataframe tbody tr th:only-of-type {\n",
       "        vertical-align: middle;\n",
       "    }\n",
       "\n",
       "    .dataframe tbody tr th {\n",
       "        vertical-align: top;\n",
       "    }\n",
       "\n",
       "    .dataframe thead th {\n",
       "        text-align: right;\n",
       "    }\n",
       "</style>\n",
       "<table border=\"1\" class=\"dataframe\">\n",
       "  <thead>\n",
       "    <tr style=\"text-align: right;\">\n",
       "      <th></th>\n",
       "      <th>Seller_Recency</th>\n",
       "      <th>Seller_Frequency</th>\n",
       "      <th>Seller_Revenue</th>\n",
       "      <th>SellerID</th>\n",
       "      <th>scale_recency</th>\n",
       "      <th>scale_frequency</th>\n",
       "      <th>scale_revenue</th>\n",
       "      <th>Seller_Overall_RFM_Scaled</th>\n",
       "    </tr>\n",
       "  </thead>\n",
       "  <tbody>\n",
       "    <tr>\n",
       "      <th>0</th>\n",
       "      <td>300</td>\n",
       "      <td>53</td>\n",
       "      <td>3177.71</td>\n",
       "      <td>3504c0cb71d7fa48d967e0e4c94d59d9</td>\n",
       "      <td>0.570815</td>\n",
       "      <td>0.028418</td>\n",
       "      <td>0.010538</td>\n",
       "      <td>0.609772</td>\n",
       "    </tr>\n",
       "    <tr>\n",
       "      <th>1</th>\n",
       "      <td>345</td>\n",
       "      <td>6</td>\n",
       "      <td>1125.49</td>\n",
       "      <td>633ecdf879b94b5337cca303328e4a25</td>\n",
       "      <td>0.506438</td>\n",
       "      <td>0.003217</td>\n",
       "      <td>0.003732</td>\n",
       "      <td>0.513387</td>\n",
       "    </tr>\n",
       "    <tr>\n",
       "      <th>2</th>\n",
       "      <td>277</td>\n",
       "      <td>10</td>\n",
       "      <td>2062.45</td>\n",
       "      <td>f5f46307a4d15880ca14fab4ad9dfc9b</td>\n",
       "      <td>0.603720</td>\n",
       "      <td>0.005362</td>\n",
       "      <td>0.006840</td>\n",
       "      <td>0.615921</td>\n",
       "    </tr>\n",
       "    <tr>\n",
       "      <th>3</th>\n",
       "      <td>339</td>\n",
       "      <td>26</td>\n",
       "      <td>2462.81</td>\n",
       "      <td>c8417879a15366a17c30af34c798c332</td>\n",
       "      <td>0.515021</td>\n",
       "      <td>0.013941</td>\n",
       "      <td>0.008167</td>\n",
       "      <td>0.537130</td>\n",
       "    </tr>\n",
       "    <tr>\n",
       "      <th>4</th>\n",
       "      <td>284</td>\n",
       "      <td>40</td>\n",
       "      <td>2870.32</td>\n",
       "      <td>6df688df543f90e9b38f4319e75a9d88</td>\n",
       "      <td>0.593705</td>\n",
       "      <td>0.021448</td>\n",
       "      <td>0.009519</td>\n",
       "      <td>0.624672</td>\n",
       "    </tr>\n",
       "  </tbody>\n",
       "</table>\n",
       "</div>"
      ],
      "text/plain": [
       "   Seller_Recency  Seller_Frequency  Seller_Revenue  \\\n",
       "0             300                53         3177.71   \n",
       "1             345                 6         1125.49   \n",
       "2             277                10         2062.45   \n",
       "3             339                26         2462.81   \n",
       "4             284                40         2870.32   \n",
       "\n",
       "                           SellerID  scale_recency  scale_frequency  \\\n",
       "0  3504c0cb71d7fa48d967e0e4c94d59d9       0.570815         0.028418   \n",
       "1  633ecdf879b94b5337cca303328e4a25       0.506438         0.003217   \n",
       "2  f5f46307a4d15880ca14fab4ad9dfc9b       0.603720         0.005362   \n",
       "3  c8417879a15366a17c30af34c798c332       0.515021         0.013941   \n",
       "4  6df688df543f90e9b38f4319e75a9d88       0.593705         0.021448   \n",
       "\n",
       "   scale_revenue  Seller_Overall_RFM_Scaled  \n",
       "0       0.010538                   0.609772  \n",
       "1       0.003732                   0.513387  \n",
       "2       0.006840                   0.615921  \n",
       "3       0.008167                   0.537130  \n",
       "4       0.009519                   0.624672  "
      ]
     },
     "execution_count": 26,
     "metadata": {},
     "output_type": "execute_result"
    }
   ],
   "source": [
    "sub = sellers[['Seller_Recency','Seller_Frequency','Seller_Revenue','SellerID']]\n",
    "\n",
    "sub = sub.assign(scale_recency=sub.apply(lambda x: 1 - x['Seller_Recency']/sub['Seller_Recency'].max(),axis=1))\n",
    "sub = sub.assign(scale_frequency=sub.apply(lambda x: x['Seller_Frequency']/sub['Seller_Frequency'].max(),axis=1))\n",
    "sub = sub.assign(scale_revenue=sub.apply(lambda x: x['Seller_Revenue']/sub['Seller_Revenue'].max(),axis=1))\n",
    "\n",
    "sub = sub.assign(Seller_Overall_RFM_Scaled =sub.apply(lambda x: x['scale_recency']+x['scale_frequency']+x['scale_revenue'],axis=1))\n",
    "\n",
    "\n",
    "sub.head()"
   ]
  },
  {
   "cell_type": "code",
   "execution_count": 27,
   "id": "105650c6",
   "metadata": {},
   "outputs": [
    {
     "data": {
      "image/png": "[encoded data removed]",
      "text/plain": [
       "<Figure size 432x288 with 1 Axes>"
      ]
     },
     "metadata": {
      "needs_background": "light"
     },
     "output_type": "display_data"
    }
   ],
   "source": [
    "PrintKmeansInertiaGraphWithArray(sub,['scale_recency','scale_frequency','scale_revenue'])"
   ]
  },
  {
   "cell_type": "code",
   "execution_count": 28,
   "id": "4133e6d3",
   "metadata": {},
   "outputs": [
    {
     "data": {
      "text/plain": [
       "Index(['SellerID', 'Seller_Recency', 'Seller_Frequency', 'Seller_Revenue',\n",
       "       'Seller_RecencyCluster', 'Seller_FrequencyCluster',\n",
       "       'Seller_RevenueCluster', 'Seller_RFM_cluster', 'Seller_OverallRFMScore',\n",
       "       'Seller_OverallRFM_Raw'],\n",
       "      dtype='object')"
      ]
     },
     "execution_count": 28,
     "metadata": {},
     "output_type": "execute_result"
    }
   ],
   "source": [
    "PerformKMeansWithArray(sub, ['scale_recency','scale_frequency','scale_revenue'], 5, 'Seller_RFM_cluster')\n",
    "sellers = sellers.merge(sub[['Seller_RFM_cluster','SellerID']], on='SellerID')\n",
    "\n",
    "sellers['Seller_OverallRFMScore'] = sellers['Seller_RecencyCluster'] + sellers['Seller_FrequencyCluster'] + sellers['Seller_RevenueCluster']\n",
    "sellers['Seller_OverallRFM_Raw'] = sellers['Seller_Recency'] + sellers['Seller_Frequency'] + sellers['Seller_Revenue']\n",
    "sellers.columns"
   ]
  },
  {
   "cell_type": "code",
   "execution_count": 29,
   "id": "de5d4aeb",
   "metadata": {},
   "outputs": [
    {
     "ename": "KeyError",
     "evalue": "'Column not found: Seller_Overall_RFM_Scaled'",
     "output_type": "error",
     "traceback": [
      "\u001b[1;31m---------------------------------------------------------------------------\u001b[0m",
      "\u001b[1;31mKeyError\u001b[0m                                  Traceback (most recent call last)",
      "\u001b[1;32m~\\AppData\\Local\\Temp/ipykernel_7136/3776754285.py\u001b[0m in \u001b[0;36m<module>\u001b[1;34m\u001b[0m\n\u001b[1;32m----> 1\u001b[1;33m \u001b[0msellers\u001b[0m \u001b[1;33m=\u001b[0m \u001b[0mclustersInOrder\u001b[0m\u001b[1;33m(\u001b[0m\u001b[1;34m'Seller_RFM_cluster'\u001b[0m\u001b[1;33m,\u001b[0m \u001b[1;34m'Seller_Overall_RFM_Scaled'\u001b[0m\u001b[1;33m,\u001b[0m \u001b[0msellers\u001b[0m\u001b[1;33m,\u001b[0m \u001b[1;32mTrue\u001b[0m\u001b[1;33m)\u001b[0m\u001b[1;33m\u001b[0m\u001b[1;33m\u001b[0m\u001b[0m\n\u001b[0m",
      "\u001b[1;32m~\\AppData\\Local\\Temp/ipykernel_7136/3822443537.py\u001b[0m in \u001b[0;36mclustersInOrder\u001b[1;34m(clusterName, targetName, dataFrame, ascending)\u001b[0m\n\u001b[0;32m     43\u001b[0m \u001b[1;33m\u001b[0m\u001b[0m\n\u001b[0;32m     44\u001b[0m     \u001b[1;31m#Set New Labels on Clusters, 0-max in order of mean targetName Value\u001b[0m\u001b[1;33m\u001b[0m\u001b[1;33m\u001b[0m\u001b[0m\n\u001b[1;32m---> 45\u001b[1;33m     \u001b[0mdf_new\u001b[0m \u001b[1;33m=\u001b[0m \u001b[0mdataFrame\u001b[0m\u001b[1;33m.\u001b[0m\u001b[0mgroupby\u001b[0m\u001b[1;33m(\u001b[0m\u001b[0mclusterName\u001b[0m\u001b[1;33m)\u001b[0m\u001b[1;33m[\u001b[0m\u001b[0mtargetName\u001b[0m\u001b[1;33m]\u001b[0m\u001b[1;33m.\u001b[0m\u001b[0mmean\u001b[0m\u001b[1;33m(\u001b[0m\u001b[1;33m)\u001b[0m\u001b[1;33m.\u001b[0m\u001b[0mreset_index\u001b[0m\u001b[1;33m(\u001b[0m\u001b[1;33m)\u001b[0m\u001b[1;33m\u001b[0m\u001b[1;33m\u001b[0m\u001b[0m\n\u001b[0m\u001b[0;32m     46\u001b[0m     \u001b[0mdf_new\u001b[0m \u001b[1;33m=\u001b[0m \u001b[0mdf_new\u001b[0m\u001b[1;33m.\u001b[0m\u001b[0msort_values\u001b[0m\u001b[1;33m(\u001b[0m\u001b[0mby\u001b[0m\u001b[1;33m=\u001b[0m\u001b[0mtargetName\u001b[0m\u001b[1;33m,\u001b[0m\u001b[0mascending\u001b[0m\u001b[1;33m=\u001b[0m\u001b[0mascending\u001b[0m\u001b[1;33m)\u001b[0m\u001b[1;33m.\u001b[0m\u001b[0mreset_index\u001b[0m\u001b[1;33m(\u001b[0m\u001b[0mdrop\u001b[0m\u001b[1;33m=\u001b[0m\u001b[1;32mTrue\u001b[0m\u001b[1;33m)\u001b[0m\u001b[1;33m\u001b[0m\u001b[1;33m\u001b[0m\u001b[0m\n\u001b[0;32m     47\u001b[0m     \u001b[0mdf_new\u001b[0m\u001b[1;33m[\u001b[0m\u001b[1;34m'index'\u001b[0m\u001b[1;33m]\u001b[0m \u001b[1;33m=\u001b[0m \u001b[0mdf_new\u001b[0m\u001b[1;33m.\u001b[0m\u001b[0mindex\u001b[0m\u001b[1;33m\u001b[0m\u001b[1;33m\u001b[0m\u001b[0m\n",
      "\u001b[1;32m~\\anaconda3\\lib\\site-packages\\pandas\\core\\groupby\\generic.py\u001b[0m in \u001b[0;36m__getitem__\u001b[1;34m(self, key)\u001b[0m\n\u001b[0;32m   1336\u001b[0m                 \u001b[0mstacklevel\u001b[0m\u001b[1;33m=\u001b[0m\u001b[0mfind_stack_level\u001b[0m\u001b[1;33m(\u001b[0m\u001b[1;33m)\u001b[0m\u001b[1;33m,\u001b[0m\u001b[1;33m\u001b[0m\u001b[1;33m\u001b[0m\u001b[0m\n\u001b[0;32m   1337\u001b[0m             )\n\u001b[1;32m-> 1338\u001b[1;33m         \u001b[1;32mreturn\u001b[0m \u001b[0msuper\u001b[0m\u001b[1;33m(\u001b[0m\u001b[1;33m)\u001b[0m\u001b[1;33m.\u001b[0m\u001b[0m__getitem__\u001b[0m\u001b[1;33m(\u001b[0m\u001b[0mkey\u001b[0m\u001b[1;33m)\u001b[0m\u001b[1;33m\u001b[0m\u001b[1;33m\u001b[0m\u001b[0m\n\u001b[0m\u001b[0;32m   1339\u001b[0m \u001b[1;33m\u001b[0m\u001b[0m\n\u001b[0;32m   1340\u001b[0m     \u001b[1;32mdef\u001b[0m \u001b[0m_gotitem\u001b[0m\u001b[1;33m(\u001b[0m\u001b[0mself\u001b[0m\u001b[1;33m,\u001b[0m \u001b[0mkey\u001b[0m\u001b[1;33m,\u001b[0m \u001b[0mndim\u001b[0m\u001b[1;33m:\u001b[0m \u001b[0mint\u001b[0m\u001b[1;33m,\u001b[0m \u001b[0msubset\u001b[0m\u001b[1;33m=\u001b[0m\u001b[1;32mNone\u001b[0m\u001b[1;33m)\u001b[0m\u001b[1;33m:\u001b[0m\u001b[1;33m\u001b[0m\u001b[1;33m\u001b[0m\u001b[0m\n",
      "\u001b[1;32m~\\anaconda3\\lib\\site-packages\\pandas\\core\\base.py\u001b[0m in \u001b[0;36m__getitem__\u001b[1;34m(self, key)\u001b[0m\n\u001b[0;32m    248\u001b[0m         \u001b[1;32melse\u001b[0m\u001b[1;33m:\u001b[0m\u001b[1;33m\u001b[0m\u001b[1;33m\u001b[0m\u001b[0m\n\u001b[0;32m    249\u001b[0m             \u001b[1;32mif\u001b[0m \u001b[0mkey\u001b[0m \u001b[1;32mnot\u001b[0m \u001b[1;32min\u001b[0m \u001b[0mself\u001b[0m\u001b[1;33m.\u001b[0m\u001b[0mobj\u001b[0m\u001b[1;33m:\u001b[0m\u001b[1;33m\u001b[0m\u001b[1;33m\u001b[0m\u001b[0m\n\u001b[1;32m--> 250\u001b[1;33m                 \u001b[1;32mraise\u001b[0m \u001b[0mKeyError\u001b[0m\u001b[1;33m(\u001b[0m\u001b[1;34mf\"Column not found: {key}\"\u001b[0m\u001b[1;33m)\u001b[0m\u001b[1;33m\u001b[0m\u001b[1;33m\u001b[0m\u001b[0m\n\u001b[0m\u001b[0;32m    251\u001b[0m             \u001b[0msubset\u001b[0m \u001b[1;33m=\u001b[0m \u001b[0mself\u001b[0m\u001b[1;33m.\u001b[0m\u001b[0mobj\u001b[0m\u001b[1;33m[\u001b[0m\u001b[0mkey\u001b[0m\u001b[1;33m]\u001b[0m\u001b[1;33m\u001b[0m\u001b[1;33m\u001b[0m\u001b[0m\n\u001b[0;32m    252\u001b[0m             \u001b[0mndim\u001b[0m \u001b[1;33m=\u001b[0m \u001b[0msubset\u001b[0m\u001b[1;33m.\u001b[0m\u001b[0mndim\u001b[0m\u001b[1;33m\u001b[0m\u001b[1;33m\u001b[0m\u001b[0m\n",
      "\u001b[1;31mKeyError\u001b[0m: 'Column not found: Seller_Overall_RFM_Scaled'"
     ]
    }
   ],
   "source": [
    "sellers = clustersInOrder('Seller_RFM_cluster', 'Seller_Overall_RFM_Scaled', sellers, True)"
   ]
  },
  {
   "cell_type": "markdown",
   "id": "d5dbe252",
   "metadata": {},
   "source": [
    "<h4>Alternative RFM Clustering, sum RFM for overall score</h4>"
   ]
  },
  {
   "cell_type": "code",
   "execution_count": null,
   "id": "3cb47be5",
   "metadata": {},
   "outputs": [],
   "source": [
    "#calculate overall score and use mean() to see details\n",
    "sellers['Seller_OverallRFMScore'] = sellers['Seller_RecencyCluster'] + sellers['Seller_FrequencyCluster'] + sellers['Seller_RevenueCluster']\n",
    "print(sellers.groupby('Seller_OverallRFMScore')[['Seller_Recency','Seller_Frequency','Seller_Revenue']].mean())\n",
    "\n",
    "print(sellers.groupby('Seller_OverallRFMScore')[['Seller_Revenue']].count())"
   ]
  },
  {
   "cell_type": "code",
   "execution_count": null,
   "id": "f28cdced",
   "metadata": {},
   "outputs": [],
   "source": [
    "sellers['Seller_RFM_Ranking'] = 'Lowest'\n",
    "sellers.loc[sellers['Seller_OverallRFMScore']>=1,'Seller_RFM_Ranking'] ='Low' \n",
    "sellers.loc[sellers['Seller_OverallRFMScore']>=4, 'Seller_RFM_Ranking'] = 'Medium'\n",
    "sellers.loc[sellers['Seller_OverallRFMScore']>=6, 'Seller_RFM_Ranking'] = 'High'"
   ]
  },
  {
   "cell_type": "markdown",
   "id": "ffa9c482",
   "metadata": {},
   "source": [
    "<h4>Merge in RFM Clusters</h4>"
   ]
  },
  {
   "cell_type": "code",
   "execution_count": null,
   "id": "20a07503",
   "metadata": {},
   "outputs": [],
   "source": [
    "OL_Data = OL_Data.merge(buyers, left_on='customer_unique_id', right_on='CustomerUniqueID')\n",
    "OL_Data = OL_Data.merge(sellers, left_on='seller_id',right_on='SellerID')\n",
    "OL_Data.columns"
   ]
  },
  {
   "cell_type": "markdown",
   "id": "efbb4735",
   "metadata": {},
   "source": [
    "<h3>Add Distance from Buyer to Seller</h3>"
   ]
  },
  {
   "cell_type": "code",
   "execution_count": null,
   "id": "30938f22",
   "metadata": {},
   "outputs": [],
   "source": [
    "#calculate Distance Between Two Points on Earth\n",
    "from math import radians, cos, sin, asin, sqrt\n",
    "def distance(lat1, lon1, lat2, lon2):\n",
    "     \n",
    "    # The math module contains a function named\n",
    "    # radians which converts from degrees to radians.\n",
    "    lon1 = radians(lon1)\n",
    "    lon2 = radians(lon2)\n",
    "    lat1 = radians(lat1)\n",
    "    lat2 = radians(lat2)\n",
    "      \n",
    "    # Haversine formula\n",
    "    dlon = lon2 - lon1\n",
    "    dlat = lat2 - lat1\n",
    "    a = sin(dlat / 2)**2 + cos(lat1) * cos(lat2) * sin(dlon / 2)**2\n",
    " \n",
    "    c = 2 * asin(sqrt(a))\n",
    "    \n",
    "    # Radius of earth in kilometers. Use 3956 for miles\n",
    "    r = 6371\n",
    "      \n",
    "    # calculate the result\n",
    "    return(c * r)\n",
    "     \n",
    "     \n",
    "OL_Data['DistanceOfSale'] = OL_Data.apply(lambda x: distance(x.customer_latitude, x.customer_longitude, x.seller_latitude, x.seller_longitude) , axis=1)"
   ]
  },
  {
   "cell_type": "code",
   "execution_count": null,
   "id": "fb136c58",
   "metadata": {},
   "outputs": [],
   "source": [
    "OL_Data['DistanceOfSale'].describe()"
   ]
  },
  {
   "cell_type": "markdown",
   "id": "d14cc907",
   "metadata": {},
   "source": [
    "<h3>Write out data</h3>"
   ]
  },
  {
   "cell_type": "code",
   "execution_count": null,
   "id": "7be1adee",
   "metadata": {},
   "outputs": [],
   "source": [
    "OL_Data.to_csv('./OLData_RFM_Metrics.csv')"
   ]
  }
 ],
 "metadata": {
  "kernelspec": {
   "display_name": "Python 3 (ipykernel)",
   "language": "python",
   "name": "python3"
  },
  "language_info": {
   "codemirror_mode": {
    "name": "ipython",
    "version": 3
   },
   "file_extension": ".py",
   "mimetype": "text/x-python",
   "name": "python",
   "nbconvert_exporter": "python",
   "pygments_lexer": "ipython3",
   "version": "3.9.7"
  }
 },
 "nbformat": 4,
 "nbformat_minor": 5
}
