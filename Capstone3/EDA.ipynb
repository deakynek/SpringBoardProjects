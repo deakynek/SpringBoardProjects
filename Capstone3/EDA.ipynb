{
 "cells": [
  {
   "cell_type": "markdown",
   "id": "d3c340f1",
   "metadata": {},
   "source": [
    "## Exploratory Data Analysis"
   ]
  },
  {
   "cell_type": "code",
   "execution_count": 46,
   "id": "85ceb4a9",
   "metadata": {},
   "outputs": [],
   "source": [
    "# import libraries\n",
    "from datetime import datetime, timedelta\n",
    "import pandas as pd\n",
    "%matplotlib inline\n",
    "import matplotlib.pyplot as plt\n",
    "import numpy as np\n",
    "import seaborn as sns\n",
    "from __future__ import division\n",
    "\n",
    "\n",
    "\n",
    "\n",
    "import chart_studio.plotly as py\n",
    "import plotly.offline as pyoff\n",
    "import plotly.graph_objs as go\n"
   ]
  },
  {
   "cell_type": "code",
   "execution_count": 47,
   "id": "4a2c7fe5",
   "metadata": {},
   "outputs": [],
   "source": [
    "# Install a pip package in the current Jupyter kernel\n",
    "#import sys\n",
    "#!{sys.executable} -m pip install chart_studio"
   ]
  },
  {
   "cell_type": "code",
   "execution_count": 48,
   "id": "4aa3c0fd",
   "metadata": {},
   "outputs": [
    {
     "data": {
      "text/plain": [
       "Unnamed: 0                                int64\n",
       "order_id                                 object\n",
       "order_status                             object\n",
       "order_purchase_timestamp         datetime64[ns]\n",
       "order_approved_at                datetime64[ns]\n",
       "order_delivered_carrier_date     datetime64[ns]\n",
       "order_delivered_customer_date    datetime64[ns]\n",
       "order_estimated_delivery_date    datetime64[ns]\n",
       "shipping_limit_date              datetime64[ns]\n",
       "payment_installments                    float64\n",
       "product_category_name_english            object\n",
       "seller_id                                object\n",
       "seller_zip_code_prefix                  float64\n",
       "seller_city                              object\n",
       "seller_state                             object\n",
       "seller_latitude                         float64\n",
       "seller_longitude                        float64\n",
       "customer_id                              object\n",
       "customer_unique_id                       object\n",
       "customer_zip_code_prefix                  int64\n",
       "customer_city                            object\n",
       "customer_state                           object\n",
       "customer_latitude                       float64\n",
       "customer_longitude                      float64\n",
       "review_id                                object\n",
       "review_score                            float64\n",
       "review_creation_date             datetime64[ns]\n",
       "review_answer_timestamp          datetime64[ns]\n",
       "Total_price                             float64\n",
       "number_of_items                           int64\n",
       "Median_payments                         float64\n",
       "Total_payment                           float64\n",
       "Total_Freight                           float64\n",
       "order_weight_g                          float64\n",
       "order_volume_cm3                        float64\n",
       "payment_type                             object\n",
       "Purchase_To_Delivery_Days               float64\n",
       "Approved_To_Delivery_Days               float64\n",
       "Diff_Est_Delivery_vs_Actual             float64\n",
       "dtype: object"
      ]
     },
     "execution_count": 48,
     "metadata": {},
     "output_type": "execute_result"
    }
   ],
   "source": [
    "#Import Data\n",
    "parse_dates = ['order_purchase_timestamp',\n",
    " 'order_approved_at',\n",
    " 'order_delivered_carrier_date',\n",
    " 'order_delivered_customer_date',\n",
    " 'order_estimated_delivery_date',\n",
    " 'shipping_limit_date',\n",
    "'review_creation_date',\n",
    " 'review_answer_timestamp',]\n",
    "\n",
    "OL_Data = pd.read_csv(\"./OL_Data_Order_Grouped.csv\", \n",
    "                      parse_dates=parse_dates,\n",
    "                      date_parser = pd.to_datetime)\n",
    "\n",
    "\n",
    "\n",
    "OL_Data.dtypes\n"
   ]
  },
  {
   "cell_type": "markdown",
   "id": "9950ad17",
   "metadata": {},
   "source": [
    "<h3>RFM Scoring</h3>"
   ]
  },
  {
   "cell_type": "markdown",
   "id": "fe707dc3",
   "metadata": {},
   "source": [
    "<h4>Functions</h4>"
   ]
  },
  {
   "cell_type": "code",
   "execution_count": 102,
   "id": "e9bd87cf",
   "metadata": {},
   "outputs": [],
   "source": [
    "from sklearn.cluster import KMeans\n",
    "\n",
    "def PrintKmeansInertiaGraph(dataFrame, column):\n",
    "    PrintKmeansInertiaGraph(dataFrame, [column])\n",
    "    \n",
    "def PrintKmeansInertiaGraph(dataFrame, columns):\n",
    "    sse={}\n",
    "    columnDF = dataFrame[[columns]]\n",
    "    \n",
    "    for k in range(1, 10):\n",
    "        kmeans = KMeans(n_clusters=k, max_iter=1000).fit(columnDF)\n",
    "        columnDF.assign(clusters=kmeans.labels_)\n",
    "        sse[k] = kmeans.inertia_ \n",
    "    plt.figure()\n",
    "    plt.plot(list(sse.keys()), list(sse.values()))\n",
    "    plt.xlabel(\"Number of cluster\")\n",
    "    plt.show()\n",
    "    \n",
    "def PerformKMeans(dataFrame, column, numClusters):\n",
    "    kmeans = KMeans(n_clusters=numClusters)\n",
    "    kmeans.fit(dataFrame[[column]])\n",
    "    clusterCol = '{0}Cluster'.format(column)\n",
    "    clusters = kmeans.predict(dataFrame[[column]])\n",
    "    \n",
    "    if(clusterCol in dataFrame.columns):\n",
    "        dataFrame.loc[:,clusterCol] = clusters\n",
    "    else:\n",
    "        dataFrame[clusterCol] = clusters\n",
    "    \n",
    "    \n",
    "#function for ordering cluster numbers\n",
    "def clustersInOrder(clusterName, targetName, dataFrame, ascending):\n",
    "    \n",
    "    #Set New Labels on Clusters, 0-max in order of mean targetName Value\n",
    "    df_new = dataFrame.groupby(clusterName)[targetName].mean().reset_index()\n",
    "    df_new = df_new.sort_values(by=targetName,ascending=ascending).reset_index(drop=True)\n",
    "    df_new['index'] = df_new.index\n",
    "    \n",
    "    #Set New Labels of Clusters to \n",
    "    df_final = pd.merge(dataFrame,df_new[[clusterName,'index']], on=clusterName)\n",
    "    df_final = df_final.drop([clusterName],axis=1)\n",
    "    df_final = df_final.rename(columns={\"index\":clusterName})\n",
    "    \n",
    "    return df_final"
   ]
  },
  {
   "cell_type": "markdown",
   "id": "8fa9a63a",
   "metadata": {},
   "source": [
    "<h3>Buyers</h3>"
   ]
  },
  {
   "cell_type": "markdown",
   "id": "5c79e8fe",
   "metadata": {},
   "source": [
    "<h4>Recency</h4>"
   ]
  },
  {
   "cell_type": "code",
   "execution_count": 100,
   "id": "93c8ec88",
   "metadata": {
    "scrolled": true
   },
   "outputs": [
    {
     "name": "stdout",
     "output_type": "stream",
     "text": [
      "count    94466.000000\n",
      "mean       241.855059\n",
      "std        152.696186\n",
      "min          0.000000\n",
      "25%        118.000000\n",
      "50%        223.000000\n",
      "75%        350.000000\n",
      "max        728.000000\n",
      "Name: Buyer_Recency, dtype: float64\n"
     ]
    },
    {
     "data": {
      "image/png": "[encoded data removed]",
      "text/plain": [
       "<Figure size 432x288 with 1 Axes>"
      ]
     },
     "metadata": {
      "needs_background": "light"
     },
     "output_type": "display_data"
    }
   ],
   "source": [
    "#Recency Score Calc\n",
    "buyers = pd.DataFrame(OL_Data['customer_unique_id'].unique())\n",
    "buyers.columns=['CustomerUniqueID']\n",
    "\n",
    "buyerMaxPurchase = OL_Data.groupby('customer_unique_id').order_purchase_timestamp.max().reset_index()\n",
    "buyerMaxPurchase.columns = ['CustomerUniqueID', 'MaxPurchaseDate']\n",
    "\n",
    "buyerMaxPurchase['Buyer_Recency'] = (buyerMaxPurchase['MaxPurchaseDate'].max() - buyerMaxPurchase['MaxPurchaseDate']).dt.days\n",
    "\n",
    "buyers = pd.merge(buyers, buyerMaxPurchase[['CustomerUniqueID','Buyer_Recency']])\n",
    "\n",
    "print(buyers['Buyer_Recency'].describe())\n",
    "buyers.Buyer_Recency.sort_values().hist(bins=100)\n",
    "plt.show()\n"
   ]
  },
  {
   "cell_type": "code",
   "execution_count": 103,
   "id": "9dcd2e91",
   "metadata": {
    "scrolled": true
   },
   "outputs": [
    {
     "data": {
      "image/png": "[encoded data removed]",
      "text/plain": [
       "<Figure size 432x288 with 1 Axes>"
      ]
     },
     "metadata": {
      "needs_background": "light"
     },
     "output_type": "display_data"
    }
   ],
   "source": [
    "PrintKmeansInertiaGraph(buyers,'Buyer_Recency')"
   ]
  },
  {
   "cell_type": "code",
   "execution_count": 52,
   "id": "71485311",
   "metadata": {},
   "outputs": [],
   "source": [
    "#Generate Recency Clusters, named 'RecencyCluster'\n",
    "PerformKMeans(buyers,'Buyer_Recency', 4)\n",
    "\n",
    "#Reset Cluster Names, Lower Recency = More Recent, Higher RecencyCluster\n",
    "buyers = clustersInOrder('Buyer_RecencyCluster', 'Buyer_Recency', buyers, False)"
   ]
  },
  {
   "cell_type": "code",
   "execution_count": 105,
   "id": "44a68057",
   "metadata": {},
   "outputs": [
    {
     "name": "stdout",
     "output_type": "stream",
     "text": [
      "count    94466.000000\n",
      "mean         1.061006\n",
      "std          0.289505\n",
      "min          1.000000\n",
      "25%          1.000000\n",
      "50%          1.000000\n",
      "75%          1.000000\n",
      "max         16.000000\n",
      "Name: Buyer_Frequency, dtype: float64\n"
     ]
    },
    {
     "data": {
      "image/png": "[encoded data removed]",
      "text/plain": [
       "<Figure size 432x288 with 1 Axes>"
      ]
     },
     "metadata": {
      "needs_background": "light"
     },
     "output_type": "display_data"
    }
   ],
   "source": [
    "#Frequency\n",
    "freq = OL_Data.groupby('customer_unique_id').order_id.count().reset_index()\n",
    "freq.columns = ['CustomerUniqueID','Buyer_Frequency']\n",
    "freq.head()\n",
    "\n",
    "buyers = pd.merge(buyers,freq, on='CustomerUniqueID')\n",
    "\n",
    "print(buyers['Buyer_Frequency'].describe())\n",
    "buyers.Buyer_Frequency.sort_values().hist(bins=16)\n",
    "plt.show()"
   ]
  },
  {
   "cell_type": "code",
   "execution_count": null,
   "id": "3ef4e324",
   "metadata": {},
   "outputs": [],
   "source": []
  },
  {
   "cell_type": "code",
   "execution_count": 106,
   "id": "e7f1d4f6",
   "metadata": {},
   "outputs": [
    {
     "data": {
      "image/png": "[encoded data removed]",
      "text/plain": [
       "<Figure size 432x288 with 1 Axes>"
      ]
     },
     "metadata": {
      "needs_background": "light"
     },
     "output_type": "display_data"
    }
   ],
   "source": [
    "PrintKmeansInertiaGraph(buyers,'Buyer_Frequency')"
   ]
  },
  {
   "cell_type": "code",
   "execution_count": 55,
   "id": "840c6bb4",
   "metadata": {},
   "outputs": [],
   "source": [
    "#Generate Recency Clusters, named 'FrequencyCluster'\n",
    "PerformKMeans(buyers,'Buyer_Frequency', 4)\n",
    "\n",
    "#Reset Cluster Names, Higher Frequency = More Frequent, Higher Frequency Cluster\n",
    "buyers = clustersInOrder('Buyer_FrequencyCluster', 'Buyer_Frequency', buyers, True)"
   ]
  },
  {
   "cell_type": "code",
   "execution_count": 109,
   "id": "6db729af",
   "metadata": {},
   "outputs": [
    {
     "name": "stdout",
     "output_type": "stream",
     "text": [
      "count    94466.000000\n",
      "mean       182.891840\n",
      "std        306.675411\n",
      "min          0.000000\n",
      "25%         63.230000\n",
      "50%        108.840000\n",
      "75%        188.340000\n",
      "max      13664.080000\n",
      "Name: Buyer_Revenue, dtype: float64\n"
     ]
    },
    {
     "data": {
      "image/png": "[encoded data removed]",
      "text/plain": [
       "<Figure size 432x288 with 1 Axes>"
      ]
     },
     "metadata": {
      "needs_background": "light"
     },
     "output_type": "display_data"
    }
   ],
   "source": [
    "#Revenue\n",
    "rev = OL_Data.groupby('customer_unique_id').Total_payment.sum().reset_index()\n",
    "rev.columns = ['CustomerUniqueID','Buyer_Revenue']\n",
    "\n",
    "buyers = pd.merge(buyers, rev, on='CustomerUniqueID')\n",
    "\n",
    "print(buyers['Buyer_Revenue'].describe())\n",
    "buyers.Buyer_Revenue.sort_values().hist(bins=16)\n",
    "plt.show()"
   ]
  },
  {
   "cell_type": "code",
   "execution_count": 57,
   "id": "a6e4178e",
   "metadata": {},
   "outputs": [
    {
     "data": {
      "image/png": "[encoded data removed]",
      "text/plain": [
       "<Figure size 432x288 with 1 Axes>"
      ]
     },
     "metadata": {
      "needs_background": "light"
     },
     "output_type": "display_data"
    }
   ],
   "source": [
    "PrintKmeansInertiaGraph(buyers,'Buyer_Revenue')"
   ]
  },
  {
   "cell_type": "code",
   "execution_count": 110,
   "id": "b1afd8bc",
   "metadata": {},
   "outputs": [],
   "source": [
    "#Generate Revenue Clusters, named 'RevenueCluster'\n",
    "PerformKMeans(buyers,'Buyer_Revenue', 5)\n",
    "\n",
    "#Reset Cluster Names, Higher Revenue, Higher Revenue Cluster\n",
    "buyers = clustersInOrder('Buyer_RevenueCluster', 'Buyer_Revenue', buyers, True)"
   ]
  },
  {
   "cell_type": "code",
   "execution_count": 125,
   "id": "dd306b1c",
   "metadata": {},
   "outputs": [
    {
     "data": {
      "text/html": [
       "<div>\n",
       "<style scoped>\n",
       "    .dataframe tbody tr th:only-of-type {\n",
       "        vertical-align: middle;\n",
       "    }\n",
       "\n",
       "    .dataframe tbody tr th {\n",
       "        vertical-align: top;\n",
       "    }\n",
       "\n",
       "    .dataframe thead th {\n",
       "        text-align: right;\n",
       "    }\n",
       "</style>\n",
       "<table border=\"1\" class=\"dataframe\">\n",
       "  <thead>\n",
       "    <tr style=\"text-align: right;\">\n",
       "      <th></th>\n",
       "      <th>Buyer_Recency</th>\n",
       "      <th>Buyer_Frequency</th>\n",
       "      <th>Buyer_Revenue</th>\n",
       "      <th>scale_recency</th>\n",
       "    </tr>\n",
       "  </thead>\n",
       "  <tbody>\n",
       "    <tr>\n",
       "      <th>0</th>\n",
       "      <td>335</td>\n",
       "      <td>2</td>\n",
       "      <td>82.82</td>\n",
       "      <td>0.539835</td>\n",
       "    </tr>\n",
       "    <tr>\n",
       "      <th>1</th>\n",
       "      <td>388</td>\n",
       "      <td>1</td>\n",
       "      <td>83.69</td>\n",
       "      <td>0.467033</td>\n",
       "    </tr>\n",
       "    <tr>\n",
       "      <th>2</th>\n",
       "      <td>417</td>\n",
       "      <td>1</td>\n",
       "      <td>52.77</td>\n",
       "      <td>0.427198</td>\n",
       "    </tr>\n",
       "    <tr>\n",
       "      <th>3</th>\n",
       "      <td>405</td>\n",
       "      <td>1</td>\n",
       "      <td>52.77</td>\n",
       "      <td>0.443681</td>\n",
       "    </tr>\n",
       "    <tr>\n",
       "      <th>4</th>\n",
       "      <td>379</td>\n",
       "      <td>1</td>\n",
       "      <td>44.00</td>\n",
       "      <td>0.479396</td>\n",
       "    </tr>\n",
       "  </tbody>\n",
       "</table>\n",
       "</div>"
      ],
      "text/plain": [
       "   Buyer_Recency  Buyer_Frequency  Buyer_Revenue  scale_recency\n",
       "0            335                2          82.82       0.539835\n",
       "1            388                1          83.69       0.467033\n",
       "2            417                1          52.77       0.427198\n",
       "3            405                1          52.77       0.443681\n",
       "4            379                1          44.00       0.479396"
      ]
     },
     "execution_count": 125,
     "metadata": {},
     "output_type": "execute_result"
    }
   ],
   "source": [
    "sub = buyers[['Buyer_Recency','Buyer_Frequency','Buyer_Revenue']]\n",
    "\n",
    "sub = sub.assign(scale_recency=sub.apply(lambda x: 1 - x['Buyer_Recency']/sub['Buyer_Recency'].max(),axis=1))\n",
    "sub = sub.assign(scale_frequency=sub.apply(lambda x: x['Buyer_Frequency']/sub['Buyer_Frequency'].max(),axis=1))\n",
    "sub = sub.assign(scale_revenue=sub.apply(lambda x: 1 - x['Buyer_Revenue']/sub['Buyer_Revenue'].max(),axis=1))\n",
    "\n",
    "sub.head()"
   ]
  },
  {
   "cell_type": "code",
   "execution_count": 76,
   "id": "fa8e205f",
   "metadata": {},
   "outputs": [
    {
     "name": "stdout",
     "output_type": "stream",
     "text": [
      "                       Buyer_Recency  Buyer_Frequency  Buyer_Revenue\n",
      "Buyer_OverallRFMScore                                               \n",
      "0                         486.810518         1.000000      96.550975\n",
      "1                         336.884431         1.011850     123.458073\n",
      "2                         213.162732         1.029242     145.405261\n",
      "3                          98.446981         1.046245     170.555545\n",
      "4                         112.746388         1.276485     468.543032\n",
      "5                         111.001871         1.660636     874.678153\n",
      "6                         104.647940         2.183521    1422.505037\n",
      "7                         101.842767         2.767296    2418.677736\n",
      "8                          97.207547         4.150943    3225.849434\n",
      "9                          69.083333         4.166667    4316.088333\n",
      "                       Buyer_Revenue\n",
      "Buyer_OverallRFMScore               \n",
      "0                              13463\n",
      "1                              21857\n",
      "2                              26264\n",
      "3                              25538\n",
      "4                               4984\n",
      "5                               1603\n",
      "6                                534\n",
      "7                                159\n",
      "8                                 53\n",
      "9                                 12\n"
     ]
    }
   ],
   "source": [
    "#calculate overall score and use mean() to see details\n",
    "buyers['Buyer_OverallRFMScore'] = buyers['Buyer_RecencyCluster'] + buyers['Buyer_FrequencyCluster'] + buyers['Buyer_RevenueCluster']\n",
    "buyers['Buyer_OverallRFM_Raw'] = buyers['Buyer_Recency'] + buyers['Buyer_Frequency'] + buyers['Buyer_Revenue']\n",
    "\n",
    "print(buyers.groupby('Buyer_OverallRFMScore')[['Buyer_Recency','Buyer_Frequency','Buyer_Revenue']].mean())\n",
    "\n",
    "print(buyers.groupby('Buyer_OverallRFMScore')[['Buyer_Revenue']].count())"
   ]
  },
  {
   "cell_type": "code",
   "execution_count": 60,
   "id": "c0476eaa",
   "metadata": {},
   "outputs": [],
   "source": [
    "buyers['Buyer_RFM_Ranking'] = 'Lowest'\n",
    "buyers.loc[buyers['Buyer_OverallRFMScore']>=1,'Buyer_RFM_Ranking'] ='Low' \n",
    "buyers.loc[buyers['Buyer_OverallRFMScore']>=3, 'Buyer_RFM_Ranking'] = 'Medium'\n",
    "buyers.loc[buyers['Buyer_OverallRFMScore']>=6, 'Buyer_RFM_Ranking'] = 'High'\n",
    "buyers.loc[buyers['Buyer_OverallRFMScore']>=8, 'Buyer_RFM_Ranking'] = 'Highest'"
   ]
  },
  {
   "cell_type": "code",
   "execution_count": 62,
   "id": "fca6c706",
   "metadata": {},
   "outputs": [
    {
     "data": {
      "text/html": [
       "<div>\n",
       "<style scoped>\n",
       "    .dataframe tbody tr th:only-of-type {\n",
       "        vertical-align: middle;\n",
       "    }\n",
       "\n",
       "    .dataframe tbody tr th {\n",
       "        vertical-align: top;\n",
       "    }\n",
       "\n",
       "    .dataframe thead th {\n",
       "        text-align: right;\n",
       "    }\n",
       "</style>\n",
       "<table border=\"1\" class=\"dataframe\">\n",
       "  <thead>\n",
       "    <tr style=\"text-align: right;\">\n",
       "      <th></th>\n",
       "      <th>CustomerUniqueID</th>\n",
       "      <th>Buyer_Recency</th>\n",
       "      <th>Buyer_RecencyCluster</th>\n",
       "      <th>Buyer_Frequency</th>\n",
       "      <th>Buyer_FrequencyCluster</th>\n",
       "      <th>Buyer_Revenue</th>\n",
       "      <th>Buyer_RevenueCluster</th>\n",
       "      <th>Buyer_OverallRFMScore</th>\n",
       "      <th>Buyer_RFM_Ranking</th>\n",
       "    </tr>\n",
       "  </thead>\n",
       "  <tbody>\n",
       "    <tr>\n",
       "      <th>0</th>\n",
       "      <td>7c396fd4830fd04220f754e42b4e5bff</td>\n",
       "      <td>335</td>\n",
       "      <td>1</td>\n",
       "      <td>2</td>\n",
       "      <td>1</td>\n",
       "      <td>82.82</td>\n",
       "      <td>0</td>\n",
       "      <td>2</td>\n",
       "      <td>Low</td>\n",
       "    </tr>\n",
       "    <tr>\n",
       "      <th>1</th>\n",
       "      <td>7973a6ba9c81ecaeb3d628c33c7c7c48</td>\n",
       "      <td>348</td>\n",
       "      <td>1</td>\n",
       "      <td>2</td>\n",
       "      <td>1</td>\n",
       "      <td>115.74</td>\n",
       "      <td>0</td>\n",
       "      <td>2</td>\n",
       "      <td>Low</td>\n",
       "    </tr>\n",
       "    <tr>\n",
       "      <th>2</th>\n",
       "      <td>0a5df23b922b9998bb7378f1ac03c98a</td>\n",
       "      <td>338</td>\n",
       "      <td>1</td>\n",
       "      <td>2</td>\n",
       "      <td>1</td>\n",
       "      <td>193.83</td>\n",
       "      <td>0</td>\n",
       "      <td>2</td>\n",
       "      <td>Low</td>\n",
       "    </tr>\n",
       "    <tr>\n",
       "      <th>3</th>\n",
       "      <td>95cfb39a7e263160308a934e42cfc4e0</td>\n",
       "      <td>287</td>\n",
       "      <td>1</td>\n",
       "      <td>2</td>\n",
       "      <td>1</td>\n",
       "      <td>122.05</td>\n",
       "      <td>0</td>\n",
       "      <td>2</td>\n",
       "      <td>Low</td>\n",
       "    </tr>\n",
       "    <tr>\n",
       "      <th>4</th>\n",
       "      <td>646d643b4ac1184e383341f8896c3dc8</td>\n",
       "      <td>286</td>\n",
       "      <td>1</td>\n",
       "      <td>2</td>\n",
       "      <td>1</td>\n",
       "      <td>178.04</td>\n",
       "      <td>0</td>\n",
       "      <td>2</td>\n",
       "      <td>Low</td>\n",
       "    </tr>\n",
       "  </tbody>\n",
       "</table>\n",
       "</div>"
      ],
      "text/plain": [
       "                   CustomerUniqueID  Buyer_Recency  Buyer_RecencyCluster  \\\n",
       "0  7c396fd4830fd04220f754e42b4e5bff            335                     1   \n",
       "1  7973a6ba9c81ecaeb3d628c33c7c7c48            348                     1   \n",
       "2  0a5df23b922b9998bb7378f1ac03c98a            338                     1   \n",
       "3  95cfb39a7e263160308a934e42cfc4e0            287                     1   \n",
       "4  646d643b4ac1184e383341f8896c3dc8            286                     1   \n",
       "\n",
       "   Buyer_Frequency  Buyer_FrequencyCluster  Buyer_Revenue  \\\n",
       "0                2                       1          82.82   \n",
       "1                2                       1         115.74   \n",
       "2                2                       1         193.83   \n",
       "3                2                       1         122.05   \n",
       "4                2                       1         178.04   \n",
       "\n",
       "   Buyer_RevenueCluster  Buyer_OverallRFMScore Buyer_RFM_Ranking  \n",
       "0                     0                      2               Low  \n",
       "1                     0                      2               Low  \n",
       "2                     0                      2               Low  \n",
       "3                     0                      2               Low  \n",
       "4                     0                      2               Low  "
      ]
     },
     "execution_count": 62,
     "metadata": {},
     "output_type": "execute_result"
    }
   ],
   "source": [
    "buyers.head()"
   ]
  },
  {
   "cell_type": "code",
   "execution_count": 63,
   "id": "ed65696a",
   "metadata": {},
   "outputs": [
    {
     "name": "stdout",
     "output_type": "stream",
     "text": [
      "count    2977.000000\n",
      "mean      134.126638\n",
      "std       163.831359\n",
      "min         0.000000\n",
      "25%        17.000000\n",
      "50%        46.000000\n",
      "75%       210.000000\n",
      "max       699.000000\n",
      "Name: Seller_Recency, dtype: float64\n"
     ]
    },
    {
     "data": {
      "image/png": "[encoded data removed]",
      "text/plain": [
       "<Figure size 432x288 with 1 Axes>"
      ]
     },
     "metadata": {
      "needs_background": "light"
     },
     "output_type": "display_data"
    }
   ],
   "source": [
    "#Recency Score Calc\n",
    "sellers = pd.DataFrame(OL_Data['seller_id'].unique())\n",
    "sellers.columns=['SellerID']\n",
    "\n",
    "sellerMaxSale = OL_Data.groupby('seller_id').order_purchase_timestamp.max().reset_index()\n",
    "sellerMaxSale.columns = ['SellerID', 'MaxSaleDate']\n",
    "\n",
    "sellerMaxSale['Seller_Recency'] = (sellerMaxSale['MaxSaleDate'].max() - sellerMaxSale['MaxSaleDate']).dt.days\n",
    "\n",
    "sellers = pd.merge(sellers, sellerMaxSale[['SellerID','Seller_Recency']])\n",
    "\n",
    "print(sellers['Seller_Recency'].describe())\n",
    "sellers.Seller_Recency.sort_values().hist(bins=100)\n",
    "plt.show()"
   ]
  },
  {
   "cell_type": "code",
   "execution_count": 64,
   "id": "4ee8dd26",
   "metadata": {},
   "outputs": [
    {
     "name": "stdout",
     "output_type": "stream",
     "text": [
      "count    2977.000000\n",
      "mean       33.667786\n",
      "std       108.081772\n",
      "min         1.000000\n",
      "25%         2.000000\n",
      "50%         7.000000\n",
      "75%        22.000000\n",
      "max      1865.000000\n",
      "Name: Seller_Frequency, dtype: float64\n"
     ]
    },
    {
     "data": {
      "image/png": "[encoded data removed]",
      "text/plain": [
       "<Figure size 432x288 with 1 Axes>"
      ]
     },
     "metadata": {
      "needs_background": "light"
     },
     "output_type": "display_data"
    }
   ],
   "source": [
    "#Frequency\n",
    "freq = OL_Data.groupby('seller_id').order_id.count().reset_index()\n",
    "freq.columns = ['SellerID','Seller_Frequency']\n",
    "freq.head()\n",
    "\n",
    "sellers = pd.merge(sellers,freq, on='SellerID')\n",
    "\n",
    "print(sellers['Seller_Frequency'].describe())\n",
    "sellers.Seller_Frequency.sort_values().hist(bins=16)\n",
    "plt.show()"
   ]
  },
  {
   "cell_type": "code",
   "execution_count": 65,
   "id": "99e3b5e4",
   "metadata": {},
   "outputs": [
    {
     "name": "stdout",
     "output_type": "stream",
     "text": [
      "count      2977.000000\n",
      "mean       5803.513779\n",
      "std       17929.475314\n",
      "min          15.220000\n",
      "25%         315.440000\n",
      "50%        1164.380000\n",
      "75%        4533.870000\n",
      "max      301542.650000\n",
      "Name: Seller_Revenue, dtype: float64\n"
     ]
    },
    {
     "data": {
      "image/png": "[encoded data removed]",
      "text/plain": [
       "<Figure size 432x288 with 1 Axes>"
      ]
     },
     "metadata": {
      "needs_background": "light"
     },
     "output_type": "display_data"
    }
   ],
   "source": [
    "#Revenue\n",
    "rev = OL_Data.groupby('seller_id').Total_payment.sum().reset_index()\n",
    "rev.columns = ['SellerID','Seller_Revenue']\n",
    "\n",
    "sellers = pd.merge(sellers, rev, on='SellerID')\n",
    "\n",
    "print(sellers['Seller_Revenue'].describe())\n",
    "sellers.Seller_Revenue.sort_values().hist(bins=16)\n",
    "plt.show()"
   ]
  },
  {
   "cell_type": "code",
   "execution_count": 66,
   "id": "f9f3c98a",
   "metadata": {},
   "outputs": [
    {
     "name": "stdout",
     "output_type": "stream",
     "text": [
      "Seller_Recency\n"
     ]
    },
    {
     "data": {
      "image/png": "[encoded data removed]",
      "text/plain": [
       "<Figure size 432x288 with 1 Axes>"
      ]
     },
     "metadata": {
      "needs_background": "light"
     },
     "output_type": "display_data"
    },
    {
     "name": "stdout",
     "output_type": "stream",
     "text": [
      "\n",
      "Seller_Frequency\n"
     ]
    },
    {
     "data": {
      "image/png": "[encoded data removed]",
      "text/plain": [
       "<Figure size 432x288 with 1 Axes>"
      ]
     },
     "metadata": {
      "needs_background": "light"
     },
     "output_type": "display_data"
    },
    {
     "name": "stdout",
     "output_type": "stream",
     "text": [
      "\n",
      "Seller_Revenue\n"
     ]
    },
    {
     "data": {
      "image/png": "[encoded data removed]",
      "text/plain": [
       "<Figure size 432x288 with 1 Axes>"
      ]
     },
     "metadata": {
      "needs_background": "light"
     },
     "output_type": "display_data"
    }
   ],
   "source": [
    "print('Seller_Recency')\n",
    "PrintKmeansInertiaGraph(sellers,'Seller_Recency')\n",
    "print('')\n",
    "print('Seller_Frequency')\n",
    "PrintKmeansInertiaGraph(sellers,'Seller_Frequency')\n",
    "print('')\n",
    "print('Seller_Revenue')\n",
    "PrintKmeansInertiaGraph(sellers,'Seller_Revenue')"
   ]
  },
  {
   "cell_type": "code",
   "execution_count": 67,
   "id": "69de2257",
   "metadata": {},
   "outputs": [],
   "source": [
    "#Generate Revenue Clusters, named 'RevenueCluster'\n",
    "PerformKMeans(sellers,'Seller_Recency', 4)\n",
    "#Reset Cluster Names, Higher Revenue, Higher Revenue Cluster\n",
    "sellers = clustersInOrder('Seller_RecencyCluster', 'Seller_Recency', sellers, True)\n",
    "\n",
    "#Generate Recency Clusters, named 'FrequencyCluster'\n",
    "PerformKMeans(sellers,'Seller_Frequency', 4)\n",
    "#Reset Cluster Names, Higher Frequency = More Frequent, Higher Frequency Cluster\n",
    "sellers = clustersInOrder('Seller_FrequencyCluster', 'Seller_Frequency', sellers, True)\n",
    "\n",
    "#Generate Revenue Clusters, named 'RevenueCluster'\n",
    "PerformKMeans(sellers,'Seller_Revenue', 5)\n",
    "#Reset Cluster Names, Higher Revenue, Higher Revenue Cluster\n",
    "sellers = clustersInOrder('Seller_RevenueCluster', 'Seller_Revenue', sellers, True)"
   ]
  },
  {
   "cell_type": "code",
   "execution_count": 68,
   "id": "3cb47be5",
   "metadata": {},
   "outputs": [
    {
     "name": "stdout",
     "output_type": "stream",
     "text": [
      "                        Seller_Recency  Seller_Frequency  Seller_Revenue\n",
      "Seller_OverallRFMScore                                                  \n",
      "0                            29.443636         12.887273     2054.360429\n",
      "1                           119.894574         20.308527     4305.321240\n",
      "2                           228.179348         40.547101     6442.103949\n",
      "3                           441.169096         36.568513     7063.837813\n",
      "4                            84.256410        337.076923    48214.016410\n",
      "5                            80.400000        557.900000   114049.226000\n",
      "6                             7.375000       1187.125000   175086.316250\n",
      "7                            10.600000       1252.600000   254983.110000\n",
      "                        Seller_Revenue\n",
      "Seller_OverallRFMScore                \n",
      "0                                 1375\n",
      "1                                  645\n",
      "2                                  552\n",
      "3                                  343\n",
      "4                                   39\n",
      "5                                   10\n",
      "6                                    8\n",
      "7                                    5\n"
     ]
    }
   ],
   "source": [
    "#calculate overall score and use mean() to see details\n",
    "sellers['Seller_OverallRFMScore'] = sellers['Seller_RecencyCluster'] + sellers['Seller_FrequencyCluster'] + sellers['Seller_RevenueCluster']\n",
    "print(sellers.groupby('Seller_OverallRFMScore')[['Seller_Recency','Seller_Frequency','Seller_Revenue']].mean())\n",
    "\n",
    "print(sellers.groupby('Seller_OverallRFMScore')[['Seller_Revenue']].count())"
   ]
  },
  {
   "cell_type": "code",
   "execution_count": 69,
   "id": "f28cdced",
   "metadata": {},
   "outputs": [],
   "source": [
    "sellers['Seller_RFM_Ranking'] = 'Lowest'\n",
    "sellers.loc[sellers['Seller_OverallRFMScore']>=1,'Seller_RFM_Ranking'] ='Low' \n",
    "sellers.loc[sellers['Seller_OverallRFMScore']>=4, 'Seller_RFM_Ranking'] = 'Medium'\n",
    "sellers.loc[sellers['Seller_OverallRFMScore']>=6, 'Seller_RFM_Ranking'] = 'High'"
   ]
  },
  {
   "cell_type": "code",
   "execution_count": null,
   "id": "c9af1e71",
   "metadata": {},
   "outputs": [],
   "source": []
  },
  {
   "cell_type": "code",
   "execution_count": 75,
   "id": "20a07503",
   "metadata": {},
   "outputs": [
    {
     "data": {
      "text/plain": [
       "Index(['Unnamed: 0', 'order_id', 'order_status', 'order_purchase_timestamp',\n",
       "       'order_approved_at', 'order_delivered_carrier_date',\n",
       "       'order_delivered_customer_date', 'order_estimated_delivery_date',\n",
       "       'shipping_limit_date', 'payment_installments',\n",
       "       'product_category_name_english', 'seller_id', 'seller_zip_code_prefix',\n",
       "       'seller_city', 'seller_state', 'seller_latitude', 'seller_longitude',\n",
       "       'customer_id', 'customer_unique_id', 'customer_zip_code_prefix',\n",
       "       'customer_city', 'customer_state', 'customer_latitude',\n",
       "       'customer_longitude', 'review_id', 'review_score',\n",
       "       'review_creation_date', 'review_answer_timestamp', 'Total_price',\n",
       "       'number_of_items', 'Median_payments', 'Total_payment', 'Total_Freight',\n",
       "       'order_weight_g', 'order_volume_cm3', 'payment_type',\n",
       "       'Purchase_To_Delivery_Days', 'Approved_To_Delivery_Days',\n",
       "       'Diff_Est_Delivery_vs_Actual', 'CustomerUniqueID_x', 'Buyer_Recency_x',\n",
       "       'Buyer_RecencyCluster_x', 'Buyer_Frequency_x',\n",
       "       'Buyer_FrequencyCluster_x', 'Buyer_Revenue_x', 'Buyer_RevenueCluster_x',\n",
       "       'Buyer_OverallRFMScore_x', 'Buyer_RFM_Ranking_x', 'SellerID_x',\n",
       "       'Seller_Recency_x', 'Seller_Frequency_x', 'Seller_Revenue_x',\n",
       "       'Seller_RecencyCluster_x', 'Seller_FrequencyCluster_x',\n",
       "       'Seller_RevenueCluster_x', 'Seller_OverallRFMScore_x',\n",
       "       'Seller_RFM_Ranking_x', 'CustomerUniqueID_y', 'Buyer_Recency_y',\n",
       "       'Buyer_RecencyCluster_y', 'Buyer_Frequency_y',\n",
       "       'Buyer_FrequencyCluster_y', 'Buyer_Revenue_y', 'Buyer_RevenueCluster_y',\n",
       "       'Buyer_OverallRFMScore_y', 'Buyer_RFM_Ranking_y', 'SellerID_y',\n",
       "       'Seller_Recency_y', 'Seller_Frequency_y', 'Seller_Revenue_y',\n",
       "       'Seller_RecencyCluster_y', 'Seller_FrequencyCluster_y',\n",
       "       'Seller_RevenueCluster_y', 'Seller_OverallRFMScore_y',\n",
       "       'Seller_RFM_Ranking_y'],\n",
       "      dtype='object')"
      ]
     },
     "execution_count": 75,
     "metadata": {},
     "output_type": "execute_result"
    }
   ],
   "source": [
    "OL_Data = OL_Data.merge(buyers, left_on='customer_unique_id', right_on='CustomerUniqueID')\n",
    "OL_Data = OL_Data.merge(sellers, left_on='seller_id',right_on='SellerID')\n",
    "OL_Data.columns"
   ]
  },
  {
   "cell_type": "code",
   "execution_count": 89,
   "id": "30938f22",
   "metadata": {},
   "outputs": [],
   "source": [
    "\n",
    "#calculate Distance Between Two Points on Earth\n",
    "from math import radians, cos, sin, asin, sqrt\n",
    "def distance(lat1, lon1, lat2, lon2):\n",
    "     \n",
    "    # The math module contains a function named\n",
    "    # radians which converts from degrees to radians.\n",
    "    lon1 = radians(lon1)\n",
    "    lon2 = radians(lon2)\n",
    "    lat1 = radians(lat1)\n",
    "    lat2 = radians(lat2)\n",
    "      \n",
    "    # Haversine formula\n",
    "    dlon = lon2 - lon1\n",
    "    dlat = lat2 - lat1\n",
    "    a = sin(dlat / 2)**2 + cos(lat1) * cos(lat2) * sin(dlon / 2)**2\n",
    " \n",
    "    c = 2 * asin(sqrt(a))\n",
    "    \n",
    "    # Radius of earth in kilometers. Use 3956 for miles\n",
    "    r = 6371\n",
    "      \n",
    "    # calculate the result\n",
    "    return(c * r)\n",
    "     \n",
    "     \n",
    "OL_Data['DistanceOfSale'] = OL_Data.apply(lambda x: distance(x.customer_latitude, x.customer_longitude, x.seller_latitude, x.seller_longitude) , axis=1)"
   ]
  },
  {
   "cell_type": "code",
   "execution_count": 90,
   "id": "fb136c58",
   "metadata": {},
   "outputs": [
    {
     "data": {
      "text/plain": [
       "count    99727.000000\n",
       "mean       603.487296\n",
       "std        596.949713\n",
       "min          0.000000\n",
       "25%        189.670210\n",
       "50%        435.533645\n",
       "75%        801.451936\n",
       "max       8736.947618\n",
       "Name: DistanceOfSale, dtype: float64"
      ]
     },
     "execution_count": 90,
     "metadata": {},
     "output_type": "execute_result"
    }
   ],
   "source": [
    "OL_Data['DistanceOfSale'].describe()"
   ]
  },
  {
   "cell_type": "code",
   "execution_count": 74,
   "id": "7be1adee",
   "metadata": {},
   "outputs": [],
   "source": [
    "OL_Data.to_csv('./OLData_RFM_Metrics.csv')"
   ]
  }
 ],
 "metadata": {
  "kernelspec": {
   "display_name": "Python 3 (ipykernel)",
   "language": "python",
   "name": "python3"
  },
  "language_info": {
   "codemirror_mode": {
    "name": "ipython",
    "version": 3
   },
   "file_extension": ".py",
   "mimetype": "text/x-python",
   "name": "python",
   "nbconvert_exporter": "python",
   "pygments_lexer": "ipython3",
   "version": "3.9.7"
  }
 },
 "nbformat": 4,
 "nbformat_minor": 5
}
