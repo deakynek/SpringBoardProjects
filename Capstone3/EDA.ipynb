{
 "cells": [
  {
   "cell_type": "markdown",
   "id": "d3c340f1",
   "metadata": {},
   "source": [
    "## Exploratory Data Analysis"
   ]
  },
  {
   "cell_type": "code",
   "execution_count": 94,
   "id": "85ceb4a9",
   "metadata": {},
   "outputs": [],
   "source": [
    "# import libraries\n",
    "from datetime import datetime, timedelta\n",
    "import pandas as pd\n",
    "%matplotlib inline\n",
    "import matplotlib.pyplot as plt\n",
    "import numpy as np\n",
    "import seaborn as sns\n",
    "from __future__ import division\n",
    "\n",
    "\n",
    "\n",
    "\n",
    "import chart_studio.plotly as py\n",
    "import plotly.offline as pyoff\n",
    "import plotly.graph_objs as go\n"
   ]
  },
  {
   "cell_type": "code",
   "execution_count": 95,
   "id": "4a2c7fe5",
   "metadata": {},
   "outputs": [],
   "source": [
    "# Install a pip package in the current Jupyter kernel\n",
    "#import sys\n",
    "#!{sys.executable} -m pip install chart_studio"
   ]
  },
  {
   "cell_type": "code",
   "execution_count": 96,
   "id": "4aa3c0fd",
   "metadata": {},
   "outputs": [
    {
     "data": {
      "text/plain": [
       "Unnamed: 0                                int64\n",
       "order_id                                 object\n",
       "order_status                             object\n",
       "order_purchase_timestamp         datetime64[ns]\n",
       "order_approved_at                datetime64[ns]\n",
       "order_delivered_carrier_date     datetime64[ns]\n",
       "order_delivered_customer_date    datetime64[ns]\n",
       "order_estimated_delivery_date    datetime64[ns]\n",
       "shipping_limit_date              datetime64[ns]\n",
       "payment_installments                    float64\n",
       "product_category_name_english            object\n",
       "seller_id                                object\n",
       "seller_zip_code_prefix                  float64\n",
       "seller_city                              object\n",
       "seller_state                             object\n",
       "seller_latitude                         float64\n",
       "seller_longitude                        float64\n",
       "customer_id                              object\n",
       "customer_unique_id                       object\n",
       "customer_zip_code_prefix                  int64\n",
       "customer_city                            object\n",
       "customer_state                           object\n",
       "customer_latitude                       float64\n",
       "customer_longitude                      float64\n",
       "review_id                                object\n",
       "review_score                            float64\n",
       "review_creation_date             datetime64[ns]\n",
       "review_answer_timestamp          datetime64[ns]\n",
       "Total_price                             float64\n",
       "number_of_items                           int64\n",
       "Median_payments                         float64\n",
       "Total_payment                           float64\n",
       "Total_Freight                           float64\n",
       "order_weight_g                          float64\n",
       "order_volume_cm3                        float64\n",
       "payment_type                             object\n",
       "Purchase_To_Delivery_Days               float64\n",
       "Approved_To_Delivery_Days               float64\n",
       "Diff_Est_Delivery_vs_Actual             float64\n",
       "dtype: object"
      ]
     },
     "execution_count": 96,
     "metadata": {},
     "output_type": "execute_result"
    }
   ],
   "source": [
    "#Import Data\n",
    "parse_dates = ['order_purchase_timestamp',\n",
    " 'order_approved_at',\n",
    " 'order_delivered_carrier_date',\n",
    " 'order_delivered_customer_date',\n",
    " 'order_estimated_delivery_date',\n",
    " 'shipping_limit_date',\n",
    "'review_creation_date',\n",
    " 'review_answer_timestamp',]\n",
    "\n",
    "OL_Data = pd.read_csv(\"./OL_Data_Order_Grouped.csv\", \n",
    "                      parse_dates=parse_dates,\n",
    "                      date_parser = pd.to_datetime)\n",
    "\n",
    "\n",
    "\n",
    "OL_Data.dtypes\n"
   ]
  },
  {
   "cell_type": "markdown",
   "id": "9950ad17",
   "metadata": {},
   "source": [
    "<h3>RFM Scoring</h3>"
   ]
  },
  {
   "cell_type": "markdown",
   "id": "fe707dc3",
   "metadata": {},
   "source": [
    "<h4>Functions</h4>"
   ]
  },
  {
   "cell_type": "code",
   "execution_count": 97,
   "id": "e9bd87cf",
   "metadata": {},
   "outputs": [],
   "source": [
    "from sklearn.cluster import KMeans\n",
    "\n",
    "def PrintKmeansInertiaGraph(dataFrame, column):\n",
    "    sse={}\n",
    "    columnDF = dataFrame[[column]]\n",
    "    for k in range(1, 10):\n",
    "        kmeans = KMeans(n_clusters=k, max_iter=1000).fit(columnDF)\n",
    "        columnDF.assign(clusters=kmeans.labels_)\n",
    "        sse[k] = kmeans.inertia_ \n",
    "    plt.figure()\n",
    "    plt.plot(list(sse.keys()), list(sse.values()))\n",
    "    plt.xlabel(\"Number of cluster\")\n",
    "    plt.show()\n",
    "    \n",
    "    \n",
    "def PerformKMeans(dataFrame, column, numClusters):\n",
    "    kmeans = KMeans(n_clusters=numClusters)\n",
    "    kmeans.fit(dataFrame[[column]])\n",
    "    clusterCol = '{0}Cluster'.format(column)\n",
    "    clusters = kmeans.predict(dataFrame[[column]])\n",
    "    \n",
    "    if(clusterCol in dataFrame.columns):\n",
    "        dataFrame.loc[:,clusterCol] = clusters\n",
    "    else:\n",
    "        dataFrame[clusterCol] = clusters\n",
    "    \n",
    "    \n",
    "#function for ordering cluster numbers\n",
    "def clustersInOrder(clusterName, targetName, dataFrame, ascending):\n",
    "    \n",
    "    #Set New Labels on Clusters, 0-max in order of mean targetName Value\n",
    "    df_new = dataFrame.groupby(clusterName)[targetName].mean().reset_index()\n",
    "    df_new = df_new.sort_values(by=targetName,ascending=ascending).reset_index(drop=True)\n",
    "    df_new['index'] = df_new.index\n",
    "    \n",
    "    #Set New Labels of Clusters to \n",
    "    df_final = pd.merge(dataFrame,df_new[[clusterName,'index']], on=clusterName)\n",
    "    df_final = df_final.drop([clusterName],axis=1)\n",
    "    df_final = df_final.rename(columns={\"index\":clusterName})\n",
    "    \n",
    "    return df_final"
   ]
  },
  {
   "cell_type": "markdown",
   "id": "8fa9a63a",
   "metadata": {},
   "source": [
    "<h3>Buyers</h3>"
   ]
  },
  {
   "cell_type": "markdown",
   "id": "5c79e8fe",
   "metadata": {},
   "source": [
    "<h4>Recency</h4>"
   ]
  },
  {
   "cell_type": "code",
   "execution_count": 98,
   "id": "93c8ec88",
   "metadata": {
    "scrolled": true
   },
   "outputs": [
    {
     "name": "stdout",
     "output_type": "stream",
     "text": [
      "count    94467.000000\n",
      "mean       241.859888\n",
      "std        152.702590\n",
      "min          0.000000\n",
      "25%        118.000000\n",
      "50%        223.000000\n",
      "75%        350.000000\n",
      "max        728.000000\n",
      "Name: Recency, dtype: float64\n"
     ]
    },
    {
     "data": {
      "image/png": "[encoded data removed]",
      "text/plain": [
       "<Figure size 432x288 with 1 Axes>"
      ]
     },
     "metadata": {
      "needs_background": "light"
     },
     "output_type": "display_data"
    }
   ],
   "source": [
    "#Recency Score Calc\n",
    "buyers = pd.DataFrame(OL_Data['customer_unique_id'].unique())\n",
    "buyers.columns=['CustomerUniqueID']\n",
    "\n",
    "buyerMaxPurchase = OL_Data.groupby('customer_unique_id').order_purchase_timestamp.max().reset_index()\n",
    "buyerMaxPurchase.columns = ['CustomerUniqueID', 'MaxPurchaseDate']\n",
    "\n",
    "buyerMaxPurchase['Recency'] = (buyerMaxPurchase['MaxPurchaseDate'].max() - buyerMaxPurchase['MaxPurchaseDate']).dt.days\n",
    "\n",
    "buyers = pd.merge(buyers, buyerMaxPurchase[['CustomerUniqueID','Recency']])\n",
    "\n",
    "print(buyers['Recency'].describe())\n",
    "buyers.Recency.sort_values().hist(bins=100)\n",
    "plt.show()\n"
   ]
  },
  {
   "cell_type": "code",
   "execution_count": 99,
   "id": "9dcd2e91",
   "metadata": {
    "scrolled": true
   },
   "outputs": [
    {
     "data": {
      "image/png": "[encoded data removed]",
      "text/plain": [
       "<Figure size 432x288 with 1 Axes>"
      ]
     },
     "metadata": {
      "needs_background": "light"
     },
     "output_type": "display_data"
    }
   ],
   "source": [
    "PrintKmeansInertiaGraph(buyers,'Recency')"
   ]
  },
  {
   "cell_type": "code",
   "execution_count": 100,
   "id": "71485311",
   "metadata": {},
   "outputs": [],
   "source": [
    "#Generate Recency Clusters, named 'RecencyCluster'\n",
    "PerformKMeans(buyers,'Recency', 4)\n",
    "\n",
    "#Reset Cluster Names, Lower Recency = More Recent, Higher RecencyCluster\n",
    "buyers = clustersInOrder('RecencyCluster', 'Recency', buyers, False)"
   ]
  },
  {
   "cell_type": "code",
   "execution_count": 101,
   "id": "44a68057",
   "metadata": {},
   "outputs": [
    {
     "name": "stdout",
     "output_type": "stream",
     "text": [
      "count    94467.000000\n",
      "mean         1.061005\n",
      "std          0.289504\n",
      "min          1.000000\n",
      "25%          1.000000\n",
      "50%          1.000000\n",
      "75%          1.000000\n",
      "max         16.000000\n",
      "Name: Frequency, dtype: float64\n"
     ]
    },
    {
     "data": {
      "image/png": "[encoded data removed]",
      "text/plain": [
       "<Figure size 432x288 with 1 Axes>"
      ]
     },
     "metadata": {
      "needs_background": "light"
     },
     "output_type": "display_data"
    }
   ],
   "source": [
    "#Frequency\n",
    "freq = OL_Data.groupby('customer_unique_id').order_id.count().reset_index()\n",
    "freq.columns = ['CustomerUniqueID','Frequency']\n",
    "freq.head()\n",
    "\n",
    "buyers = pd.merge(buyers,freq, on='CustomerUniqueID')\n",
    "\n",
    "print(buyers['Frequency'].describe())\n",
    "buyers.Frequency.sort_values().hist(bins=16)\n",
    "plt.show()"
   ]
  },
  {
   "cell_type": "code",
   "execution_count": null,
   "id": "3ef4e324",
   "metadata": {},
   "outputs": [],
   "source": []
  },
  {
   "cell_type": "code",
   "execution_count": 102,
   "id": "e7f1d4f6",
   "metadata": {},
   "outputs": [
    {
     "data": {
      "image/png": "[encoded data removed]",
      "text/plain": [
       "<Figure size 432x288 with 1 Axes>"
      ]
     },
     "metadata": {
      "needs_background": "light"
     },
     "output_type": "display_data"
    }
   ],
   "source": [
    "PrintKmeansInertiaGraph(buyers,'Frequency')"
   ]
  },
  {
   "cell_type": "code",
   "execution_count": 103,
   "id": "840c6bb4",
   "metadata": {},
   "outputs": [],
   "source": [
    "#Generate Recency Clusters, named 'FrequencyCluster'\n",
    "PerformKMeans(buyers,'Frequency', 4)\n",
    "\n",
    "#Reset Cluster Names, Higher Frequency = More Frequent, Higher Frequency Cluster\n",
    "buyers = clustersInOrder('FrequencyCluster', 'Frequency', buyers, True)"
   ]
  },
  {
   "cell_type": "code",
   "execution_count": 104,
   "id": "6db729af",
   "metadata": {},
   "outputs": [
    {
     "name": "stdout",
     "output_type": "stream",
     "text": [
      "count    94467.000000\n",
      "mean       182.890726\n",
      "std        306.673979\n",
      "min          0.000000\n",
      "25%         63.230000\n",
      "50%        108.840000\n",
      "75%        188.340000\n",
      "max      13664.080000\n",
      "Name: Revenue, dtype: float64\n"
     ]
    },
    {
     "data": {
      "image/png": "[encoded data removed]",
      "text/plain": [
       "<Figure size 432x288 with 1 Axes>"
      ]
     },
     "metadata": {
      "needs_background": "light"
     },
     "output_type": "display_data"
    }
   ],
   "source": [
    "#Revenue\n",
    "rev = OL_Data.groupby('customer_unique_id').Total_payment.sum().reset_index()\n",
    "rev.columns = ['CustomerUniqueID','Revenue']\n",
    "\n",
    "buyers = pd.merge(buyers, rev, on='CustomerUniqueID')\n",
    "\n",
    "print(buyers['Revenue'].describe())\n",
    "buyers.Revenue.sort_values().hist(bins=16)\n",
    "plt.show()"
   ]
  },
  {
   "cell_type": "code",
   "execution_count": 105,
   "id": "a6e4178e",
   "metadata": {},
   "outputs": [
    {
     "data": {
      "image/png": "[encoded data removed]",
      "text/plain": [
       "<Figure size 432x288 with 1 Axes>"
      ]
     },
     "metadata": {
      "needs_background": "light"
     },
     "output_type": "display_data"
    }
   ],
   "source": [
    "PrintKmeansInertiaGraph(buyers,'Revenue')"
   ]
  },
  {
   "cell_type": "code",
   "execution_count": 106,
   "id": "b1afd8bc",
   "metadata": {},
   "outputs": [],
   "source": [
    "#Generate Revenue Clusters, named 'RevenueCluster'\n",
    "PerformKMeans(buyers,'Revenue', 5)\n",
    "\n",
    "#Reset Cluster Names, Higher Revenue, Higher Revenue Cluster\n",
    "buyers = clustersInOrder('RevenueCluster', 'Revenue', buyers, True)"
   ]
  },
  {
   "cell_type": "code",
   "execution_count": 107,
   "id": "fa8e205f",
   "metadata": {},
   "outputs": [
    {
     "name": "stdout",
     "output_type": "stream",
     "text": [
      "                 Recency  Frequency      Revenue\n",
      "OverallScore                                    \n",
      "0             486.682999   1.000000    97.432983\n",
      "1             336.713072   1.012016   124.378070\n",
      "2             213.112193   1.029643   146.958005\n",
      "3              98.028162   1.046313   171.307269\n",
      "4             110.637740   1.282644   467.856357\n",
      "5             109.948816   1.681382   877.314037\n",
      "6             104.713733   2.195358  1467.175919\n",
      "7             102.077922   2.863636  2442.958247\n",
      "8              86.765957   4.234043  3300.630000\n",
      "9              72.200000   4.200000  4236.235000\n",
      "              Revenue\n",
      "OverallScore         \n",
      "0               13552\n",
      "1               21887\n",
      "2               26178\n",
      "3               25673\n",
      "4                4886\n",
      "5                1563\n",
      "6                 517\n",
      "7                 154\n",
      "8                  47\n",
      "9                  10\n"
     ]
    }
   ],
   "source": [
    "#calculate overall score and use mean() to see details\n",
    "buyers['OverallScore'] = buyers['RecencyCluster'] + buyers['FrequencyCluster'] + buyers['RevenueCluster']\n",
    "print(buyers.groupby('OverallScore')[['Recency','Frequency','Revenue']].mean())\n",
    "\n",
    "print(buyers.groupby('OverallScore')[['Revenue']].count())"
   ]
  },
  {
   "cell_type": "code",
   "execution_count": 108,
   "id": "c0476eaa",
   "metadata": {},
   "outputs": [],
   "source": [
    "buyers['RFM_Ranking'] = 'Lowest'\n",
    "buyers.loc[buyers['OverallScore']>=1,'RFM_Ranking'] ='Low' \n",
    "buyers.loc[buyers['OverallScore']>=3, 'RFM_Ranking'] = 'Medium'\n",
    "buyers.loc[buyers['OverallScore']>=6, 'RFM_Ranking'] = 'High'\n",
    "buyers.loc[buyers['OverallScore']>=8, 'RFM_Ranking'] = 'Highest'"
   ]
  },
  {
   "cell_type": "code",
   "execution_count": 83,
   "id": "ed65696a",
   "metadata": {},
   "outputs": [
    {
     "name": "stdout",
     "output_type": "stream",
     "text": [
      "count    2977.000000\n",
      "mean      134.126638\n",
      "std       163.831359\n",
      "min         0.000000\n",
      "25%        17.000000\n",
      "50%        46.000000\n",
      "75%       210.000000\n",
      "max       699.000000\n",
      "Name: Recency, dtype: float64\n"
     ]
    },
    {
     "data": {
      "image/png": "[encoded data removed]",
      "text/plain": [
       "<Figure size 432x288 with 1 Axes>"
      ]
     },
     "metadata": {
      "needs_background": "light"
     },
     "output_type": "display_data"
    }
   ],
   "source": [
    "#Recency Score Calc\n",
    "sellers = pd.DataFrame(OL_Data['seller_id'].unique())\n",
    "sellers.columns=['SellerID']\n",
    "\n",
    "sellerMaxSale = OL_Data.groupby('seller_id').order_purchase_timestamp.max().reset_index()\n",
    "sellerMaxSale.columns = ['SellerID', 'MaxSaleDate']\n",
    "\n",
    "sellerMaxSale['Recency'] = (sellerMaxSale['MaxSaleDate'].max() - sellerMaxSale['MaxSaleDate']).dt.days\n",
    "\n",
    "sellers = pd.merge(sellers, sellerMaxSale[['SellerID','Recency']])\n",
    "\n",
    "print(sellers['Recency'].describe())\n",
    "sellers.Recency.sort_values().hist(bins=100)\n",
    "plt.show()"
   ]
  },
  {
   "cell_type": "code",
   "execution_count": 84,
   "id": "4ee8dd26",
   "metadata": {},
   "outputs": [
    {
     "name": "stdout",
     "output_type": "stream",
     "text": [
      "count    2977.000000\n",
      "mean       33.667786\n",
      "std       108.081772\n",
      "min         1.000000\n",
      "25%         2.000000\n",
      "50%         7.000000\n",
      "75%        22.000000\n",
      "max      1865.000000\n",
      "Name: Frequency, dtype: float64\n"
     ]
    },
    {
     "data": {
      "image/png": "[encoded data removed]",
      "text/plain": [
       "<Figure size 432x288 with 1 Axes>"
      ]
     },
     "metadata": {
      "needs_background": "light"
     },
     "output_type": "display_data"
    }
   ],
   "source": [
    "#Frequency\n",
    "freq = OL_Data.groupby('seller_id').order_id.count().reset_index()\n",
    "freq.columns = ['SellerID','Frequency']\n",
    "freq.head()\n",
    "\n",
    "sellers = pd.merge(sellers,freq, on='SellerID')\n",
    "\n",
    "print(sellers['Frequency'].describe())\n",
    "sellers.Frequency.sort_values().hist(bins=16)\n",
    "plt.show()"
   ]
  },
  {
   "cell_type": "code",
   "execution_count": 86,
   "id": "99e3b5e4",
   "metadata": {},
   "outputs": [
    {
     "name": "stdout",
     "output_type": "stream",
     "text": [
      "count      2977.000000\n",
      "mean       5803.513779\n",
      "std       17929.475314\n",
      "min          15.220000\n",
      "25%         315.440000\n",
      "50%        1164.380000\n",
      "75%        4533.870000\n",
      "max      301542.650000\n",
      "Name: Revenue, dtype: float64\n"
     ]
    },
    {
     "data": {
      "image/png": "[encoded data removed]",
      "text/plain": [
       "<Figure size 432x288 with 1 Axes>"
      ]
     },
     "metadata": {
      "needs_background": "light"
     },
     "output_type": "display_data"
    }
   ],
   "source": [
    "#Revenue\n",
    "rev = OL_Data.groupby('seller_id').Total_payment.sum().reset_index()\n",
    "rev.columns = ['SellerID','Revenue']\n",
    "\n",
    "sellers = pd.merge(sellers, rev, on='SellerID')\n",
    "\n",
    "print(sellers['Revenue'].describe())\n",
    "sellers.Revenue.sort_values().hist(bins=16)\n",
    "plt.show()"
   ]
  },
  {
   "cell_type": "code",
   "execution_count": 90,
   "id": "f9f3c98a",
   "metadata": {},
   "outputs": [
    {
     "name": "stdout",
     "output_type": "stream",
     "text": [
      "Recency\n"
     ]
    },
    {
     "data": {
      "image/png": "[encoded data removed]",
      "text/plain": [
       "<Figure size 432x288 with 1 Axes>"
      ]
     },
     "metadata": {
      "needs_background": "light"
     },
     "output_type": "display_data"
    },
    {
     "name": "stdout",
     "output_type": "stream",
     "text": [
      "\n",
      "Frequency\n"
     ]
    },
    {
     "data": {
      "image/png": "[encoded data removed]",
      "text/plain": [
       "<Figure size 432x288 with 1 Axes>"
      ]
     },
     "metadata": {
      "needs_background": "light"
     },
     "output_type": "display_data"
    },
    {
     "name": "stdout",
     "output_type": "stream",
     "text": [
      "\n",
      "Revenue\n"
     ]
    },
    {
     "data": {
      "image/png": "[encoded data removed]",
      "text/plain": [
       "<Figure size 432x288 with 1 Axes>"
      ]
     },
     "metadata": {
      "needs_background": "light"
     },
     "output_type": "display_data"
    }
   ],
   "source": [
    "print('Recency')\n",
    "PrintKmeansInertiaGraph(sellers,'Recency')\n",
    "print('')\n",
    "print('Frequency')\n",
    "PrintKmeansInertiaGraph(sellers,'Frequency')\n",
    "print('')\n",
    "print('Revenue')\n",
    "PrintKmeansInertiaGraph(sellers,'Revenue')"
   ]
  },
  {
   "cell_type": "code",
   "execution_count": 109,
   "id": "69de2257",
   "metadata": {},
   "outputs": [],
   "source": [
    "#Generate Revenue Clusters, named 'RevenueCluster'\n",
    "PerformKMeans(sellers,'Recency', 4)\n",
    "#Reset Cluster Names, Higher Revenue, Higher Revenue Cluster\n",
    "sellers = clustersInOrder('RecencyCluster', 'Recency', sellers, True)\n",
    "\n",
    "#Generate Recency Clusters, named 'FrequencyCluster'\n",
    "PerformKMeans(sellers,'Frequency', 4)\n",
    "#Reset Cluster Names, Higher Frequency = More Frequent, Higher Frequency Cluster\n",
    "sellers = clustersInOrder('FrequencyCluster', 'Frequency', sellers, True)\n",
    "\n",
    "#Generate Revenue Clusters, named 'RevenueCluster'\n",
    "PerformKMeans(sellers,'Revenue', 5)\n",
    "#Reset Cluster Names, Higher Revenue, Higher Revenue Cluster\n",
    "sellers = clustersInOrder('RevenueCluster', 'Revenue', sellers, True)"
   ]
  },
  {
   "cell_type": "code",
   "execution_count": 110,
   "id": "3cb47be5",
   "metadata": {},
   "outputs": [
    {
     "name": "stdout",
     "output_type": "stream",
     "text": [
      "                 Recency    Frequency        Revenue\n",
      "OverallScore                                        \n",
      "0              30.334789    12.473071    1943.584010\n",
      "1             121.449074    19.699074    4426.794753\n",
      "2             224.792043    42.314647    6587.820561\n",
      "3             442.307918    36.498534    7078.310557\n",
      "4              75.342105   345.815789   49082.791579\n",
      "5              80.400000   557.900000  114049.226000\n",
      "6               7.375000  1187.125000  175086.316250\n",
      "7              10.600000  1252.600000  254983.110000\n",
      "              Revenue\n",
      "OverallScore         \n",
      "0                1374\n",
      "1                 648\n",
      "2                 553\n",
      "3                 341\n",
      "4                  38\n",
      "5                  10\n",
      "6                   8\n",
      "7                   5\n"
     ]
    }
   ],
   "source": [
    "#calculate overall score and use mean() to see details\n",
    "sellers['OverallScore'] = sellers['RecencyCluster'] + sellers['FrequencyCluster'] + sellers['RevenueCluster']\n",
    "print(sellers.groupby('OverallScore')[['Recency','Frequency','Revenue']].mean())\n",
    "\n",
    "print(sellers.groupby('OverallScore')[['Revenue']].count())"
   ]
  },
  {
   "cell_type": "code",
   "execution_count": 111,
   "id": "f28cdced",
   "metadata": {},
   "outputs": [],
   "source": [
    "sellers['RFM_Ranking'] = 'Lowest'\n",
    "sellers.loc[sellers['OverallScore']>=1,'RFM_Ranking'] ='Low' \n",
    "sellers.loc[sellers['OverallScore']>=4, 'RFM_Ranking'] = 'Medium'\n",
    "sellers.loc[sellers['OverallScore']>=6, 'RFM_Ranking'] = 'High'"
   ]
  }
 ],
 "metadata": {
  "kernelspec": {
   "display_name": "Python 3 (ipykernel)",
   "language": "python",
   "name": "python3"
  },
  "language_info": {
   "codemirror_mode": {
    "name": "ipython",
    "version": 3
   },
   "file_extension": ".py",
   "mimetype": "text/x-python",
   "name": "python",
   "nbconvert_exporter": "python",
   "pygments_lexer": "ipython3",
   "version": "3.9.7"
  }
 },
 "nbformat": 4,
 "nbformat_minor": 5
}
