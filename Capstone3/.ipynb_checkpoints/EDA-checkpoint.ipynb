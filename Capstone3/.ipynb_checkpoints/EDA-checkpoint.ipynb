{
 "cells": [
  {
   "cell_type": "markdown",
   "id": "d3c340f1",
   "metadata": {},
   "source": [
    "## Exploratory Data Analysis"
   ]
  },
  {
   "cell_type": "code",
   "execution_count": 5,
   "id": "85ceb4a9",
   "metadata": {},
   "outputs": [],
   "source": [
    "# import libraries\n",
    "from datetime import datetime, timedelta\n",
    "import pandas as pd\n",
    "%matplotlib inline\n",
    "import matplotlib.pyplot as plt\n",
    "import numpy as np\n",
    "import seaborn as sns\n",
    "from __future__ import division\n",
    "\n",
    "\n",
    "\n",
    "\n",
    "import chart_studio.plotly as py\n",
    "import plotly.offline as pyoff\n",
    "import plotly.graph_objs as go\n"
   ]
  },
  {
   "cell_type": "code",
   "execution_count": 6,
   "id": "4a2c7fe5",
   "metadata": {},
   "outputs": [],
   "source": [
    "# Install a pip package in the current Jupyter kernel\n",
    "#import sys\n",
    "#!{sys.executable} -m pip install chart_studio"
   ]
  },
  {
   "cell_type": "code",
   "execution_count": 7,
   "id": "4aa3c0fd",
   "metadata": {},
   "outputs": [
    {
     "data": {
      "text/plain": [
       "Unnamed: 0                                int64\n",
       "order_id                                 object\n",
       "order_status                             object\n",
       "order_purchase_timestamp         datetime64[ns]\n",
       "order_approved_at                datetime64[ns]\n",
       "order_delivered_carrier_date     datetime64[ns]\n",
       "order_delivered_customer_date    datetime64[ns]\n",
       "order_estimated_delivery_date    datetime64[ns]\n",
       "shipping_limit_date              datetime64[ns]\n",
       "payment_installments                    float64\n",
       "product_category_name_english            object\n",
       "seller_id                                object\n",
       "seller_zip_code_prefix                  float64\n",
       "seller_city                              object\n",
       "seller_state                             object\n",
       "seller_latitude                         float64\n",
       "seller_longitude                        float64\n",
       "customer_id                              object\n",
       "customer_unique_id                       object\n",
       "customer_zip_code_prefix                  int64\n",
       "customer_city                            object\n",
       "customer_state                           object\n",
       "customer_latitude                       float64\n",
       "customer_longitude                      float64\n",
       "review_id                                object\n",
       "review_score                            float64\n",
       "review_creation_date             datetime64[ns]\n",
       "review_answer_timestamp          datetime64[ns]\n",
       "Total_price                             float64\n",
       "number_of_items                           int64\n",
       "Median_payments                         float64\n",
       "Total_payment                           float64\n",
       "Total_Freight                           float64\n",
       "order_weight_g                          float64\n",
       "order_volume_cm3                        float64\n",
       "payment_type                             object\n",
       "Purchase_To_Delivery_Days               float64\n",
       "Approved_To_Delivery_Days               float64\n",
       "Diff_Est_Delivery_vs_Actual             float64\n",
       "dtype: object"
      ]
     },
     "execution_count": 7,
     "metadata": {},
     "output_type": "execute_result"
    }
   ],
   "source": [
    "#Import Data\n",
    "parse_dates = ['order_purchase_timestamp',\n",
    " 'order_approved_at',\n",
    " 'order_delivered_carrier_date',\n",
    " 'order_delivered_customer_date',\n",
    " 'order_estimated_delivery_date',\n",
    " 'shipping_limit_date',\n",
    "'review_creation_date',\n",
    " 'review_answer_timestamp',]\n",
    "\n",
    "OL_Data = pd.read_csv(\"./OL_Data_Order_Grouped.csv\", \n",
    "                      parse_dates=parse_dates,\n",
    "                      date_parser = pd.to_datetime)\n",
    "\n",
    "\n",
    "\n",
    "OL_Data.dtypes\n"
   ]
  },
  {
   "cell_type": "markdown",
   "id": "9950ad17",
   "metadata": {},
   "source": [
    "<h3>RFM Scoring</h3>"
   ]
  },
  {
   "cell_type": "markdown",
   "id": "fe707dc3",
   "metadata": {},
   "source": [
    "<h4>Functions</h4>"
   ]
  },
  {
   "cell_type": "code",
   "execution_count": 60,
   "id": "e9bd87cf",
   "metadata": {},
   "outputs": [],
   "source": [
    "from sklearn.cluster import KMeans\n",
    "\n",
    "def PrintKmeansInertiaGraph(dataFrame, column):\n",
    "    sse={}\n",
    "    columnDF = dataFrame[[column]]\n",
    "    for k in range(1, 10):\n",
    "        kmeans = KMeans(n_clusters=k, max_iter=1000).fit(columnDF)\n",
    "        columnDF.assign(clusters=kmeans.labels_)\n",
    "        sse[k] = kmeans.inertia_ \n",
    "    plt.figure()\n",
    "    plt.plot(list(sse.keys()), list(sse.values()))\n",
    "    plt.xlabel(\"Number of cluster\")\n",
    "    plt.show()\n",
    "    \n",
    "    \n",
    "def PerformKMeans(dataFrame, column, numClusters):\n",
    "    kmeans = KMeans(n_clusters=numClusters)\n",
    "    kmeans.fit(dataFrame[[column]])\n",
    "    clusterCol = '{0}Cluster'.format(column)\n",
    "    clusters = kmeans.predict(dataFrame[[column]])\n",
    "    \n",
    "    if(clusterCol in dataFrame.columns):\n",
    "        dataFrame.loc[:,clusterCol] = clusters\n",
    "    else:\n",
    "        dataFrame[clusterCol] = clusters\n",
    "    \n",
    "    \n",
    "#function for ordering cluster numbers\n",
    "def clustersInOrder(clusterName, targetName, dataFrame, ascending):\n",
    "    \n",
    "    #Set New Labels on Clusters, 0-max in order of mean targetName Value\n",
    "    df_new = dataFrame.groupby(clusterName)[targetName].mean().reset_index()\n",
    "    df_new = df_new.sort_values(by=targetName,ascending=ascending).reset_index(drop=True)\n",
    "    df_new['index'] = df_new.index\n",
    "    \n",
    "    #Set New Labels of Clusters to \n",
    "    df_final = pd.merge(dataFrame,df_new[[clusterName,'index']], on=clusterName)\n",
    "    df_final = df_final.drop([clusterName],axis=1)\n",
    "    df_final = df_final.rename(columns={\"index\":clusterName})\n",
    "    \n",
    "    return df_final"
   ]
  },
  {
   "cell_type": "markdown",
   "id": "1d040218",
   "metadata": {},
   "source": [
    "<h3>Buyers</h3>"
   ]
  },
  {
   "cell_type": "markdown",
   "id": "5c79e8fe",
   "metadata": {},
   "source": [
    "<h4>Recency</h4>"
   ]
  },
  {
   "cell_type": "code",
   "execution_count": 37,
   "id": "93c8ec88",
   "metadata": {
    "scrolled": true
   },
   "outputs": [
    {
     "name": "stdout",
     "output_type": "stream",
     "text": [
      "count    94467.000000\n",
      "mean       241.859888\n",
      "std        152.702590\n",
      "min          0.000000\n",
      "25%        118.000000\n",
      "50%        223.000000\n",
      "75%        350.000000\n",
      "max        728.000000\n",
      "Name: Recency, dtype: float64\n"
     ]
    },
    {
     "data": {
      "image/png": "[encoded data removed]",
      "text/plain": [
       "<Figure size 432x288 with 1 Axes>"
      ]
     },
     "metadata": {
      "needs_background": "light"
     },
     "output_type": "display_data"
    }
   ],
   "source": [
    "#Recency Score Calc\n",
    "buyers = pd.DataFrame(OL_Data['customer_unique_id'].unique())\n",
    "buyers.columns=['CustomerUniqueID']\n",
    "\n",
    "buyerMaxPurchase = OL_Data.groupby('customer_unique_id').order_purchase_timestamp.max().reset_index()\n",
    "buyerMaxPurchase.columns = ['CustomerUniqueID', 'MaxPurchaseDate']\n",
    "\n",
    "buyerMaxPurchase['Recency'] = (buyerMaxPurchase['MaxPurchaseDate'].max() - buyerMaxPurchase['MaxPurchaseDate']).dt.days\n",
    "\n",
    "buyers = pd.merge(buyers, buyerMaxPurchase[['CustomerUniqueID','Recency']])\n",
    "\n",
    "print(buyers['Recency'].describe())\n",
    "buyers.Recency.sort_values().hist(bins=100)\n",
    "plt.show()\n"
   ]
  },
  {
   "cell_type": "code",
   "execution_count": 31,
   "id": "9dcd2e91",
   "metadata": {
    "scrolled": true
   },
   "outputs": [
    {
     "data": {
      "image/png": "[encoded data removed]",
      "text/plain": [
       "<Figure size 432x288 with 1 Axes>"
      ]
     },
     "metadata": {
      "needs_background": "light"
     },
     "output_type": "display_data"
    }
   ],
   "source": [
    "PrintKmeansInertiaGraph(buyers,'Recency')"
   ]
  },
  {
   "cell_type": "code",
   "execution_count": 62,
   "id": "55a1db7e",
   "metadata": {},
   "outputs": [
    {
     "data": {
      "text/html": [
       "<div>\n",
       "<style scoped>\n",
       "    .dataframe tbody tr th:only-of-type {\n",
       "        vertical-align: middle;\n",
       "    }\n",
       "\n",
       "    .dataframe tbody tr th {\n",
       "        vertical-align: top;\n",
       "    }\n",
       "\n",
       "    .dataframe thead th {\n",
       "        text-align: right;\n",
       "    }\n",
       "</style>\n",
       "<table border=\"1\" class=\"dataframe\">\n",
       "  <thead>\n",
       "    <tr style=\"text-align: right;\">\n",
       "      <th></th>\n",
       "      <th>CustomerUniqueID</th>\n",
       "      <th>Recency</th>\n",
       "      <th>RecencyCluster</th>\n",
       "    </tr>\n",
       "  </thead>\n",
       "  <tbody>\n",
       "    <tr>\n",
       "      <th>0</th>\n",
       "      <td>7c396fd4830fd04220f754e42b4e5bff</td>\n",
       "      <td>335</td>\n",
       "      <td>1</td>\n",
       "    </tr>\n",
       "    <tr>\n",
       "      <th>1</th>\n",
       "      <td>7c142cf63193a1473d2e66489a9ae977</td>\n",
       "      <td>288</td>\n",
       "      <td>1</td>\n",
       "    </tr>\n",
       "    <tr>\n",
       "      <th>2</th>\n",
       "      <td>299905e3934e9e181bfb2e164dd4b4f8</td>\n",
       "      <td>400</td>\n",
       "      <td>1</td>\n",
       "    </tr>\n",
       "    <tr>\n",
       "      <th>3</th>\n",
       "      <td>d0ff1a7468fcc46b8fc658ab35d2a12c</td>\n",
       "      <td>286</td>\n",
       "      <td>1</td>\n",
       "    </tr>\n",
       "    <tr>\n",
       "      <th>4</th>\n",
       "      <td>634f09f6075fe9032e6c19609ffe995a</td>\n",
       "      <td>311</td>\n",
       "      <td>1</td>\n",
       "    </tr>\n",
       "    <tr>\n",
       "      <th>...</th>\n",
       "      <td>...</td>\n",
       "      <td>...</td>\n",
       "      <td>...</td>\n",
       "    </tr>\n",
       "    <tr>\n",
       "      <th>94462</th>\n",
       "      <td>bd7df6ff9e4a04991eea842883f79e9a</td>\n",
       "      <td>424</td>\n",
       "      <td>0</td>\n",
       "    </tr>\n",
       "    <tr>\n",
       "      <th>94463</th>\n",
       "      <td>7bb6ca43f478742340256d516d9d86e3</td>\n",
       "      <td>475</td>\n",
       "      <td>0</td>\n",
       "    </tr>\n",
       "    <tr>\n",
       "      <th>94464</th>\n",
       "      <td>e03dbdf5e56c96b106d8115ac336f47f</td>\n",
       "      <td>584</td>\n",
       "      <td>0</td>\n",
       "    </tr>\n",
       "    <tr>\n",
       "      <th>94465</th>\n",
       "      <td>831ce3f1bacbd424fc4e38fbd4d66d29</td>\n",
       "      <td>557</td>\n",
       "      <td>0</td>\n",
       "    </tr>\n",
       "    <tr>\n",
       "      <th>94466</th>\n",
       "      <td>6359f309b166b0196dbf7ad2ac62bb5a</td>\n",
       "      <td>542</td>\n",
       "      <td>0</td>\n",
       "    </tr>\n",
       "  </tbody>\n",
       "</table>\n",
       "<p>94467 rows × 3 columns</p>\n",
       "</div>"
      ],
      "text/plain": [
       "                       CustomerUniqueID  Recency  RecencyCluster\n",
       "0      7c396fd4830fd04220f754e42b4e5bff      335               1\n",
       "1      7c142cf63193a1473d2e66489a9ae977      288               1\n",
       "2      299905e3934e9e181bfb2e164dd4b4f8      400               1\n",
       "3      d0ff1a7468fcc46b8fc658ab35d2a12c      286               1\n",
       "4      634f09f6075fe9032e6c19609ffe995a      311               1\n",
       "...                                 ...      ...             ...\n",
       "94462  bd7df6ff9e4a04991eea842883f79e9a      424               0\n",
       "94463  7bb6ca43f478742340256d516d9d86e3      475               0\n",
       "94464  e03dbdf5e56c96b106d8115ac336f47f      584               0\n",
       "94465  831ce3f1bacbd424fc4e38fbd4d66d29      557               0\n",
       "94466  6359f309b166b0196dbf7ad2ac62bb5a      542               0\n",
       "\n",
       "[94467 rows x 3 columns]"
      ]
     },
     "execution_count": 62,
     "metadata": {},
     "output_type": "execute_result"
    }
   ],
   "source": [
    "#Generate Recency Clusters, named 'RecencyCluster'\n",
    "PerformKMeans(buyers,'Recency', 4)\n",
    "\n",
    "#Reset Cluster Names, Lower Recency = More Recent, Higher RecencyCluster\n",
    "clustersInOrder('RecencyCluster', 'Recency', buyers, False)"
   ]
  },
  {
   "cell_type": "code",
   "execution_count": 64,
   "id": "44a68057",
   "metadata": {},
   "outputs": [
    {
     "name": "stdout",
     "output_type": "stream",
     "text": [
      "count    94467.000000\n",
      "mean         1.061005\n",
      "std          0.289504\n",
      "min          1.000000\n",
      "25%          1.000000\n",
      "50%          1.000000\n",
      "75%          1.000000\n",
      "max         16.000000\n",
      "Name: Frequency, dtype: float64\n"
     ]
    },
    {
     "data": {
      "image/png": "[encoded data removed]",
      "text/plain": [
       "<Figure size 432x288 with 1 Axes>"
      ]
     },
     "metadata": {
      "needs_background": "light"
     },
     "output_type": "display_data"
    }
   ],
   "source": [
    "#Frequency\n",
    "freq = OL_Data.groupby('customer_unique_id').order_id.count().reset_index()\n",
    "freq.columns = ['CustomerUniqueID','Frequency']\n",
    "freq.head()\n",
    "\n",
    "buyers = pd.merge(buyers,freq, on='CustomerUniqueID')\n",
    "\n",
    "print(buyers['Frequency'].describe())\n",
    "buyers.Frequency.sort_values().hist(bins=16)\n",
    "plt.show()"
   ]
  },
  {
   "cell_type": "code",
   "execution_count": null,
   "id": "7996903a",
   "metadata": {},
   "outputs": [],
   "source": []
  },
  {
   "cell_type": "code",
   "execution_count": 65,
   "id": "fe5cf9bb",
   "metadata": {},
   "outputs": [
    {
     "data": {
      "image/png": "[encoded data removed]",
      "text/plain": [
       "<Figure size 432x288 with 1 Axes>"
      ]
     },
     "metadata": {
      "needs_background": "light"
     },
     "output_type": "display_data"
    }
   ],
   "source": [
    "PrintKmeansInertiaGraph(buyers,'Frequency')"
   ]
  },
  {
   "cell_type": "code",
   "execution_count": 67,
   "id": "5c1c3336",
   "metadata": {},
   "outputs": [
    {
     "data": {
      "text/html": [
       "<div>\n",
       "<style scoped>\n",
       "    .dataframe tbody tr th:only-of-type {\n",
       "        vertical-align: middle;\n",
       "    }\n",
       "\n",
       "    .dataframe tbody tr th {\n",
       "        vertical-align: top;\n",
       "    }\n",
       "\n",
       "    .dataframe thead th {\n",
       "        text-align: right;\n",
       "    }\n",
       "</style>\n",
       "<table border=\"1\" class=\"dataframe\">\n",
       "  <thead>\n",
       "    <tr style=\"text-align: right;\">\n",
       "      <th></th>\n",
       "      <th>CustomerUniqueID</th>\n",
       "      <th>Recency</th>\n",
       "      <th>RecencyCluster</th>\n",
       "      <th>Frequency</th>\n",
       "      <th>FrequencyCluster</th>\n",
       "    </tr>\n",
       "  </thead>\n",
       "  <tbody>\n",
       "    <tr>\n",
       "      <th>0</th>\n",
       "      <td>7c396fd4830fd04220f754e42b4e5bff</td>\n",
       "      <td>335</td>\n",
       "      <td>2</td>\n",
       "      <td>2</td>\n",
       "      <td>1</td>\n",
       "    </tr>\n",
       "    <tr>\n",
       "      <th>1</th>\n",
       "      <td>ccafc1c3f270410521c3c6f3b249870f</td>\n",
       "      <td>87</td>\n",
       "      <td>0</td>\n",
       "      <td>2</td>\n",
       "      <td>1</td>\n",
       "    </tr>\n",
       "    <tr>\n",
       "      <th>2</th>\n",
       "      <td>6e26bbeaa107ec34112c64e1ee31c0f5</td>\n",
       "      <td>243</td>\n",
       "      <td>3</td>\n",
       "      <td>2</td>\n",
       "      <td>1</td>\n",
       "    </tr>\n",
       "    <tr>\n",
       "      <th>3</th>\n",
       "      <td>576ea0cab426cd8a00fad9a9c90a4494</td>\n",
       "      <td>91</td>\n",
       "      <td>0</td>\n",
       "      <td>2</td>\n",
       "      <td>1</td>\n",
       "    </tr>\n",
       "    <tr>\n",
       "      <th>4</th>\n",
       "      <td>08fb46d35bb3ab4037202c23592d1259</td>\n",
       "      <td>90</td>\n",
       "      <td>0</td>\n",
       "      <td>2</td>\n",
       "      <td>1</td>\n",
       "    </tr>\n",
       "    <tr>\n",
       "      <th>...</th>\n",
       "      <td>...</td>\n",
       "      <td>...</td>\n",
       "      <td>...</td>\n",
       "      <td>...</td>\n",
       "      <td>...</td>\n",
       "    </tr>\n",
       "    <tr>\n",
       "      <th>94462</th>\n",
       "      <td>397b44d5bb99eabf54ea9c2b41ebb905</td>\n",
       "      <td>77</td>\n",
       "      <td>0</td>\n",
       "      <td>5</td>\n",
       "      <td>3</td>\n",
       "    </tr>\n",
       "    <tr>\n",
       "      <th>94463</th>\n",
       "      <td>e78838df9c44e102b6ac84cc5eea7d5c</td>\n",
       "      <td>572</td>\n",
       "      <td>1</td>\n",
       "      <td>5</td>\n",
       "      <td>3</td>\n",
       "    </tr>\n",
       "    <tr>\n",
       "      <th>94464</th>\n",
       "      <td>41a3b256cc497dc952a815b848345cbc</td>\n",
       "      <td>218</td>\n",
       "      <td>3</td>\n",
       "      <td>5</td>\n",
       "      <td>3</td>\n",
       "    </tr>\n",
       "    <tr>\n",
       "      <th>94465</th>\n",
       "      <td>6dcf48fcc0c4d96dd7af8a0897ae9de8</td>\n",
       "      <td>47</td>\n",
       "      <td>0</td>\n",
       "      <td>5</td>\n",
       "      <td>3</td>\n",
       "    </tr>\n",
       "    <tr>\n",
       "      <th>94466</th>\n",
       "      <td>d73238dc01a257f5439f611e3cdb199c</td>\n",
       "      <td>316</td>\n",
       "      <td>2</td>\n",
       "      <td>6</td>\n",
       "      <td>3</td>\n",
       "    </tr>\n",
       "  </tbody>\n",
       "</table>\n",
       "<p>94467 rows × 5 columns</p>\n",
       "</div>"
      ],
      "text/plain": [
       "                       CustomerUniqueID  Recency  RecencyCluster  Frequency  \\\n",
       "0      7c396fd4830fd04220f754e42b4e5bff      335               2          2   \n",
       "1      ccafc1c3f270410521c3c6f3b249870f       87               0          2   \n",
       "2      6e26bbeaa107ec34112c64e1ee31c0f5      243               3          2   \n",
       "3      576ea0cab426cd8a00fad9a9c90a4494       91               0          2   \n",
       "4      08fb46d35bb3ab4037202c23592d1259       90               0          2   \n",
       "...                                 ...      ...             ...        ...   \n",
       "94462  397b44d5bb99eabf54ea9c2b41ebb905       77               0          5   \n",
       "94463  e78838df9c44e102b6ac84cc5eea7d5c      572               1          5   \n",
       "94464  41a3b256cc497dc952a815b848345cbc      218               3          5   \n",
       "94465  6dcf48fcc0c4d96dd7af8a0897ae9de8       47               0          5   \n",
       "94466  d73238dc01a257f5439f611e3cdb199c      316               2          6   \n",
       "\n",
       "       FrequencyCluster  \n",
       "0                     1  \n",
       "1                     1  \n",
       "2                     1  \n",
       "3                     1  \n",
       "4                     1  \n",
       "...                 ...  \n",
       "94462                 3  \n",
       "94463                 3  \n",
       "94464                 3  \n",
       "94465                 3  \n",
       "94466                 3  \n",
       "\n",
       "[94467 rows x 5 columns]"
      ]
     },
     "execution_count": 67,
     "metadata": {},
     "output_type": "execute_result"
    }
   ],
   "source": [
    "#Generate Recency Clusters, named 'RecencyCluster'\n",
    "PerformKMeans(buyers,'Frequency', 4)\n",
    "\n",
    "#Reset Cluster Names, Higher Frequency = More Frequent, Higher Frequency Cluster\n",
    "clustersInOrder('FrequencyCluster', 'Frequency', buyers, True)"
   ]
  },
  {
   "cell_type": "code",
   "execution_count": 68,
   "id": "6db729af",
   "metadata": {},
   "outputs": [
    {
     "name": "stdout",
     "output_type": "stream",
     "text": [
      "count    94467.000000\n",
      "mean       182.890726\n",
      "std        306.673979\n",
      "min          0.000000\n",
      "25%         63.230000\n",
      "50%        108.840000\n",
      "75%        188.340000\n",
      "max      13664.080000\n",
      "Name: Revenue, dtype: float64\n"
     ]
    },
    {
     "data": {
      "image/png": "[encoded data removed]",
      "text/plain": [
       "<Figure size 432x288 with 1 Axes>"
      ]
     },
     "metadata": {
      "needs_background": "light"
     },
     "output_type": "display_data"
    }
   ],
   "source": [
    "#Revenue\n",
    "rev = OL_Data.groupby('customer_unique_id').Total_payment.sum().reset_index()\n",
    "rev.columns = ['CustomerUniqueID','Revenue']\n",
    "\n",
    "buyers = pd.merge(buyers, rev, on='CustomerUniqueID')\n",
    "\n",
    "print(buyers['Revenue'].describe())\n",
    "buyers.Revenue.sort_values().hist(bins=16)\n",
    "plt.show()"
   ]
  },
  {
   "cell_type": "code",
   "execution_count": 69,
   "id": "d561fdb3",
   "metadata": {},
   "outputs": [
    {
     "data": {
      "image/png": "[encoded data removed]",
      "text/plain": [
       "<Figure size 432x288 with 1 Axes>"
      ]
     },
     "metadata": {
      "needs_background": "light"
     },
     "output_type": "display_data"
    }
   ],
   "source": [
    "PrintKmeansInertiaGraph(buyers,'Revenue')"
   ]
  },
  {
   "cell_type": "code",
   "execution_count": 70,
   "id": "a3cd9737",
   "metadata": {},
   "outputs": [
    {
     "data": {
      "text/html": [
       "<div>\n",
       "<style scoped>\n",
       "    .dataframe tbody tr th:only-of-type {\n",
       "        vertical-align: middle;\n",
       "    }\n",
       "\n",
       "    .dataframe tbody tr th {\n",
       "        vertical-align: top;\n",
       "    }\n",
       "\n",
       "    .dataframe thead th {\n",
       "        text-align: right;\n",
       "    }\n",
       "</style>\n",
       "<table border=\"1\" class=\"dataframe\">\n",
       "  <thead>\n",
       "    <tr style=\"text-align: right;\">\n",
       "      <th></th>\n",
       "      <th>CustomerUniqueID</th>\n",
       "      <th>Recency</th>\n",
       "      <th>RecencyCluster</th>\n",
       "      <th>Frequency</th>\n",
       "      <th>FrequencyCluster</th>\n",
       "      <th>Revenue</th>\n",
       "      <th>RevenueCluster</th>\n",
       "    </tr>\n",
       "  </thead>\n",
       "  <tbody>\n",
       "    <tr>\n",
       "      <th>0</th>\n",
       "      <td>7c396fd4830fd04220f754e42b4e5bff</td>\n",
       "      <td>335</td>\n",
       "      <td>2</td>\n",
       "      <td>2</td>\n",
       "      <td>1</td>\n",
       "      <td>82.82</td>\n",
       "      <td>0</td>\n",
       "    </tr>\n",
       "    <tr>\n",
       "      <th>1</th>\n",
       "      <td>af07308b275d755c9edb36a90c618231</td>\n",
       "      <td>40</td>\n",
       "      <td>0</td>\n",
       "      <td>1</td>\n",
       "      <td>0</td>\n",
       "      <td>141.46</td>\n",
       "      <td>0</td>\n",
       "    </tr>\n",
       "    <tr>\n",
       "      <th>2</th>\n",
       "      <td>3a653a41f6f9fc3d2a113cf8398680e8</td>\n",
       "      <td>26</td>\n",
       "      <td>0</td>\n",
       "      <td>1</td>\n",
       "      <td>0</td>\n",
       "      <td>179.12</td>\n",
       "      <td>0</td>\n",
       "    </tr>\n",
       "    <tr>\n",
       "      <th>3</th>\n",
       "      <td>7c142cf63193a1473d2e66489a9ae977</td>\n",
       "      <td>288</td>\n",
       "      <td>2</td>\n",
       "      <td>1</td>\n",
       "      <td>0</td>\n",
       "      <td>72.20</td>\n",
       "      <td>0</td>\n",
       "    </tr>\n",
       "    <tr>\n",
       "      <th>4</th>\n",
       "      <td>72632f0f9dd73dfee390c9b22eb56dd6</td>\n",
       "      <td>201</td>\n",
       "      <td>3</td>\n",
       "      <td>1</td>\n",
       "      <td>0</td>\n",
       "      <td>28.62</td>\n",
       "      <td>0</td>\n",
       "    </tr>\n",
       "    <tr>\n",
       "      <th>...</th>\n",
       "      <td>...</td>\n",
       "      <td>...</td>\n",
       "      <td>...</td>\n",
       "      <td>...</td>\n",
       "      <td>...</td>\n",
       "      <td>...</td>\n",
       "      <td>...</td>\n",
       "    </tr>\n",
       "    <tr>\n",
       "      <th>94462</th>\n",
       "      <td>2592789c0e70f4d2af39afae4dd431ec</td>\n",
       "      <td>285</td>\n",
       "      <td>2</td>\n",
       "      <td>2</td>\n",
       "      <td>1</td>\n",
       "      <td>5156.00</td>\n",
       "      <td>4</td>\n",
       "    </tr>\n",
       "    <tr>\n",
       "      <th>94463</th>\n",
       "      <td>5e9b9a8a03e7eb90d53d2ef2592b7d53</td>\n",
       "      <td>275</td>\n",
       "      <td>2</td>\n",
       "      <td>3</td>\n",
       "      <td>2</td>\n",
       "      <td>9774.72</td>\n",
       "      <td>4</td>\n",
       "    </tr>\n",
       "    <tr>\n",
       "      <th>94464</th>\n",
       "      <td>d73238dc01a257f5439f611e3cdb199c</td>\n",
       "      <td>316</td>\n",
       "      <td>2</td>\n",
       "      <td>6</td>\n",
       "      <td>3</td>\n",
       "      <td>4601.88</td>\n",
       "      <td>4</td>\n",
       "    </tr>\n",
       "    <tr>\n",
       "      <th>94465</th>\n",
       "      <td>188b4725e34369a393ae43a6f7703876</td>\n",
       "      <td>111</td>\n",
       "      <td>0</td>\n",
       "      <td>3</td>\n",
       "      <td>2</td>\n",
       "      <td>7902.36</td>\n",
       "      <td>4</td>\n",
       "    </tr>\n",
       "    <tr>\n",
       "      <th>94466</th>\n",
       "      <td>f9172a6495d46451776be8bc8e46032d</td>\n",
       "      <td>153</td>\n",
       "      <td>3</td>\n",
       "      <td>2</td>\n",
       "      <td>1</td>\n",
       "      <td>5264.56</td>\n",
       "      <td>4</td>\n",
       "    </tr>\n",
       "  </tbody>\n",
       "</table>\n",
       "<p>94467 rows × 7 columns</p>\n",
       "</div>"
      ],
      "text/plain": [
       "                       CustomerUniqueID  Recency  RecencyCluster  Frequency  \\\n",
       "0      7c396fd4830fd04220f754e42b4e5bff      335               2          2   \n",
       "1      af07308b275d755c9edb36a90c618231       40               0          1   \n",
       "2      3a653a41f6f9fc3d2a113cf8398680e8       26               0          1   \n",
       "3      7c142cf63193a1473d2e66489a9ae977      288               2          1   \n",
       "4      72632f0f9dd73dfee390c9b22eb56dd6      201               3          1   \n",
       "...                                 ...      ...             ...        ...   \n",
       "94462  2592789c0e70f4d2af39afae4dd431ec      285               2          2   \n",
       "94463  5e9b9a8a03e7eb90d53d2ef2592b7d53      275               2          3   \n",
       "94464  d73238dc01a257f5439f611e3cdb199c      316               2          6   \n",
       "94465  188b4725e34369a393ae43a6f7703876      111               0          3   \n",
       "94466  f9172a6495d46451776be8bc8e46032d      153               3          2   \n",
       "\n",
       "       FrequencyCluster  Revenue  RevenueCluster  \n",
       "0                     1    82.82               0  \n",
       "1                     0   141.46               0  \n",
       "2                     0   179.12               0  \n",
       "3                     0    72.20               0  \n",
       "4                     0    28.62               0  \n",
       "...                 ...      ...             ...  \n",
       "94462                 1  5156.00               4  \n",
       "94463                 2  9774.72               4  \n",
       "94464                 3  4601.88               4  \n",
       "94465                 2  7902.36               4  \n",
       "94466                 1  5264.56               4  \n",
       "\n",
       "[94467 rows x 7 columns]"
      ]
     },
     "execution_count": 70,
     "metadata": {},
     "output_type": "execute_result"
    }
   ],
   "source": [
    "#Generate Revenue Clusters, named 'RevenueCluster'\n",
    "PerformKMeans(buyers,'Revenue', 5)\n",
    "\n",
    "#Reset Cluster Names, Higher Revenue, Higher Revenue Cluster\n",
    "clustersInOrder('RevenueCluster', 'Revenue', buyers, True)"
   ]
  },
  {
   "cell_type": "code",
   "execution_count": 76,
   "id": "c566046f",
   "metadata": {},
   "outputs": [
    {
     "name": "stdout",
     "output_type": "stream",
     "text": [
      "                 Recency  Frequency      Revenue\n",
      "OverallScore                                    \n",
      "0              65.762299   1.000000    98.780482\n",
      "1             456.513152   1.030536   132.118667\n",
      "2             320.604667   1.025462   127.175676\n",
      "3             179.603924   1.025957   156.262036\n",
      "4             335.959038   1.329840   504.732153\n",
      "5             314.844815   1.222084   478.377269\n",
      "6             206.275404   1.183048   431.449563\n",
      "7             207.803073   2.068436   850.237919\n",
      "8             209.616667   2.791667  1328.421500\n",
      "9             203.695652   4.043478  2043.511304\n",
      "10            206.800000   6.000000  2853.532000\n",
      "              Revenue\n",
      "OverallScore         \n",
      "0               20185\n",
      "1               14409\n",
      "2               20226\n",
      "3               26351\n",
      "4                4199\n",
      "5                4021\n",
      "6                4212\n",
      "7                 716\n",
      "8                 120\n",
      "9                  23\n",
      "10                  5\n"
     ]
    }
   ],
   "source": [
    "#calculate overall score and use mean() to see details\n",
    "buyers['OverallScore'] = buyers['RecencyCluster'] + buyers['FrequencyCluster'] + buyers['RevenueCluster']\n",
    "print(buyers.groupby('OverallScore')[['Recency','Frequency','Revenue']].mean())\n",
    "\n",
    "print(buyers.groupby('OverallScore')[['Revenue']].count())"
   ]
  },
  {
   "cell_type": "code",
   "execution_count": 77,
   "id": "b8439039",
   "metadata": {},
   "outputs": [],
   "source": [
    "buyers['RFM_Ranking'] = 'Lowest'\n",
    "buyers.loc[buyers['OverallScore']>=1,'RFM_Ranking'] ='Low' \n",
    "buyers.loc[buyers['OverallScore']>=4, 'RFM_Ranking'] = 'Medium'\n",
    "buyers.loc[buyers['OverallScore']>=7, 'RFM_Ranking'] = 'High'\n",
    "buyers.loc[buyers['OverallScore']>=9, 'RFM_Ranking'] = 'Highest'"
   ]
  },
  {
   "cell_type": "code",
   "execution_count": null,
   "id": "c1623872",
   "metadata": {},
   "outputs": [],
   "source": []
  },
  {
   "cell_type": "code",
   "execution_count": null,
   "id": "d5768ed9",
   "metadata": {},
   "outputs": [],
   "source": []
  },
  {
   "cell_type": "code",
   "execution_count": 79,
   "id": "dc693666",
   "metadata": {
    "scrolled": false
   },
   "outputs": [
    {
     "name": "stdout",
     "output_type": "stream",
     "text": [
      "count    2977.000000\n",
      "mean      134.126638\n",
      "std       163.831359\n",
      "min         0.000000\n",
      "25%        17.000000\n",
      "50%        46.000000\n",
      "75%       210.000000\n",
      "max       699.000000\n",
      "Name: Recency, dtype: float64\n"
     ]
    },
    {
     "data": {
      "image/png": "[encoded data removed]",
      "text/plain": [
       "<Figure size 432x288 with 1 Axes>"
      ]
     },
     "metadata": {
      "needs_background": "light"
     },
     "output_type": "display_data"
    }
   ],
   "source": [
    "#Recency Score Calc\n",
    "sellers = pd.DataFrame(OL_Data['seller_id'].unique())\n",
    "sellers.columns=['SellerID']\n",
    "\n",
    "sellerMaxSale = OL_Data.groupby('seller_id').order_purchase_timestamp.max().reset_index()\n",
    "sellerMaxSale.columns = ['SellerID', 'MaxSaleDate']\n",
    "\n",
    "sellerMaxSale['Recency'] = (sellerMaxSale['MaxSaleDate'].max() - sellerMaxSale['MaxSaleDate']).dt.days\n",
    "\n",
    "sellers = pd.merge(sellers, sellerMaxSale[['SellerID','Recency']])\n",
    "\n",
    "print(sellers['Recency'].describe())\n",
    "sellers.Recency.sort_values().hist(bins=100)\n",
    "plt.show()\n"
   ]
  },
  {
   "cell_type": "code",
   "execution_count": 82,
   "id": "d4c703ca",
   "metadata": {},
   "outputs": [
    {
     "name": "stdout",
     "output_type": "stream",
     "text": [
      "count    2977.000000\n",
      "mean       33.667786\n",
      "std       108.081772\n",
      "min         1.000000\n",
      "25%         2.000000\n",
      "50%         7.000000\n",
      "75%        22.000000\n",
      "max      1865.000000\n",
      "Name: Frequency, dtype: float64\n"
     ]
    },
    {
     "data": {
      "image/png": "[encoded data removed]",
      "text/plain": [
       "<Figure size 432x288 with 1 Axes>"
      ]
     },
     "metadata": {
      "needs_background": "light"
     },
     "output_type": "display_data"
    }
   ],
   "source": [
    "#Frequency\n",
    "freq = OL_Data.groupby('seller_id').order_id.count().reset_index()\n",
    "freq.columns = ['SellerID','Frequency']\n",
    "freq.head()\n",
    "\n",
    "sellers = pd.merge(sellers,freq, on='SellerID')\n",
    "\n",
    "print(sellers['Frequency'].describe())\n",
    "sellers.Frequency.sort_values().hist(bins=16)\n",
    "plt.show()"
   ]
  },
  {
   "cell_type": "code",
   "execution_count": 68,
   "id": "6db729af",
   "metadata": {},
   "outputs": [
    {
     "name": "stdout",
     "output_type": "stream",
     "text": [
      "count    94467.000000\n",
      "mean       182.890726\n",
      "std        306.673979\n",
      "min          0.000000\n",
      "25%         63.230000\n",
      "50%        108.840000\n",
      "75%        188.340000\n",
      "max      13664.080000\n",
      "Name: Revenue, dtype: float64\n"
     ]
    },
    {
     "data": {
      "image/png": "[encoded data removed]",
      "text/plain": [
       "<Figure size 432x288 with 1 Axes>"
      ]
     },
     "metadata": {
      "needs_background": "light"
     },
     "output_type": "display_data"
    }
   ],
   "source": [
    "#Revenue\n",
    "rev = OL_Data.groupby('seller_id').Total_payment.sum().reset_index()\n",
    "rev.columns = ['SellerID','Revenue']\n",
    "\n",
    "sellers = pd.merge(sellers, rev, on='CustomerUniqueID')\n",
    "\n",
    "print(sellers['Revenue'].describe())\n",
    "sellers.Revenue.sort_values().hist(bins=16)\n",
    "plt.show()"
   ]
  },
  {
   "cell_type": "code",
   "execution_count": null,
   "id": "65788019",
   "metadata": {},
   "outputs": [],
   "source": []
  }
 ],
 "metadata": {
  "kernelspec": {
   "display_name": "Python 3 (ipykernel)",
   "language": "python",
   "name": "python3"
  },
  "language_info": {
   "codemirror_mode": {
    "name": "ipython",
    "version": 3
   },
   "file_extension": ".py",
   "mimetype": "text/x-python",
   "name": "python",
   "nbconvert_exporter": "python",
   "pygments_lexer": "ipython3",
   "version": "3.9.7"
  }
 },
 "nbformat": 4,
 "nbformat_minor": 5
}
