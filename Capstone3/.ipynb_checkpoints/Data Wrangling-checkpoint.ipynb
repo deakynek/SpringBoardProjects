{
 "cells": [
  {
   "cell_type": "markdown",
   "id": "d3c340f1",
   "metadata": {},
   "source": [
    "## Data Wrangling"
   ]
  },
  {
   "cell_type": "code",
   "execution_count": 1,
   "id": "85ceb4a9",
   "metadata": {},
   "outputs": [],
   "source": [
    "import pandas as pd\n",
    "import numpy as np\n",
    "import matplotlib.pyplot as plt\n",
    "import os, fnmatch"
   ]
  },
  {
   "cell_type": "code",
   "execution_count": 2,
   "id": "9181b9aa",
   "metadata": {},
   "outputs": [
    {
     "ename": "FileNotFoundError",
     "evalue": "[WinError 3] The system cannot find the path specified: './RawData/eCommerceCosmetics'",
     "output_type": "error",
     "traceback": [
      "\u001b[1;31m---------------------------------------------------------------------------\u001b[0m",
      "\u001b[1;31mFileNotFoundError\u001b[0m                         Traceback (most recent call last)",
      "\u001b[1;32m~\\AppData\\Local\\Temp/ipykernel_9000/3648210355.py\u001b[0m in \u001b[0;36m<module>\u001b[1;34m\u001b[0m\n\u001b[0;32m      2\u001b[0m \u001b[1;33m\u001b[0m\u001b[0m\n\u001b[0;32m      3\u001b[0m \u001b[1;31m#eCommerceCosmetics\u001b[0m\u001b[1;33m\u001b[0m\u001b[1;33m\u001b[0m\u001b[0m\n\u001b[1;32m----> 4\u001b[1;33m \u001b[0mfileList\u001b[0m \u001b[1;33m=\u001b[0m \u001b[0mfnmatch\u001b[0m\u001b[1;33m.\u001b[0m\u001b[0mfilter\u001b[0m\u001b[1;33m(\u001b[0m\u001b[0mos\u001b[0m\u001b[1;33m.\u001b[0m\u001b[0mlistdir\u001b[0m\u001b[1;33m(\u001b[0m\u001b[1;34m\"./RawData/eCommerceCosmetics\"\u001b[0m\u001b[1;33m)\u001b[0m\u001b[1;33m,\u001b[0m\u001b[1;34m\"*.csv\"\u001b[0m\u001b[1;33m)\u001b[0m\u001b[1;33m\u001b[0m\u001b[1;33m\u001b[0m\u001b[0m\n\u001b[0m\u001b[0;32m      5\u001b[0m \u001b[0meCosmoData\u001b[0m \u001b[1;33m=\u001b[0m \u001b[0mpd\u001b[0m\u001b[1;33m.\u001b[0m\u001b[0mread_csv\u001b[0m\u001b[1;33m(\u001b[0m\u001b[1;34m\"./RawData/eCommerceCosmetics/\"\u001b[0m \u001b[1;33m+\u001b[0m \u001b[0mfileList\u001b[0m\u001b[1;33m[\u001b[0m\u001b[1;36m0\u001b[0m\u001b[1;33m]\u001b[0m\u001b[1;33m)\u001b[0m\u001b[1;33m\u001b[0m\u001b[1;33m\u001b[0m\u001b[0m\n\u001b[0;32m      6\u001b[0m \u001b[1;32mfor\u001b[0m \u001b[0mfile\u001b[0m \u001b[1;32min\u001b[0m \u001b[0mfileList\u001b[0m\u001b[1;33m[\u001b[0m\u001b[1;36m1\u001b[0m\u001b[1;33m:\u001b[0m\u001b[1;33m]\u001b[0m\u001b[1;33m:\u001b[0m\u001b[1;33m\u001b[0m\u001b[1;33m\u001b[0m\u001b[0m\n",
      "\u001b[1;31mFileNotFoundError\u001b[0m: [WinError 3] The system cannot find the path specified: './RawData/eCommerceCosmetics'"
     ]
    }
   ],
   "source": [
    "## Import Data Sets \n",
    "\n",
    "#eCommerceCosmetics\n",
    "fileList = fnmatch.filter(os.listdir(\"./RawData/eCommerceCosmetics\"),\"*.csv\")\n",
    "eCosmoData = pd.read_csv(\"./RawData/eCommerceCosmetics/\" + fileList[0])\n",
    "for file in fileList[1:]:\n",
    "    newData = pd.read_csv(\"./RawData/eCommerceCosmetics/\"+file)\n",
    "    eCosmoData = pd.concat([eCosmoData, newData], ignore_index=False)\n",
    "    \n",
    "    \n",
    "#eCommerceElectronics\n",
    "eElecData = pd.read_csv(\"./RawData/eCommerceElectronics/kz.csv\")\n",
    "\n",
    "#IBM Telco\n",
    "ibmTelcoData = pd.read_csv(\"./RawData/IBM-TelcoCustomerChurn.csv\")\n",
    "\n",
    "#IBM Marketing Customer Value Data\n",
    "ibmMarketingData = pd.read_csv(\"./RawData/IBM-MarketingCustomerValueData.csv\")\n",
    "\n",
    "\n",
    "#Mall Customer\n",
    "mallData = pd.read_csv(\"./RawData/Mall_Customers.csv\")\n",
    "\n",
    "#Online Retail \n",
    "uciOnlineRetail1 = pd.read_csv(\"./RawData/Online Retail - Online Retail.csv\")\n",
    "\n",
    "#Online Retail 2\n",
    "uciOnlineRetail2 = pd.read_csv(\"./RawData/online_retail_II - Year 2009-2010.csv\")\n",
    "\n",
    "#ula box orders \n",
    "ulaboxOrders = pd.read_csv(\"./RawData/ulabox_orders_with_categories_partials_2017.csv\")\n"
   ]
  },
  {
   "cell_type": "code",
   "execution_count": null,
   "id": "bc4d83cd",
   "metadata": {},
   "outputs": [],
   "source": [
    "#OList eCommerce Public Data Set\n",
    "olistDir =\"./RawData/OlistPublicECommerce/\"\n",
    "\n",
    "OL_customers = pd.read_csv(olistDir+\"olist_customers_dataset.csv\")\n",
    "OL_geo = pd.read_csv(olistDir+\"olist_geolocation_dataset.csv\")\n",
    "OL_orders = pd.read_csv(olistDir+\"olist_orders_dataset.csv\")\n",
    "OL_orders_items = pd.read_csv(olistDir+\"olist_order_items_dataset.csv\")\n",
    "OL_orders_payments = pd.read_csv(olistDir+\"olist_order_payments_dataset.csv\")\n",
    "OL_orders_reviews = pd.read_csv(olistDir+\"olist_order_reviews_dataset.csv\")\n",
    "OL_products = pd.read_csv(olistDir+\"olist_products_dataset.csv\")\n",
    "OL_sellers = pd.read_csv(olistDir+\"olist_sellers_dataset.csv\")\n",
    "OL_products_translations = pd.read_csv(olistDir+\"product_category_name_translation.csv\")\n",
    "\n",
    "\n",
    "OL_customers    = OL_customers.dropna(thresh=len(OL_customers.columns)-1)\n",
    "OL_geo          = OL_geo.dropna(thresh=len(OL_geo.columns)-1)\n",
    "OL_orders       = OL_orders.dropna(thresh=len(OL_orders.columns)-1)\n",
    "OL_orders_items = OL_orders_items.dropna(thresh=len(OL_orders_items.columns)-1)\n",
    "OL_orders_payments = OL_orders_payments.dropna(thresh=len(OL_orders_payments.columns)-1)\n",
    "OL_orders_reviews  = OL_orders_reviews.dropna(thresh=len(OL_orders_reviews.columns)-1)\n",
    "OL_products        = OL_products.dropna(thresh=len(OL_products.columns)-1)\n",
    "OL_sellers         = OL_sellers.dropna(thresh=len(OL_sellers.columns)-1)\n",
    "OL_products_translations = OL_products_translations.dropna(thresh=len(OL_products_translations.columns)-1)"
   ]
  },
  {
   "cell_type": "markdown",
   "id": "75aafb2e",
   "metadata": {},
   "source": [
    "<h5>OL Customer Merge</h5>"
   ]
  },
  {
   "cell_type": "code",
   "execution_count": null,
   "id": "e534adec",
   "metadata": {},
   "outputs": [],
   "source": [
    "dropGeo = OL_geo.drop_duplicates(\"geolocation_zip_code_prefix\")\n",
    "dropGeo = dropGeo[['geolocation_zip_code_prefix', 'geolocation_lat', 'geolocation_lng']]\n",
    "\n",
    "mergedOLCustomers = OL_customers.merge(dropGeo, how='left',left_on=\"customer_zip_code_prefix\", right_on=\"geolocation_zip_code_prefix\")\n",
    "mergedOLCustomers = mergedOLCustomers.rename(columns={'geolocation_lat':'customer_latitude','geolocation_lng':'customer_longitude'})\n",
    "mergedOLCustomers = mergedOLCustomers.drop(\"geolocation_zip_code_prefix\",axis=1)"
   ]
  },
  {
   "cell_type": "markdown",
   "id": "2edf7ab3",
   "metadata": {},
   "source": [
    "<h5>OL Items Merge</h5>"
   ]
  },
  {
   "cell_type": "code",
   "execution_count": null,
   "id": "ec101148",
   "metadata": {},
   "outputs": [],
   "source": [
    "productsSub = OL_products[['product_id', 'product_category_name', 'product_weight_g', 'product_length_cm', 'product_height_cm', 'product_width_cm']]\n",
    "productsSub.insert(len(productsSub.columns),'product_volume_cm3', OL_products['product_length_cm']*OL_products['product_height_cm']*OL_products['product_width_cm'])\n",
    "productsSub.insert(len(productsSub.columns),'product_density_g_per_cm3',OL_products['product_weight_g']/productsSub['product_volume_cm3'])\n",
    "\n",
    "mergedOLProducts = productsSub.merge(OL_products_translations, how='left', on=\"product_category_name\")\n",
    "mergedOLProduct = mergedOLProducts.drop(\"product_category_name\",axis=1)\n",
    "mergedOLItems = OL_orders_items.merge(mergedOLProducts, how='left', on=\"product_id\")\n",
    "mergedOLItems = mergedOLItems.drop(\"product_category_name\",axis=1)"
   ]
  },
  {
   "cell_type": "markdown",
   "id": "d1e14714",
   "metadata": {},
   "source": [
    "<h5>OL Sellers Merge</h5>"
   ]
  },
  {
   "cell_type": "code",
   "execution_count": null,
   "id": "1a758a42",
   "metadata": {},
   "outputs": [],
   "source": [
    "mergedSellers = OL_sellers.merge(dropGeo, how='left', left_on=\"seller_zip_code_prefix\", right_on=\"geolocation_zip_code_prefix\")\n",
    "mergedSellers = mergedSellers.drop(\"geolocation_zip_code_prefix\",axis=1)\n",
    "mergedSellers = mergedSellers.rename(columns={'geolocation_lat':'seller_latitude','geolocation_lng':'seller_longitude'})\n",
    "mergedOLItems = mergedOLItems.merge(mergedSellers, how='left', on=\"seller_id\")"
   ]
  },
  {
   "cell_type": "markdown",
   "id": "17ba04ad",
   "metadata": {},
   "source": [
    "<h5>OL Data Merge</h5>"
   ]
  },
  {
   "cell_type": "code",
   "execution_count": null,
   "id": "46a79463",
   "metadata": {},
   "outputs": [],
   "source": [
    "ReviewsSub = OL_orders_reviews[['review_id', 'order_id', 'review_score', 'review_creation_date', 'review_answer_timestamp']]\n",
    "\n",
    "OL_Data = OL_orders.merge(OL_orders_payments, how='left', on='order_id')\n",
    "OL_Data = OL_Data.merge(ReviewsSub, how='left', on='order_id')\n",
    "OL_Data = OL_Data.merge(mergedOLItems, how='left', on='order_id')\n",
    "OL_Data = OL_Data.merge(mergedOLCustomers, how='left', on='customer_id')\n"
   ]
  },
  {
   "cell_type": "markdown",
   "id": "5c705cf7",
   "metadata": {},
   "source": [
    "<h3> Function Definitions</h3>"
   ]
  },
  {
   "cell_type": "code",
   "execution_count": null,
   "id": "19df3551",
   "metadata": {},
   "outputs": [],
   "source": [
    "import itertools\n",
    "def PrintDataFrameSummary(frame):\n",
    "    metaData = list()\n",
    "    metaData.append(list([\"Name:\",\"DType:\",\"Non-Null:\",\"Unique:\"]))\n",
    "    for col in list(frame.columns):\n",
    "        metaData.append( list([\"{0}\".format(col), \n",
    "                              \"{0}\".format(frame[col].dtype),\n",
    "                              \"{0}\".format(frame[col].notna().sum()), \n",
    "                              \"{0}\".format(len(set(frame[frame[col].notna()][col])))]))\n",
    "    \n",
    "    formatString = \"\"\n",
    "    \n",
    "    for i in range(len(metaData[0])):\n",
    "        maxLength = len(max([l[i] for l in metaData], key=len))\n",
    "        formatString += \"{\"+\":<{0}\".format(maxLength+8) +\"}\"\n",
    "        \n",
    "    for i in range(len(metaData)):\n",
    "        \n",
    "        print(formatString.format(*metaData[i]))\n",
    "    \n",
    "    \n",
    "        \n",
    "    print()\n",
    "    print(\"Initial Length {0}\".format(len(frame)))\n",
    "    print(\"Dropped NA Length {0}\".format(len(frame.dropna())))\n",
    "    return frame.head()"
   ]
  },
  {
   "cell_type": "markdown",
   "id": "98d39fc5",
   "metadata": {},
   "source": [
    "<h2>Part 1) Initial investigation</h2>"
   ]
  },
  {
   "cell_type": "markdown",
   "id": "b2dd98a3",
   "metadata": {},
   "source": [
    "<div class=\"span5 alert alert-info\">\n",
    "<h3>Online Cosmetic Store Data</h3>\n",
    "</div>"
   ]
  },
  {
   "cell_type": "code",
   "execution_count": null,
   "id": "6825440f",
   "metadata": {},
   "outputs": [],
   "source": [
    "PrintDataFrameSummary(eCosmoData)"
   ]
  },
  {
   "cell_type": "markdown",
   "id": "8e0a13fb",
   "metadata": {},
   "source": [
    "<div class=\"span5 alert alert-info\">\n",
    "    <p><b>Positives:</b> \n",
    "        <br>- Lots of MetaData on orders. \n",
    "        <br>- User Session listed, possible multiple orders during sessions accounted for.\n",
    "    </p>\n",
    "    <p><b>Negatives:</b> \n",
    "        <br>- No meta data on customers. Kaggle site says 'all personal data removed'. Useless for Customer Segmentation.\n",
    "        <br>- Category Code limits dataset\n",
    "   \n",
    "</div>"
   ]
  },
  {
   "cell_type": "code",
   "execution_count": null,
   "id": "bbb11bdc",
   "metadata": {},
   "outputs": [],
   "source": []
  },
  {
   "cell_type": "markdown",
   "id": "0d56743c",
   "metadata": {},
   "source": [
    "<div class=\"span5 alert alert-info\">\n",
    "<h3>Online Electronics Store Data</h3>\n",
    "</div>"
   ]
  },
  {
   "cell_type": "code",
   "execution_count": null,
   "id": "8eef7f3f",
   "metadata": {},
   "outputs": [],
   "source": [
    "PrintDataFrameSummary(eElecData)"
   ]
  },
  {
   "cell_type": "markdown",
   "id": "2e60e072",
   "metadata": {},
   "source": [
    "<div class=\"span5 alert alert-info\">\n",
    "    <p><b>Positives:</b> \n",
    "        <br>- Lots of MetaData on orders. \n",
    "        <br>- User Session listed, possible multiple orders during sessions accounted for.\n",
    "    </p>\n",
    "    <p><b>Negatives:</b> \n",
    "        <br>- No meta data on customers. Useless for Customer Segmentation.\n",
    "        <br>- User ID limits Data set, and other null paramters limit it more (564k -> 420k)\n",
    "</div>"
   ]
  },
  {
   "cell_type": "code",
   "execution_count": null,
   "id": "903cbab9",
   "metadata": {},
   "outputs": [],
   "source": []
  },
  {
   "cell_type": "markdown",
   "id": "d80cf2bb",
   "metadata": {},
   "source": [
    "<div class=\"span5 alert alert-info\">\n",
    "<h3>IBM Example Telco Customer Data</h3>\n",
    "</div>"
   ]
  },
  {
   "cell_type": "code",
   "execution_count": null,
   "id": "28623168",
   "metadata": {},
   "outputs": [],
   "source": [
    "PrintDataFrameSummary(ibmTelcoData)"
   ]
  },
  {
   "cell_type": "markdown",
   "id": "c3b5c5c8",
   "metadata": {},
   "source": [
    "<div class=\"span5 alert alert-info\">\n",
    "    <p><b>Positives:</b> \n",
    "        <br>- Many MetaData features on Users\n",
    "        <br>- Many MetaData features on Service Provided  \n",
    "        <br>- Churn given as parameter, easy to make dependent variable\n",
    "    </p>\n",
    "    <p><b>Negatives:</b> \n",
    "        <br>- Smaller Data Set\n",
    "        <br>- No Date data in set.  \n",
    "        <br>- Generated Data from IBM, not real world data\n",
    "</div>"
   ]
  },
  {
   "cell_type": "code",
   "execution_count": null,
   "id": "ee6e9bf7",
   "metadata": {},
   "outputs": [],
   "source": []
  },
  {
   "cell_type": "markdown",
   "id": "ae59b1eb",
   "metadata": {},
   "source": [
    "<div class=\"span5 alert alert-info\">\n",
    "<h3>IBM Example Marketing Data</h3>\n",
    "</div>"
   ]
  },
  {
   "cell_type": "code",
   "execution_count": null,
   "id": "bcfa9adc",
   "metadata": {},
   "outputs": [],
   "source": [
    "PrintDataFrameSummary(ibmMarketingData)"
   ]
  },
  {
   "cell_type": "markdown",
   "id": "dabcfeb8",
   "metadata": {},
   "source": [
    "<div class=\"span5 alert alert-info\">\n",
    "    <p><b>Positives:</b> \n",
    "        <br>- No missing Data\n",
    "        <br>- Many MetaData features on Users\n",
    "        <br>- Many MetaData features on Service Provided  \n",
    "        <br>- Customer easy to make dependent variable\n",
    "    </p>\n",
    "    <p><b>Negatives:</b> \n",
    "        <br>- Smaller Data Set\n",
    "        <br>- No Date data in set.  \n",
    "        <br>- Generated Data from IBM, not real world data\n",
    "</div>"
   ]
  },
  {
   "cell_type": "code",
   "execution_count": null,
   "id": "0eccd9c3",
   "metadata": {},
   "outputs": [],
   "source": []
  },
  {
   "cell_type": "markdown",
   "id": "94ab7426",
   "metadata": {},
   "source": [
    "<div class=\"span5 alert alert-info\">\n",
    "<h3>Mall Customers</h3>\n",
    "</div>"
   ]
  },
  {
   "cell_type": "code",
   "execution_count": null,
   "id": "b7137c17",
   "metadata": {
    "scrolled": true
   },
   "outputs": [],
   "source": [
    "PrintDataFrameSummary(mallData)"
   ]
  },
  {
   "cell_type": "markdown",
   "id": "64e08aa3",
   "metadata": {},
   "source": [
    "<div class=\"span5 alert alert-info\">\n",
    "    <p><b>Positives:</b> \n",
    "        <br>- Some MetaData features on Users \n",
    "        <br>- Spending Score, easy to make dependent variable\n",
    "    </p>\n",
    "    <p><b>Negatives:</b> \n",
    "        <br>- Small Data Set\n",
    "        <br>- No Date data in set\n",
    "        <br>- No data on services provided\n",
    "        <br>- No calculation given for Spending Score, nor parameters to calculate our own\n",
    "</div>"
   ]
  },
  {
   "cell_type": "code",
   "execution_count": null,
   "id": "59cf1e7a",
   "metadata": {},
   "outputs": [],
   "source": []
  },
  {
   "cell_type": "markdown",
   "id": "5669aa71",
   "metadata": {},
   "source": [
    "<div class=\"span5 alert alert-info\">\n",
    "<h3>UCI Online Retail 1</h3>\n",
    "</div>"
   ]
  },
  {
   "cell_type": "code",
   "execution_count": null,
   "id": "dd3d0346",
   "metadata": {
    "scrolled": false
   },
   "outputs": [],
   "source": [
    "PrintDataFrameSummary(uciOnlineRetail1)"
   ]
  },
  {
   "cell_type": "markdown",
   "id": "5f1ff580",
   "metadata": {},
   "source": [
    "<div class=\"span5 alert alert-info\">\n",
    "    <p><b>Positives:</b> \n",
    "        <br>- Some MetaData on order location\n",
    "        <br>- Dates provided\n",
    "        <br>- Some MetaData on orders\n",
    "    </p>\n",
    "    <p><b>Negatives:</b> \n",
    "        <br>- No Meta Data on users\n",
    "</div>"
   ]
  },
  {
   "cell_type": "code",
   "execution_count": null,
   "id": "d37dd1e0",
   "metadata": {},
   "outputs": [],
   "source": []
  },
  {
   "cell_type": "markdown",
   "id": "98bf9f1f",
   "metadata": {},
   "source": [
    "<div class=\"span5 alert alert-info\">\n",
    "<h3>UCI Online Retail 2</h3>\n",
    "</div>"
   ]
  },
  {
   "cell_type": "code",
   "execution_count": null,
   "id": "86daf1af",
   "metadata": {},
   "outputs": [],
   "source": [
    "PrintDataFrameSummary(uciOnlineRetail2)"
   ]
  },
  {
   "cell_type": "markdown",
   "id": "0f6f5370",
   "metadata": {},
   "source": [
    "<div class=\"span5 alert alert-info\">\n",
    "    <p><b>Positives:</b> \n",
    "        <br>- Some MetaData on order location\n",
    "        <br>- Dates provided\n",
    "        <br>- Some MetaData on orders\n",
    "    </p>\n",
    "    <p><b>Negatives:</b> \n",
    "        <br>- No Meta Data on users\n",
    "</div>"
   ]
  },
  {
   "cell_type": "code",
   "execution_count": null,
   "id": "ef2e4f7e",
   "metadata": {},
   "outputs": [],
   "source": []
  },
  {
   "cell_type": "markdown",
   "id": "f287f70d",
   "metadata": {},
   "source": [
    "<div class=\"span5 alert alert-info\">\n",
    "<h3>ULA Box Orders</h3>\n",
    "</div>"
   ]
  },
  {
   "cell_type": "code",
   "execution_count": null,
   "id": "34eff944",
   "metadata": {},
   "outputs": [],
   "source": [
    "PrintDataFrameSummary(ulaboxOrders)"
   ]
  },
  {
   "cell_type": "markdown",
   "id": "d8ccbd35",
   "metadata": {},
   "source": [
    "<div class=\"span5 alert alert-info\">\n",
    "    <p><b>Positives:</b> \n",
    "        <br>- No nulls in Dataset\n",
    "        <br>- Department breakdown of Orders\n",
    "        <br>- Some MetaData on orders\n",
    "    </p>\n",
    "    <p><b>Negatives:</b> \n",
    "        <br>- No metadata on customers\n",
    "        <br>- Weekday and hour given, but not date\n",
    "        <br>- customer and order numbering make it seem like this data was generated, unrealistic\n",
    "</div>"
   ]
  },
  {
   "cell_type": "code",
   "execution_count": null,
   "id": "9a5b813f",
   "metadata": {},
   "outputs": [],
   "source": []
  },
  {
   "cell_type": "markdown",
   "id": "aafadb4f",
   "metadata": {},
   "source": [
    "<div class=\"span5 alert alert-info\">\n",
    "<h3>OList eCommerce Public Data Set</h3>\n",
    "</div>"
   ]
  },
  {
   "cell_type": "code",
   "execution_count": null,
   "id": "bed7712a",
   "metadata": {},
   "outputs": [],
   "source": [
    "PrintDataFrameSummary(OL_Data)"
   ]
  },
  {
   "cell_type": "markdown",
   "id": "3dca76f0",
   "metadata": {},
   "source": [
    "<div class=\"span5 alert alert-info\">\n",
    "    <p><b>Positives:</b> \n",
    "        <br>- Many metadata features on Customers\n",
    "        <br>- Many metadata features on Orders\n",
    "        <br>- Many metadata features on Sellers\n",
    "        <br>- Many metadata features on Products\n",
    "        <br>- Time Data on Purchase and Delivery data\n",
    "        <br>- Real Data from an actual seller\n",
    "    </p>\n",
    "    <p><b>Negatives:</b> \n",
    "        <br>- Lots of datasets in separate files, lots of validation needed\n",
    "         \n",
    "</div>"
   ]
  },
  {
   "cell_type": "markdown",
   "id": "eeecfc27",
   "metadata": {},
   "source": [
    "<div class=\"span5 alert alert-success\">\n",
    "    <h3>Part 1 Conclusions</h3>    \n",
    "    <br>- Clear winner in terms of data for cutomer segmentation is OList Data set\n",
    "    <br>- IBM sets are a close second, with generated, but representative Data\n",
    "</div>  "
   ]
  },
  {
   "cell_type": "markdown",
   "id": "61ca8b18",
   "metadata": {},
   "source": [
    "<h2>Part 2) Data Validation</h2>"
   ]
  },
  {
   "cell_type": "markdown",
   "id": "234a3de9",
   "metadata": {},
   "source": [
    "<h4>dtypes</h4>"
   ]
  },
  {
   "cell_type": "code",
   "execution_count": null,
   "id": "1fedd919",
   "metadata": {
    "scrolled": false
   },
   "outputs": [],
   "source": [
    "OL_Data.dtypes"
   ]
  },
  {
   "cell_type": "markdown",
   "id": "8054dd8d",
   "metadata": {},
   "source": [
    "<h4>Convert Timestamps</h4>"
   ]
  },
  {
   "cell_type": "code",
   "execution_count": null,
   "id": "fa0adb9c",
   "metadata": {
    "scrolled": true
   },
   "outputs": [],
   "source": [
    "for dateCol in ['order_purchase_timestamp',\n",
    "                'order_approved_at',\n",
    "                'order_delivered_carrier_date',\n",
    "                'order_delivered_customer_date', \n",
    "                'order_estimated_delivery_date',\n",
    "                'review_creation_date',\n",
    "                'review_answer_timestamp',\n",
    "                'shipping_limit_date'\n",
    "               ]:\n",
    "    OL_Data[dateCol] = pd.to_datetime(OL_Data[dateCol])"
   ]
  },
  {
   "cell_type": "markdown",
   "id": "b0990663",
   "metadata": {},
   "source": [
    "<h4>Categorical Data Investigation</h4>"
   ]
  },
  {
   "cell_type": "code",
   "execution_count": null,
   "id": "3062ac5b",
   "metadata": {},
   "outputs": [],
   "source": [
    "OL_Data['order_status'].value_counts()"
   ]
  },
  {
   "cell_type": "code",
   "execution_count": null,
   "id": "71ed6ebf",
   "metadata": {
    "scrolled": true
   },
   "outputs": [],
   "source": [
    "OL_Data['payment_type'].value_counts()"
   ]
  },
  {
   "cell_type": "markdown",
   "id": "6e99c0fc",
   "metadata": {},
   "source": [
    "<h4>Numeric Data Investigation</h4>"
   ]
  },
  {
   "cell_type": "code",
   "execution_count": null,
   "id": "58502670",
   "metadata": {},
   "outputs": [],
   "source": [
    "OL_Data['payment_sequential'].value_counts()"
   ]
  },
  {
   "cell_type": "code",
   "execution_count": null,
   "id": "072df7e4",
   "metadata": {},
   "outputs": [],
   "source": [
    "OL_Data['payment_installments'].value_counts()"
   ]
  },
  {
   "cell_type": "code",
   "execution_count": null,
   "id": "869c2b72",
   "metadata": {},
   "outputs": [],
   "source": [
    "OL_Data['payment_value'].value_counts()"
   ]
  },
  {
   "cell_type": "code",
   "execution_count": null,
   "id": "1c6744cb",
   "metadata": {},
   "outputs": [],
   "source": [
    "print(\"{0} null\".format(sum(OL_Data['review_score'].isna())))\n",
    "OL_Data['review_score'].value_counts()"
   ]
  },
  {
   "cell_type": "code",
   "execution_count": null,
   "id": "828f08cf",
   "metadata": {},
   "outputs": [],
   "source": [
    "OL_Data['order_item_id'].value_counts()"
   ]
  },
  {
   "cell_type": "code",
   "execution_count": null,
   "id": "a225d2af",
   "metadata": {},
   "outputs": [],
   "source": [
    "print(OL_Data['price'].describe())"
   ]
  },
  {
   "cell_type": "code",
   "execution_count": null,
   "id": "f3f0c896",
   "metadata": {},
   "outputs": [],
   "source": [
    "print(OL_Data['freight_value'].describe())"
   ]
  },
  {
   "cell_type": "code",
   "execution_count": null,
   "id": "41246b3d",
   "metadata": {},
   "outputs": [],
   "source": [
    "print(OL_Data['product_weight_g'].describe())"
   ]
  },
  {
   "cell_type": "code",
   "execution_count": null,
   "id": "59e98ccd",
   "metadata": {},
   "outputs": [],
   "source": [
    "print(OL_Data['product_length_cm'].describe())\n",
    "print(OL_Data['product_height_cm'].describe())\n",
    "print(OL_Data['product_width_cm'].describe())"
   ]
  },
  {
   "cell_type": "code",
   "execution_count": null,
   "id": "55a085d3",
   "metadata": {
    "scrolled": true
   },
   "outputs": [],
   "source": [
    "print(OL_Data['product_volume_cm3'].describe())\n",
    "print(OL_Data['product_density_g_per_cm3'].describe())"
   ]
  },
  {
   "cell_type": "markdown",
   "id": "a17de7f8",
   "metadata": {},
   "source": [
    "<h4>Location Data Investigation</h4>"
   ]
  },
  {
   "cell_type": "code",
   "execution_count": null,
   "id": "01458390",
   "metadata": {
    "scrolled": true
   },
   "outputs": [],
   "source": [
    "print(OL_Data['seller_zip_code_prefix'])\n",
    "print(OL_Data['customer_zip_code_prefix'])"
   ]
  },
  {
   "cell_type": "markdown",
   "id": "a5ed6a56",
   "metadata": {},
   "source": [
    "<h4>Writing out Data</h4>"
   ]
  },
  {
   "cell_type": "code",
   "execution_count": null,
   "id": "e3a3956f",
   "metadata": {},
   "outputs": [],
   "source": [
    "OL_Data.dtypes"
   ]
  },
  {
   "cell_type": "code",
   "execution_count": null,
   "id": "81e52665",
   "metadata": {},
   "outputs": [],
   "source": [
    "OL_Data.to_csv(\"./OL_Data.csv\")"
   ]
  },
  {
   "cell_type": "markdown",
   "id": "22a546bc",
   "metadata": {},
   "source": [
    "<h3>Generate Columns</h3>"
   ]
  },
  {
   "cell_type": "code",
   "execution_count": null,
   "id": "55d82164",
   "metadata": {},
   "outputs": [],
   "source": [
    "#Total Price and Total Items in Order\n",
    "itemSub = OL_Data[['order_id', 'order_item_id','price','product_id']]\n",
    "itemSub = itemSub.drop_duplicates()\n",
    "itemGroup = itemSub.groupby('order_id', as_index=False).sum()\n",
    "itemGroup['number_of_items'] = itemGroup['order_item_id'].map({0:0,\n",
    "                                                                1:1,\n",
    "                                                                3:2,\n",
    "                                                                6:3,\n",
    "                                                                10:4,\n",
    "                                                                15:5,\n",
    "                                                                21:6,\n",
    "                                                                28:7,\n",
    "                                                                36:8,\n",
    "                                                                45:9,\n",
    "                                                                55:10,\n",
    "                                                                66:11,\n",
    "                                                                78:12,\n",
    "                                                                91:13,\n",
    "                                                                105:14,\n",
    "                                                                120:15,\n",
    "                                                                210:20,\n",
    "                                                                231:21})\n",
    "itemGroup = itemGroup.drop(['order_item_id'],axis=1)\n",
    "itemGroup = itemGroup.rename(columns={\"price\":\"Total_price\"})\n",
    "print(\"itemGroup\")\n",
    "print(itemGroup.head())\n",
    "\n",
    "\n",
    "#Median Payments, useful for installment plans\n",
    "paymentSub = OL_Data[['order_id',\n",
    "                      'payment_value',\n",
    "                      'payment_type',\n",
    "                      'freight_value',\n",
    "                     'payment_sequential']]\n",
    "paymentSub = paymentSub.drop_duplicates()\n",
    "payments = paymentSub[['order_id','payment_value','freight_value']]\n",
    "paymentsMed = payments[['order_id','payment_value']].groupby('order_id', as_index=False).median()\n",
    "paymentsMed = paymentsMed.rename(columns ={\"payment_value\":\"Median_payments\"})\n",
    "print()\n",
    "print(\"paymentsMed\")\n",
    "print(paymentsMed.head())\n",
    "\n",
    "#Total Payments, Total Frieght Cost Value\n",
    "paymentsTot = payments.groupby('order_id', as_index=False).sum()\n",
    "paymentsTot = paymentsTot.rename(columns = {\"payment_value\":\"Total_payment\",\"freight_value\":\"Total_Freight\"})\n",
    "print()\n",
    "print(\"paymentsTot\")\n",
    "print(paymentsTot.head())\n",
    "\n",
    "#Total Weight and Volume of Order\n",
    "ordersSize = OL_Data[['order_id', \n",
    "                        'order_item_id',\n",
    "                        'price',\n",
    "                        'product_id',\n",
    "                        'product_weight_g',\n",
    "                        'product_volume_cm3']]\n",
    "ordersSize = ordersSize.drop_duplicates()\n",
    "ordersSize = ordersSize[['order_id',\n",
    "                         'product_weight_g',\n",
    "                        'product_volume_cm3']].groupby('order_id', as_index=False).sum()\n",
    "ordersSize = ordersSize.rename(columns = {'product_weight_g':'order_weight_g',\n",
    "                                         'product_volume_cm3':'order_volume_cm3'})\n",
    "print()\n",
    "print(\"ordersSize\")\n",
    "print(ordersSize.head())\n",
    "\n",
    "#Payment Type\n",
    "paymentsType = paymentSub[['order_id','payment_sequential','payment_type']]\n",
    "paymentsType = paymentsType.sort_values(by='payment_sequential')[['order_id', 'payment_type']]\n",
    "paymentsType = paymentsType.groupby('order_id', as_index=False).first()\n",
    "print()\n",
    "print(\"paymentsType\")\n",
    "print(paymentsType.head())"
   ]
  },
  {
   "cell_type": "code",
   "execution_count": null,
   "id": "dc913b20",
   "metadata": {},
   "outputs": [],
   "source": [
    "#Merge to Single DataFrame.\n",
    "#An order may still have multiple sellers\n",
    "NonGroupedData = OL_Data[['order_id',  \n",
    "                          'order_status', \n",
    "                          'order_purchase_timestamp',\n",
    "                          'order_approved_at', \n",
    "                          'order_delivered_carrier_date',\n",
    "                          'order_delivered_customer_date', \n",
    "                          'order_estimated_delivery_date',\n",
    "                          'shipping_limit_date',\n",
    "                          'payment_installments',\n",
    "                          'product_category_name_english', \n",
    "                          'seller_id', \n",
    "                          'seller_zip_code_prefix',\n",
    "                          'seller_city', \n",
    "                          'seller_state', \n",
    "                          'seller_latitude', \n",
    "                          'seller_longitude',\n",
    "                          'customer_id',\n",
    "                          'customer_unique_id', \n",
    "                          'customer_zip_code_prefix', \n",
    "                          'customer_city',\n",
    "                          'customer_state', \n",
    "                          'customer_latitude', \n",
    "                          'customer_longitude',\n",
    "                          'review_id', \n",
    "                          'review_score', \n",
    "                          'review_creation_date',\n",
    "                          'review_answer_timestamp']]\n",
    "NonGroupedData= NonGroupedData.drop_duplicates()\n",
    "OrderData = NonGroupedData.merge(itemGroup,on='order_id')\n",
    "OrderData = OrderData.merge(paymentsMed, on='order_id')\n",
    "OrderData = OrderData.merge(paymentsTot, on='order_id')\n",
    "OrderData = OrderData.merge(ordersSize, on='order_id')\n",
    "OrderData = OrderData.merge(paymentsType, on='order_id')"
   ]
  },
  {
   "cell_type": "code",
   "execution_count": null,
   "id": "b612b8b7",
   "metadata": {},
   "outputs": [],
   "source": [
    "#Generate Delivery Features\n",
    "OrderData['Purchase_To_Delivery_Days'] = [x.days for x in OrderData['order_delivered_customer_date']-OrderData['order_purchase_timestamp']]\n",
    "OrderData['Approved_To_Delivery_Days'] = [x.days for x in OrderData['order_delivered_customer_date']-OrderData['order_approved_at']]\n",
    "OrderData['Diff_Est_Delivery_vs_Actual'] = [x.days for x in OrderData['order_delivered_customer_date']-OrderData['order_estimated_delivery_date']]"
   ]
  },
  {
   "cell_type": "markdown",
   "id": "cd555f24",
   "metadata": {},
   "source": [
    "<h4>Write Out Data</h4>"
   ]
  },
  {
   "cell_type": "code",
   "execution_count": null,
   "id": "9d24ff01",
   "metadata": {},
   "outputs": [],
   "source": [
    "OrderData.to_csv(\"./OL_Data_Order_Grouped.csv\")"
   ]
  }
 ],
 "metadata": {
  "kernelspec": {
   "display_name": "Python 3 (ipykernel)",
   "language": "python",
   "name": "python3"
  },
  "language_info": {
   "codemirror_mode": {
    "name": "ipython",
    "version": 3
   },
   "file_extension": ".py",
   "mimetype": "text/x-python",
   "name": "python",
   "nbconvert_exporter": "python",
   "pygments_lexer": "ipython3",
   "version": "3.9.7"
  }
 },
 "nbformat": 4,
 "nbformat_minor": 5
}
